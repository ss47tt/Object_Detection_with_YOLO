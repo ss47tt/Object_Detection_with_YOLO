{
 "cells": [
  {
   "cell_type": "code",
   "execution_count": 1,
   "metadata": {},
   "outputs": [
    {
     "name": "stdout",
     "output_type": "stream",
     "text": [
      "Ultralytics 8.3.15  Python-3.10.15 torch-2.4.1+cu121 CUDA:0 (NVIDIA GeForce RTX 4070 Laptop GPU, 8188MiB)\n",
      "\u001b[34m\u001b[1mengine\\trainer: \u001b[0mtask=detect, mode=train, model=yolo11m.pt, data=C:/Users/User/Desktop/Object_Detection/Pistols/datasets/data.yaml, epochs=100, time=None, patience=100, batch=16, imgsz=416, save=True, save_period=-1, cache=False, device=None, workers=8, project=None, name=datasets7, exist_ok=False, pretrained=True, optimizer=auto, verbose=True, seed=0, deterministic=True, single_cls=False, rect=False, cos_lr=False, close_mosaic=10, resume=False, amp=True, fraction=1.0, profile=False, freeze=None, multi_scale=False, overlap_mask=True, mask_ratio=4, dropout=0.0, val=True, split=val, save_json=False, save_hybrid=False, conf=None, iou=0.7, max_det=300, half=False, dnn=False, plots=True, source=None, vid_stride=1, stream_buffer=False, visualize=False, augment=False, agnostic_nms=False, classes=None, retina_masks=False, embed=None, show=False, save_frames=False, save_txt=False, save_conf=False, save_crop=False, show_labels=True, show_conf=True, show_boxes=True, line_width=None, format=torchscript, keras=False, optimize=False, int8=False, dynamic=False, simplify=True, opset=None, workspace=4, nms=False, lr0=0.01, lrf=0.01, momentum=0.937, weight_decay=0.0005, warmup_epochs=3.0, warmup_momentum=0.8, warmup_bias_lr=0.1, box=7.5, cls=0.5, dfl=1.5, pose=12.0, kobj=1.0, label_smoothing=0.0, nbs=64, hsv_h=0.015, hsv_s=0.7, hsv_v=0.4, degrees=0.0, translate=0.1, scale=0.5, shear=0.0, perspective=0.0, flipud=0.0, fliplr=0.5, bgr=0.0, mosaic=1.0, mixup=0.0, copy_paste=0.0, copy_paste_mode=flip, auto_augment=randaugment, erasing=0.4, crop_fraction=1.0, cfg=None, tracker=botsort.yaml, save_dir=c:\\Users\\User\\runs\\detect\\datasets7\n",
      "Overriding model.yaml nc=80 with nc=1\n",
      "\n",
      "                   from  n    params  module                                       arguments                     \n",
      "  0                  -1  1      1856  ultralytics.nn.modules.conv.Conv             [3, 64, 3, 2]                 \n",
      "  1                  -1  1     73984  ultralytics.nn.modules.conv.Conv             [64, 128, 3, 2]               \n",
      "  2                  -1  1    111872  ultralytics.nn.modules.block.C3k2            [128, 256, 1, True, 0.25]     \n",
      "  3                  -1  1    590336  ultralytics.nn.modules.conv.Conv             [256, 256, 3, 2]              \n",
      "  4                  -1  1    444928  ultralytics.nn.modules.block.C3k2            [256, 512, 1, True, 0.25]     \n",
      "  5                  -1  1   2360320  ultralytics.nn.modules.conv.Conv             [512, 512, 3, 2]              \n",
      "  6                  -1  1   1380352  ultralytics.nn.modules.block.C3k2            [512, 512, 1, True]           \n",
      "  7                  -1  1   2360320  ultralytics.nn.modules.conv.Conv             [512, 512, 3, 2]              \n",
      "  8                  -1  1   1380352  ultralytics.nn.modules.block.C3k2            [512, 512, 1, True]           \n",
      "  9                  -1  1    656896  ultralytics.nn.modules.block.SPPF            [512, 512, 5]                 \n",
      " 10                  -1  1    990976  ultralytics.nn.modules.block.C2PSA           [512, 512, 1]                 \n",
      " 11                  -1  1         0  torch.nn.modules.upsampling.Upsample         [None, 2, 'nearest']          \n",
      " 12             [-1, 6]  1         0  ultralytics.nn.modules.conv.Concat           [1]                           \n",
      " 13                  -1  1   1642496  ultralytics.nn.modules.block.C3k2            [1024, 512, 1, True]          \n",
      " 14                  -1  1         0  torch.nn.modules.upsampling.Upsample         [None, 2, 'nearest']          \n",
      " 15             [-1, 4]  1         0  ultralytics.nn.modules.conv.Concat           [1]                           \n",
      " 16                  -1  1    542720  ultralytics.nn.modules.block.C3k2            [1024, 256, 1, True]          \n",
      " 17                  -1  1    590336  ultralytics.nn.modules.conv.Conv             [256, 256, 3, 2]              \n",
      " 18            [-1, 13]  1         0  ultralytics.nn.modules.conv.Concat           [1]                           \n",
      " 19                  -1  1   1511424  ultralytics.nn.modules.block.C3k2            [768, 512, 1, True]           \n",
      " 20                  -1  1   2360320  ultralytics.nn.modules.conv.Conv             [512, 512, 3, 2]              \n",
      " 21            [-1, 10]  1         0  ultralytics.nn.modules.conv.Concat           [1]                           \n",
      " 22                  -1  1   1642496  ultralytics.nn.modules.block.C3k2            [1024, 512, 1, True]          \n",
      " 23        [16, 19, 22]  1   1411795  ultralytics.nn.modules.head.Detect           [1, [256, 512, 512]]          \n",
      "YOLO11m summary: 409 layers, 20,053,779 parameters, 20,053,763 gradients, 68.2 GFLOPs\n",
      "\n",
      "Transferred 643/649 items from pretrained weights\n",
      "\u001b[34m\u001b[1mTensorBoard: \u001b[0mStart with 'tensorboard --logdir c:\\Users\\User\\runs\\detect\\datasets7', view at http://localhost:6006/\n",
      "Freezing layer 'model.23.dfl.conv.weight'\n",
      "\u001b[34m\u001b[1mAMP: \u001b[0mrunning Automatic Mixed Precision (AMP) checks with YOLO11n...\n",
      "\u001b[34m\u001b[1mAMP: \u001b[0mchecks passed \n"
     ]
    },
    {
     "name": "stderr",
     "output_type": "stream",
     "text": [
      "\u001b[34m\u001b[1mtrain: \u001b[0mScanning C:\\Users\\User\\Desktop\\Object_Detection\\Pistols\\datasets\\train\\labels.cache... 2380 images, 0 backgrounds, 0 corrupt: 100%|██████████| 2380/2380 [00:00<?, ?it/s]\n",
      "\u001b[34m\u001b[1mval: \u001b[0mScanning C:\\Users\\User\\Desktop\\Object_Detection\\Pistols\\datasets\\valid\\labels.cache... 300 images, 0 backgrounds, 0 corrupt: 100%|██████████| 300/300 [00:00<?, ?it/s]\n"
     ]
    },
    {
     "name": "stdout",
     "output_type": "stream",
     "text": [
      "Plotting labels to c:\\Users\\User\\runs\\detect\\datasets7\\labels.jpg... \n",
      "\u001b[34m\u001b[1moptimizer:\u001b[0m 'optimizer=auto' found, ignoring 'lr0=0.01' and 'momentum=0.937' and determining best 'optimizer', 'lr0' and 'momentum' automatically... \n",
      "\u001b[34m\u001b[1moptimizer:\u001b[0m AdamW(lr=0.002, momentum=0.9) with parameter groups 106 weight(decay=0.0), 113 weight(decay=0.0005), 112 bias(decay=0.0)\n",
      "\u001b[34m\u001b[1mTensorBoard: \u001b[0mmodel graph visualization added \n",
      "Image sizes 416 train, 416 val\n",
      "Using 8 dataloader workers\n",
      "Logging results to \u001b[1mc:\\Users\\User\\runs\\detect\\datasets7\u001b[0m\n",
      "Starting training for 100 epochs...\n",
      "\n",
      "      Epoch    GPU_mem   box_loss   cls_loss   dfl_loss  Instances       Size\n"
     ]
    },
    {
     "name": "stderr",
     "output_type": "stream",
     "text": [
      "      1/100      3.98G      1.386      1.728      1.571         33        416: 100%|██████████| 149/149 [00:29<00:00,  5.04it/s]\n",
      "                 Class     Images  Instances      Box(P          R      mAP50  mAP50-95): 100%|██████████| 10/10 [00:01<00:00,  5.88it/s]"
     ]
    },
    {
     "name": "stdout",
     "output_type": "stream",
     "text": [
      "                   all        300        302     0.0771      0.288     0.0375    0.00809\n"
     ]
    },
    {
     "name": "stderr",
     "output_type": "stream",
     "text": [
      "\n"
     ]
    },
    {
     "name": "stdout",
     "output_type": "stream",
     "text": [
      "\n",
      "      Epoch    GPU_mem   box_loss   cls_loss   dfl_loss  Instances       Size\n"
     ]
    },
    {
     "name": "stderr",
     "output_type": "stream",
     "text": [
      "      2/100      3.93G      1.691      1.948      1.756         27        416: 100%|██████████| 149/149 [00:26<00:00,  5.57it/s]\n",
      "                 Class     Images  Instances      Box(P          R      mAP50  mAP50-95): 100%|██████████| 10/10 [00:01<00:00,  6.04it/s]"
     ]
    },
    {
     "name": "stdout",
     "output_type": "stream",
     "text": [
      "                   all        300        302      0.155      0.599      0.126     0.0329\n"
     ]
    },
    {
     "name": "stderr",
     "output_type": "stream",
     "text": [
      "\n"
     ]
    },
    {
     "name": "stdout",
     "output_type": "stream",
     "text": [
      "\n",
      "      Epoch    GPU_mem   box_loss   cls_loss   dfl_loss  Instances       Size\n"
     ]
    },
    {
     "name": "stderr",
     "output_type": "stream",
     "text": [
      "      3/100      3.93G      1.608      1.922      1.688         28        416: 100%|██████████| 149/149 [00:26<00:00,  5.66it/s]\n",
      "                 Class     Images  Instances      Box(P          R      mAP50  mAP50-95): 100%|██████████| 10/10 [00:01<00:00,  5.87it/s]"
     ]
    },
    {
     "name": "stdout",
     "output_type": "stream",
     "text": [
      "                   all        300        302      0.556      0.803      0.752      0.428\n"
     ]
    },
    {
     "name": "stderr",
     "output_type": "stream",
     "text": [
      "\n"
     ]
    },
    {
     "name": "stdout",
     "output_type": "stream",
     "text": [
      "\n",
      "      Epoch    GPU_mem   box_loss   cls_loss   dfl_loss  Instances       Size\n"
     ]
    },
    {
     "name": "stderr",
     "output_type": "stream",
     "text": [
      "      4/100      3.95G      1.501      1.774      1.601         16        416: 100%|██████████| 149/149 [00:26<00:00,  5.68it/s]\n",
      "                 Class     Images  Instances      Box(P          R      mAP50  mAP50-95): 100%|██████████| 10/10 [00:01<00:00,  5.75it/s]"
     ]
    },
    {
     "name": "stdout",
     "output_type": "stream",
     "text": [
      "                   all        300        302      0.963      0.953       0.98      0.705\n"
     ]
    },
    {
     "name": "stderr",
     "output_type": "stream",
     "text": [
      "\n"
     ]
    },
    {
     "name": "stdout",
     "output_type": "stream",
     "text": [
      "\n",
      "      Epoch    GPU_mem   box_loss   cls_loss   dfl_loss  Instances       Size\n"
     ]
    },
    {
     "name": "stderr",
     "output_type": "stream",
     "text": [
      "      5/100      3.95G      1.434      1.702      1.568         37        416: 100%|██████████| 149/149 [00:26<00:00,  5.69it/s]\n",
      "                 Class     Images  Instances      Box(P          R      mAP50  mAP50-95): 100%|██████████| 10/10 [00:01<00:00,  6.07it/s]"
     ]
    },
    {
     "name": "stdout",
     "output_type": "stream",
     "text": [
      "                   all        300        302      0.764      0.659      0.641      0.399\n"
     ]
    },
    {
     "name": "stderr",
     "output_type": "stream",
     "text": [
      "\n"
     ]
    },
    {
     "name": "stdout",
     "output_type": "stream",
     "text": [
      "\n",
      "      Epoch    GPU_mem   box_loss   cls_loss   dfl_loss  Instances       Size\n"
     ]
    },
    {
     "name": "stderr",
     "output_type": "stream",
     "text": [
      "      6/100       3.9G      1.364      1.614      1.522         22        416: 100%|██████████| 149/149 [00:26<00:00,  5.66it/s]\n",
      "                 Class     Images  Instances      Box(P          R      mAP50  mAP50-95): 100%|██████████| 10/10 [00:01<00:00,  5.77it/s]"
     ]
    },
    {
     "name": "stdout",
     "output_type": "stream",
     "text": [
      "                   all        300        302      0.883      0.967      0.972      0.807\n"
     ]
    },
    {
     "name": "stderr",
     "output_type": "stream",
     "text": [
      "\n"
     ]
    },
    {
     "name": "stdout",
     "output_type": "stream",
     "text": [
      "\n",
      "      Epoch    GPU_mem   box_loss   cls_loss   dfl_loss  Instances       Size\n"
     ]
    },
    {
     "name": "stderr",
     "output_type": "stream",
     "text": [
      "      7/100      3.98G      1.313      1.549      1.492         26        416: 100%|██████████| 149/149 [00:26<00:00,  5.59it/s]\n",
      "                 Class     Images  Instances      Box(P          R      mAP50  mAP50-95): 100%|██████████| 10/10 [00:01<00:00,  5.98it/s]"
     ]
    },
    {
     "name": "stdout",
     "output_type": "stream",
     "text": [
      "                   all        300        302      0.855      0.785      0.859      0.538\n"
     ]
    },
    {
     "name": "stderr",
     "output_type": "stream",
     "text": [
      "\n"
     ]
    },
    {
     "name": "stdout",
     "output_type": "stream",
     "text": [
      "\n",
      "      Epoch    GPU_mem   box_loss   cls_loss   dfl_loss  Instances       Size\n"
     ]
    },
    {
     "name": "stderr",
     "output_type": "stream",
     "text": [
      "      8/100      3.95G       1.28      1.514      1.474         18        416: 100%|██████████| 149/149 [00:26<00:00,  5.62it/s]\n",
      "                 Class     Images  Instances      Box(P          R      mAP50  mAP50-95): 100%|██████████| 10/10 [00:01<00:00,  5.87it/s]"
     ]
    },
    {
     "name": "stdout",
     "output_type": "stream",
     "text": [
      "                   all        300        302      0.989      0.987      0.993      0.889\n"
     ]
    },
    {
     "name": "stderr",
     "output_type": "stream",
     "text": [
      "\n"
     ]
    },
    {
     "name": "stdout",
     "output_type": "stream",
     "text": [
      "\n",
      "      Epoch    GPU_mem   box_loss   cls_loss   dfl_loss  Instances       Size\n"
     ]
    },
    {
     "name": "stderr",
     "output_type": "stream",
     "text": [
      "      9/100      3.94G      1.267       1.47       1.46         39        416: 100%|██████████| 149/149 [00:26<00:00,  5.61it/s]\n",
      "                 Class     Images  Instances      Box(P          R      mAP50  mAP50-95): 100%|██████████| 10/10 [00:01<00:00,  6.07it/s]"
     ]
    },
    {
     "name": "stdout",
     "output_type": "stream",
     "text": [
      "                   all        300        302      0.938      0.954      0.982      0.801\n"
     ]
    },
    {
     "name": "stderr",
     "output_type": "stream",
     "text": [
      "\n"
     ]
    },
    {
     "name": "stdout",
     "output_type": "stream",
     "text": [
      "\n",
      "      Epoch    GPU_mem   box_loss   cls_loss   dfl_loss  Instances       Size\n"
     ]
    },
    {
     "name": "stderr",
     "output_type": "stream",
     "text": [
      "     10/100       3.9G      1.211      1.399      1.436         32        416: 100%|██████████| 149/149 [00:26<00:00,  5.63it/s]\n",
      "                 Class     Images  Instances      Box(P          R      mAP50  mAP50-95): 100%|██████████| 10/10 [00:01<00:00,  5.79it/s]"
     ]
    },
    {
     "name": "stdout",
     "output_type": "stream",
     "text": [
      "                   all        300        302      0.961      0.964      0.989      0.892\n"
     ]
    },
    {
     "name": "stderr",
     "output_type": "stream",
     "text": [
      "\n"
     ]
    },
    {
     "name": "stdout",
     "output_type": "stream",
     "text": [
      "\n",
      "      Epoch    GPU_mem   box_loss   cls_loss   dfl_loss  Instances       Size\n"
     ]
    },
    {
     "name": "stderr",
     "output_type": "stream",
     "text": [
      "     11/100      3.98G      1.203      1.371      1.415         36        416: 100%|██████████| 149/149 [00:26<00:00,  5.62it/s]\n",
      "                 Class     Images  Instances      Box(P          R      mAP50  mAP50-95): 100%|██████████| 10/10 [00:01<00:00,  5.88it/s]"
     ]
    },
    {
     "name": "stdout",
     "output_type": "stream",
     "text": [
      "                   all        300        302       0.98       0.97      0.993      0.886\n"
     ]
    },
    {
     "name": "stderr",
     "output_type": "stream",
     "text": [
      "\n"
     ]
    },
    {
     "name": "stdout",
     "output_type": "stream",
     "text": [
      "\n",
      "      Epoch    GPU_mem   box_loss   cls_loss   dfl_loss  Instances       Size\n"
     ]
    },
    {
     "name": "stderr",
     "output_type": "stream",
     "text": [
      "     12/100      3.95G      1.184      1.358      1.402         27        416: 100%|██████████| 149/149 [00:26<00:00,  5.58it/s]\n",
      "                 Class     Images  Instances      Box(P          R      mAP50  mAP50-95): 100%|██████████| 10/10 [00:01<00:00,  5.46it/s]"
     ]
    },
    {
     "name": "stdout",
     "output_type": "stream",
     "text": [
      "                   all        300        302      0.951       0.99      0.991      0.838\n"
     ]
    },
    {
     "name": "stderr",
     "output_type": "stream",
     "text": [
      "\n"
     ]
    },
    {
     "name": "stdout",
     "output_type": "stream",
     "text": [
      "\n",
      "      Epoch    GPU_mem   box_loss   cls_loss   dfl_loss  Instances       Size\n"
     ]
    },
    {
     "name": "stderr",
     "output_type": "stream",
     "text": [
      "     13/100      3.94G      1.141      1.302      1.376         25        416: 100%|██████████| 149/149 [00:26<00:00,  5.61it/s]\n",
      "                 Class     Images  Instances      Box(P          R      mAP50  mAP50-95): 100%|██████████| 10/10 [00:01<00:00,  6.01it/s]"
     ]
    },
    {
     "name": "stdout",
     "output_type": "stream",
     "text": [
      "                   all        300        302       0.99      0.982      0.995      0.905\n"
     ]
    },
    {
     "name": "stderr",
     "output_type": "stream",
     "text": [
      "\n"
     ]
    },
    {
     "name": "stdout",
     "output_type": "stream",
     "text": [
      "\n",
      "      Epoch    GPU_mem   box_loss   cls_loss   dfl_loss  Instances       Size\n"
     ]
    },
    {
     "name": "stderr",
     "output_type": "stream",
     "text": [
      "     14/100       3.9G      1.115      1.268      1.356         29        416: 100%|██████████| 149/149 [00:26<00:00,  5.63it/s]\n",
      "                 Class     Images  Instances      Box(P          R      mAP50  mAP50-95): 100%|██████████| 10/10 [00:01<00:00,  5.81it/s]"
     ]
    },
    {
     "name": "stdout",
     "output_type": "stream",
     "text": [
      "                   all        300        302       0.99      0.986      0.994      0.923\n"
     ]
    },
    {
     "name": "stderr",
     "output_type": "stream",
     "text": [
      "\n"
     ]
    },
    {
     "name": "stdout",
     "output_type": "stream",
     "text": [
      "\n",
      "      Epoch    GPU_mem   box_loss   cls_loss   dfl_loss  Instances       Size\n"
     ]
    },
    {
     "name": "stderr",
     "output_type": "stream",
     "text": [
      "     15/100      3.97G      1.127      1.265      1.369         23        416: 100%|██████████| 149/149 [00:26<00:00,  5.59it/s]\n",
      "                 Class     Images  Instances      Box(P          R      mAP50  mAP50-95): 100%|██████████| 10/10 [00:01<00:00,  5.72it/s]"
     ]
    },
    {
     "name": "stdout",
     "output_type": "stream",
     "text": [
      "                   all        300        302      0.969       0.98       0.99      0.888\n"
     ]
    },
    {
     "name": "stderr",
     "output_type": "stream",
     "text": [
      "\n"
     ]
    },
    {
     "name": "stdout",
     "output_type": "stream",
     "text": [
      "\n",
      "      Epoch    GPU_mem   box_loss   cls_loss   dfl_loss  Instances       Size\n"
     ]
    },
    {
     "name": "stderr",
     "output_type": "stream",
     "text": [
      "     16/100      3.95G      1.111      1.243      1.351         25        416: 100%|██████████| 149/149 [00:26<00:00,  5.64it/s]\n",
      "                 Class     Images  Instances      Box(P          R      mAP50  mAP50-95): 100%|██████████| 10/10 [00:01<00:00,  6.01it/s]"
     ]
    },
    {
     "name": "stdout",
     "output_type": "stream",
     "text": [
      "                   all        300        302      0.979      0.983      0.994      0.899\n"
     ]
    },
    {
     "name": "stderr",
     "output_type": "stream",
     "text": [
      "\n"
     ]
    },
    {
     "name": "stdout",
     "output_type": "stream",
     "text": [
      "\n",
      "      Epoch    GPU_mem   box_loss   cls_loss   dfl_loss  Instances       Size\n"
     ]
    },
    {
     "name": "stderr",
     "output_type": "stream",
     "text": [
      "     17/100      3.94G      1.097      1.223      1.338         24        416: 100%|██████████| 149/149 [00:26<00:00,  5.54it/s]\n",
      "                 Class     Images  Instances      Box(P          R      mAP50  mAP50-95): 100%|██████████| 10/10 [00:01<00:00,  6.05it/s]"
     ]
    },
    {
     "name": "stdout",
     "output_type": "stream",
     "text": [
      "                   all        300        302      0.972       0.98      0.994      0.889\n"
     ]
    },
    {
     "name": "stderr",
     "output_type": "stream",
     "text": [
      "\n"
     ]
    },
    {
     "name": "stdout",
     "output_type": "stream",
     "text": [
      "\n",
      "      Epoch    GPU_mem   box_loss   cls_loss   dfl_loss  Instances       Size\n"
     ]
    },
    {
     "name": "stderr",
     "output_type": "stream",
     "text": [
      "     18/100       3.9G      1.109      1.226      1.346         29        416: 100%|██████████| 149/149 [00:26<00:00,  5.56it/s]\n",
      "                 Class     Images  Instances      Box(P          R      mAP50  mAP50-95): 100%|██████████| 10/10 [00:01<00:00,  5.92it/s]"
     ]
    },
    {
     "name": "stdout",
     "output_type": "stream",
     "text": [
      "                   all        300        302       0.98      0.982      0.993      0.896\n"
     ]
    },
    {
     "name": "stderr",
     "output_type": "stream",
     "text": [
      "\n"
     ]
    },
    {
     "name": "stdout",
     "output_type": "stream",
     "text": [
      "\n",
      "      Epoch    GPU_mem   box_loss   cls_loss   dfl_loss  Instances       Size\n"
     ]
    },
    {
     "name": "stderr",
     "output_type": "stream",
     "text": [
      "     19/100      3.98G      1.071      1.189      1.326         34        416: 100%|██████████| 149/149 [00:36<00:00,  4.07it/s]\n",
      "                 Class     Images  Instances      Box(P          R      mAP50  mAP50-95): 100%|██████████| 10/10 [00:04<00:00,  2.31it/s]"
     ]
    },
    {
     "name": "stdout",
     "output_type": "stream",
     "text": [
      "                   all        300        302      0.999       0.98      0.995      0.933\n"
     ]
    },
    {
     "name": "stderr",
     "output_type": "stream",
     "text": [
      "\n"
     ]
    },
    {
     "name": "stdout",
     "output_type": "stream",
     "text": [
      "\n",
      "      Epoch    GPU_mem   box_loss   cls_loss   dfl_loss  Instances       Size\n"
     ]
    },
    {
     "name": "stderr",
     "output_type": "stream",
     "text": [
      "     20/100      3.95G      1.067      1.184      1.328         22        416: 100%|██████████| 149/149 [00:54<00:00,  2.72it/s]\n",
      "                 Class     Images  Instances      Box(P          R      mAP50  mAP50-95): 100%|██████████| 10/10 [00:04<00:00,  2.28it/s]"
     ]
    },
    {
     "name": "stdout",
     "output_type": "stream",
     "text": [
      "                   all        300        302       0.97      0.956      0.991      0.905\n"
     ]
    },
    {
     "name": "stderr",
     "output_type": "stream",
     "text": [
      "\n"
     ]
    },
    {
     "name": "stdout",
     "output_type": "stream",
     "text": [
      "\n",
      "      Epoch    GPU_mem   box_loss   cls_loss   dfl_loss  Instances       Size\n"
     ]
    },
    {
     "name": "stderr",
     "output_type": "stream",
     "text": [
      "     21/100      3.95G      1.045      1.141      1.303         29        416: 100%|██████████| 149/149 [00:54<00:00,  2.71it/s]\n",
      "                 Class     Images  Instances      Box(P          R      mAP50  mAP50-95): 100%|██████████| 10/10 [00:04<00:00,  2.27it/s]"
     ]
    },
    {
     "name": "stdout",
     "output_type": "stream",
     "text": [
      "                   all        300        302      0.997      0.979      0.995      0.897\n"
     ]
    },
    {
     "name": "stderr",
     "output_type": "stream",
     "text": [
      "\n"
     ]
    },
    {
     "name": "stdout",
     "output_type": "stream",
     "text": [
      "\n",
      "      Epoch    GPU_mem   box_loss   cls_loss   dfl_loss  Instances       Size\n"
     ]
    },
    {
     "name": "stderr",
     "output_type": "stream",
     "text": [
      "     22/100      3.89G       1.03      1.134      1.304         24        416: 100%|██████████| 149/149 [00:55<00:00,  2.67it/s]\n",
      "                 Class     Images  Instances      Box(P          R      mAP50  mAP50-95): 100%|██████████| 10/10 [00:04<00:00,  2.27it/s]"
     ]
    },
    {
     "name": "stdout",
     "output_type": "stream",
     "text": [
      "                   all        300        302      0.996      0.987      0.995      0.924\n"
     ]
    },
    {
     "name": "stderr",
     "output_type": "stream",
     "text": [
      "\n"
     ]
    },
    {
     "name": "stdout",
     "output_type": "stream",
     "text": [
      "\n",
      "      Epoch    GPU_mem   box_loss   cls_loss   dfl_loss  Instances       Size\n"
     ]
    },
    {
     "name": "stderr",
     "output_type": "stream",
     "text": [
      "     23/100      3.98G      1.031      1.109      1.296         27        416: 100%|██████████| 149/149 [00:56<00:00,  2.65it/s]\n",
      "                 Class     Images  Instances      Box(P          R      mAP50  mAP50-95): 100%|██████████| 10/10 [00:04<00:00,  2.24it/s]"
     ]
    },
    {
     "name": "stdout",
     "output_type": "stream",
     "text": [
      "                   all        300        302      0.978      0.987      0.995      0.932\n"
     ]
    },
    {
     "name": "stderr",
     "output_type": "stream",
     "text": [
      "\n"
     ]
    },
    {
     "name": "stdout",
     "output_type": "stream",
     "text": [
      "\n",
      "      Epoch    GPU_mem   box_loss   cls_loss   dfl_loss  Instances       Size\n"
     ]
    },
    {
     "name": "stderr",
     "output_type": "stream",
     "text": [
      "     24/100      3.94G      1.024      1.087      1.291         37        416: 100%|██████████| 149/149 [00:55<00:00,  2.69it/s]\n",
      "                 Class     Images  Instances      Box(P          R      mAP50  mAP50-95): 100%|██████████| 10/10 [00:04<00:00,  2.27it/s]"
     ]
    },
    {
     "name": "stdout",
     "output_type": "stream",
     "text": [
      "                   all        300        302      0.989      0.993      0.995      0.939\n"
     ]
    },
    {
     "name": "stderr",
     "output_type": "stream",
     "text": [
      "\n"
     ]
    },
    {
     "name": "stdout",
     "output_type": "stream",
     "text": [
      "\n",
      "      Epoch    GPU_mem   box_loss   cls_loss   dfl_loss  Instances       Size\n"
     ]
    },
    {
     "name": "stderr",
     "output_type": "stream",
     "text": [
      "     25/100      3.94G     0.9932      1.069      1.276         27        416: 100%|██████████| 149/149 [00:56<00:00,  2.66it/s]\n",
      "                 Class     Images  Instances      Box(P          R      mAP50  mAP50-95): 100%|██████████| 10/10 [00:04<00:00,  2.23it/s]"
     ]
    },
    {
     "name": "stdout",
     "output_type": "stream",
     "text": [
      "                   all        300        302      0.942      0.974       0.99      0.922\n"
     ]
    },
    {
     "name": "stderr",
     "output_type": "stream",
     "text": [
      "\n"
     ]
    },
    {
     "name": "stdout",
     "output_type": "stream",
     "text": [
      "\n",
      "      Epoch    GPU_mem   box_loss   cls_loss   dfl_loss  Instances       Size\n"
     ]
    },
    {
     "name": "stderr",
     "output_type": "stream",
     "text": [
      "     26/100       3.9G      1.007      1.064      1.281         34        416: 100%|██████████| 149/149 [00:55<00:00,  2.67it/s]\n",
      "                 Class     Images  Instances      Box(P          R      mAP50  mAP50-95): 100%|██████████| 10/10 [00:04<00:00,  2.21it/s]"
     ]
    },
    {
     "name": "stdout",
     "output_type": "stream",
     "text": [
      "                   all        300        302      0.998      0.987      0.994       0.92\n"
     ]
    },
    {
     "name": "stderr",
     "output_type": "stream",
     "text": [
      "\n"
     ]
    },
    {
     "name": "stdout",
     "output_type": "stream",
     "text": [
      "\n",
      "      Epoch    GPU_mem   box_loss   cls_loss   dfl_loss  Instances       Size\n"
     ]
    },
    {
     "name": "stderr",
     "output_type": "stream",
     "text": [
      "     27/100      3.98G     0.9997      1.085       1.27         27        416: 100%|██████████| 149/149 [00:56<00:00,  2.65it/s]\n",
      "                 Class     Images  Instances      Box(P          R      mAP50  mAP50-95): 100%|██████████| 10/10 [00:04<00:00,  2.23it/s]"
     ]
    },
    {
     "name": "stdout",
     "output_type": "stream",
     "text": [
      "                   all        300        302      0.989      0.983      0.995      0.919\n"
     ]
    },
    {
     "name": "stderr",
     "output_type": "stream",
     "text": [
      "\n"
     ]
    },
    {
     "name": "stdout",
     "output_type": "stream",
     "text": [
      "\n",
      "      Epoch    GPU_mem   box_loss   cls_loss   dfl_loss  Instances       Size\n"
     ]
    },
    {
     "name": "stderr",
     "output_type": "stream",
     "text": [
      "     28/100      3.95G     0.9982      1.052      1.277         36        416: 100%|██████████| 149/149 [00:55<00:00,  2.67it/s]\n",
      "                 Class     Images  Instances      Box(P          R      mAP50  mAP50-95): 100%|██████████| 10/10 [00:04<00:00,  2.22it/s]"
     ]
    },
    {
     "name": "stdout",
     "output_type": "stream",
     "text": [
      "                   all        300        302      0.988      0.983      0.991      0.905\n"
     ]
    },
    {
     "name": "stderr",
     "output_type": "stream",
     "text": [
      "\n"
     ]
    },
    {
     "name": "stdout",
     "output_type": "stream",
     "text": [
      "\n",
      "      Epoch    GPU_mem   box_loss   cls_loss   dfl_loss  Instances       Size\n"
     ]
    },
    {
     "name": "stderr",
     "output_type": "stream",
     "text": [
      "     29/100      3.94G      1.001      1.075      1.281         29        416: 100%|██████████| 149/149 [00:56<00:00,  2.66it/s]\n",
      "                 Class     Images  Instances      Box(P          R      mAP50  mAP50-95): 100%|██████████| 10/10 [00:04<00:00,  2.34it/s]"
     ]
    },
    {
     "name": "stdout",
     "output_type": "stream",
     "text": [
      "                   all        300        302      0.986      0.987      0.995      0.921\n"
     ]
    },
    {
     "name": "stderr",
     "output_type": "stream",
     "text": [
      "\n"
     ]
    },
    {
     "name": "stdout",
     "output_type": "stream",
     "text": [
      "\n",
      "      Epoch    GPU_mem   box_loss   cls_loss   dfl_loss  Instances       Size\n"
     ]
    },
    {
     "name": "stderr",
     "output_type": "stream",
     "text": [
      "     30/100       3.9G     0.9923      1.033      1.263         26        416: 100%|██████████| 149/149 [00:55<00:00,  2.70it/s]\n",
      "                 Class     Images  Instances      Box(P          R      mAP50  mAP50-95): 100%|██████████| 10/10 [00:04<00:00,  2.24it/s]"
     ]
    },
    {
     "name": "stdout",
     "output_type": "stream",
     "text": [
      "                   all        300        302      0.996      0.983      0.995      0.948\n"
     ]
    },
    {
     "name": "stderr",
     "output_type": "stream",
     "text": [
      "\n"
     ]
    },
    {
     "name": "stdout",
     "output_type": "stream",
     "text": [
      "\n",
      "      Epoch    GPU_mem   box_loss   cls_loss   dfl_loss  Instances       Size\n"
     ]
    },
    {
     "name": "stderr",
     "output_type": "stream",
     "text": [
      "     31/100      3.99G     0.9782      1.039      1.263         31        416: 100%|██████████| 149/149 [00:55<00:00,  2.69it/s]\n",
      "                 Class     Images  Instances      Box(P          R      mAP50  mAP50-95): 100%|██████████| 10/10 [00:04<00:00,  2.24it/s]"
     ]
    },
    {
     "name": "stdout",
     "output_type": "stream",
     "text": [
      "                   all        300        302      0.997      0.986      0.995      0.934\n"
     ]
    },
    {
     "name": "stderr",
     "output_type": "stream",
     "text": [
      "\n"
     ]
    },
    {
     "name": "stdout",
     "output_type": "stream",
     "text": [
      "\n",
      "      Epoch    GPU_mem   box_loss   cls_loss   dfl_loss  Instances       Size\n"
     ]
    },
    {
     "name": "stderr",
     "output_type": "stream",
     "text": [
      "     32/100      3.94G     0.9822      1.037      1.272         30        416: 100%|██████████| 149/149 [00:55<00:00,  2.68it/s]\n",
      "                 Class     Images  Instances      Box(P          R      mAP50  mAP50-95): 100%|██████████| 10/10 [00:04<00:00,  2.27it/s]"
     ]
    },
    {
     "name": "stdout",
     "output_type": "stream",
     "text": [
      "                   all        300        302      0.997      0.985      0.995      0.916\n"
     ]
    },
    {
     "name": "stderr",
     "output_type": "stream",
     "text": [
      "\n"
     ]
    },
    {
     "name": "stdout",
     "output_type": "stream",
     "text": [
      "\n",
      "      Epoch    GPU_mem   box_loss   cls_loss   dfl_loss  Instances       Size\n"
     ]
    },
    {
     "name": "stderr",
     "output_type": "stream",
     "text": [
      "     33/100      3.94G     0.9712       1.01      1.256         31        416: 100%|██████████| 149/149 [00:55<00:00,  2.68it/s]\n",
      "                 Class     Images  Instances      Box(P          R      mAP50  mAP50-95): 100%|██████████| 10/10 [00:04<00:00,  2.24it/s]"
     ]
    },
    {
     "name": "stdout",
     "output_type": "stream",
     "text": [
      "                   all        300        302       0.99      0.987      0.994      0.914\n"
     ]
    },
    {
     "name": "stderr",
     "output_type": "stream",
     "text": [
      "\n"
     ]
    },
    {
     "name": "stdout",
     "output_type": "stream",
     "text": [
      "\n",
      "      Epoch    GPU_mem   box_loss   cls_loss   dfl_loss  Instances       Size\n"
     ]
    },
    {
     "name": "stderr",
     "output_type": "stream",
     "text": [
      "     34/100      3.91G     0.9603      1.015       1.25         30        416: 100%|██████████| 149/149 [00:35<00:00,  4.23it/s]\n",
      "                 Class     Images  Instances      Box(P          R      mAP50  mAP50-95): 100%|██████████| 10/10 [00:04<00:00,  2.13it/s]"
     ]
    },
    {
     "name": "stdout",
     "output_type": "stream",
     "text": [
      "                   all        300        302       0.98      0.983      0.995      0.944\n"
     ]
    },
    {
     "name": "stderr",
     "output_type": "stream",
     "text": [
      "\n"
     ]
    },
    {
     "name": "stdout",
     "output_type": "stream",
     "text": [
      "\n",
      "      Epoch    GPU_mem   box_loss   cls_loss   dfl_loss  Instances       Size\n"
     ]
    },
    {
     "name": "stderr",
     "output_type": "stream",
     "text": [
      "     35/100      3.99G     0.9568       0.98      1.249         24        416: 100%|██████████| 149/149 [01:01<00:00,  2.44it/s]\n",
      "                 Class     Images  Instances      Box(P          R      mAP50  mAP50-95): 100%|██████████| 10/10 [00:04<00:00,  2.11it/s]"
     ]
    },
    {
     "name": "stdout",
     "output_type": "stream",
     "text": [
      "                   all        300        302      0.995       0.98      0.994      0.945\n"
     ]
    },
    {
     "name": "stderr",
     "output_type": "stream",
     "text": [
      "\n"
     ]
    },
    {
     "name": "stdout",
     "output_type": "stream",
     "text": [
      "\n",
      "      Epoch    GPU_mem   box_loss   cls_loss   dfl_loss  Instances       Size\n"
     ]
    },
    {
     "name": "stderr",
     "output_type": "stream",
     "text": [
      "     36/100      3.96G     0.9231     0.9555      1.228         29        416: 100%|██████████| 149/149 [01:01<00:00,  2.41it/s]\n",
      "                 Class     Images  Instances      Box(P          R      mAP50  mAP50-95): 100%|██████████| 10/10 [00:04<00:00,  2.09it/s]"
     ]
    },
    {
     "name": "stdout",
     "output_type": "stream",
     "text": [
      "                   all        300        302      0.996      0.993      0.995      0.924\n"
     ]
    },
    {
     "name": "stderr",
     "output_type": "stream",
     "text": [
      "\n"
     ]
    },
    {
     "name": "stdout",
     "output_type": "stream",
     "text": [
      "\n",
      "      Epoch    GPU_mem   box_loss   cls_loss   dfl_loss  Instances       Size\n"
     ]
    },
    {
     "name": "stderr",
     "output_type": "stream",
     "text": [
      "     37/100      3.96G     0.9313     0.9652      1.229         32        416: 100%|██████████| 149/149 [00:41<00:00,  3.56it/s]\n",
      "                 Class     Images  Instances      Box(P          R      mAP50  mAP50-95): 100%|██████████| 10/10 [00:01<00:00,  5.97it/s]"
     ]
    },
    {
     "name": "stdout",
     "output_type": "stream",
     "text": [
      "                   all        300        302      0.989       0.98      0.993      0.929\n"
     ]
    },
    {
     "name": "stderr",
     "output_type": "stream",
     "text": [
      "\n"
     ]
    },
    {
     "name": "stdout",
     "output_type": "stream",
     "text": [
      "\n",
      "      Epoch    GPU_mem   box_loss   cls_loss   dfl_loss  Instances       Size\n"
     ]
    },
    {
     "name": "stderr",
     "output_type": "stream",
     "text": [
      "     38/100       3.9G      0.949     0.9705      1.243         28        416: 100%|██████████| 149/149 [00:26<00:00,  5.56it/s]\n",
      "                 Class     Images  Instances      Box(P          R      mAP50  mAP50-95): 100%|██████████| 10/10 [00:01<00:00,  6.05it/s]"
     ]
    },
    {
     "name": "stdout",
     "output_type": "stream",
     "text": [
      "                   all        300        302       0.99      0.987      0.995      0.949\n"
     ]
    },
    {
     "name": "stderr",
     "output_type": "stream",
     "text": [
      "\n"
     ]
    },
    {
     "name": "stdout",
     "output_type": "stream",
     "text": [
      "\n",
      "      Epoch    GPU_mem   box_loss   cls_loss   dfl_loss  Instances       Size\n"
     ]
    },
    {
     "name": "stderr",
     "output_type": "stream",
     "text": [
      "     39/100      3.98G     0.9328     0.9399      1.232         29        416: 100%|██████████| 149/149 [00:26<00:00,  5.61it/s]\n",
      "                 Class     Images  Instances      Box(P          R      mAP50  mAP50-95): 100%|██████████| 10/10 [00:01<00:00,  5.84it/s]"
     ]
    },
    {
     "name": "stdout",
     "output_type": "stream",
     "text": [
      "                   all        300        302       0.99      0.989      0.995      0.948\n"
     ]
    },
    {
     "name": "stderr",
     "output_type": "stream",
     "text": [
      "\n"
     ]
    },
    {
     "name": "stdout",
     "output_type": "stream",
     "text": [
      "\n",
      "      Epoch    GPU_mem   box_loss   cls_loss   dfl_loss  Instances       Size\n"
     ]
    },
    {
     "name": "stderr",
     "output_type": "stream",
     "text": [
      "     40/100      3.95G     0.9205     0.9364      1.226         32        416: 100%|██████████| 149/149 [00:26<00:00,  5.56it/s]\n",
      "                 Class     Images  Instances      Box(P          R      mAP50  mAP50-95): 100%|██████████| 10/10 [00:01<00:00,  5.81it/s]"
     ]
    },
    {
     "name": "stdout",
     "output_type": "stream",
     "text": [
      "                   all        300        302      0.992      0.987      0.995      0.938\n"
     ]
    },
    {
     "name": "stderr",
     "output_type": "stream",
     "text": [
      "\n"
     ]
    },
    {
     "name": "stdout",
     "output_type": "stream",
     "text": [
      "\n",
      "      Epoch    GPU_mem   box_loss   cls_loss   dfl_loss  Instances       Size\n"
     ]
    },
    {
     "name": "stderr",
     "output_type": "stream",
     "text": [
      "     41/100      3.94G     0.9159     0.9169      1.221         33        416: 100%|██████████| 149/149 [00:26<00:00,  5.56it/s]\n",
      "                 Class     Images  Instances      Box(P          R      mAP50  mAP50-95): 100%|██████████| 10/10 [00:01<00:00,  5.84it/s]"
     ]
    },
    {
     "name": "stdout",
     "output_type": "stream",
     "text": [
      "                   all        300        302       0.99      0.992      0.995      0.946\n"
     ]
    },
    {
     "name": "stderr",
     "output_type": "stream",
     "text": [
      "\n"
     ]
    },
    {
     "name": "stdout",
     "output_type": "stream",
     "text": [
      "\n",
      "      Epoch    GPU_mem   box_loss   cls_loss   dfl_loss  Instances       Size\n"
     ]
    },
    {
     "name": "stderr",
     "output_type": "stream",
     "text": [
      "     42/100       3.9G     0.9253     0.9304      1.222         27        416: 100%|██████████| 149/149 [00:26<00:00,  5.56it/s]\n",
      "                 Class     Images  Instances      Box(P          R      mAP50  mAP50-95): 100%|██████████| 10/10 [00:01<00:00,  6.04it/s]"
     ]
    },
    {
     "name": "stdout",
     "output_type": "stream",
     "text": [
      "                   all        300        302      0.993      0.987      0.995      0.943\n"
     ]
    },
    {
     "name": "stderr",
     "output_type": "stream",
     "text": [
      "\n"
     ]
    },
    {
     "name": "stdout",
     "output_type": "stream",
     "text": [
      "\n",
      "      Epoch    GPU_mem   box_loss   cls_loss   dfl_loss  Instances       Size\n"
     ]
    },
    {
     "name": "stderr",
     "output_type": "stream",
     "text": [
      "     43/100      3.98G     0.9207     0.9213      1.222         28        416: 100%|██████████| 149/149 [00:26<00:00,  5.61it/s]\n",
      "                 Class     Images  Instances      Box(P          R      mAP50  mAP50-95): 100%|██████████| 10/10 [00:01<00:00,  5.94it/s]"
     ]
    },
    {
     "name": "stdout",
     "output_type": "stream",
     "text": [
      "                   all        300        302      0.997      0.987      0.995      0.942\n"
     ]
    },
    {
     "name": "stderr",
     "output_type": "stream",
     "text": [
      "\n"
     ]
    },
    {
     "name": "stdout",
     "output_type": "stream",
     "text": [
      "\n",
      "      Epoch    GPU_mem   box_loss   cls_loss   dfl_loss  Instances       Size\n"
     ]
    },
    {
     "name": "stderr",
     "output_type": "stream",
     "text": [
      "     44/100      3.96G     0.9083     0.9135      1.222         25        416: 100%|██████████| 149/149 [00:26<00:00,  5.59it/s]\n",
      "                 Class     Images  Instances      Box(P          R      mAP50  mAP50-95): 100%|██████████| 10/10 [00:01<00:00,  5.82it/s]"
     ]
    },
    {
     "name": "stdout",
     "output_type": "stream",
     "text": [
      "                   all        300        302       0.99      0.987      0.994      0.944\n"
     ]
    },
    {
     "name": "stderr",
     "output_type": "stream",
     "text": [
      "\n"
     ]
    },
    {
     "name": "stdout",
     "output_type": "stream",
     "text": [
      "\n",
      "      Epoch    GPU_mem   box_loss   cls_loss   dfl_loss  Instances       Size\n"
     ]
    },
    {
     "name": "stderr",
     "output_type": "stream",
     "text": [
      "     45/100      3.95G     0.9046     0.9066      1.208         30        416: 100%|██████████| 149/149 [00:27<00:00,  5.51it/s]\n",
      "                 Class     Images  Instances      Box(P          R      mAP50  mAP50-95): 100%|██████████| 10/10 [00:01<00:00,  5.69it/s]"
     ]
    },
    {
     "name": "stdout",
     "output_type": "stream",
     "text": [
      "                   all        300        302      0.993      0.987      0.995       0.95\n"
     ]
    },
    {
     "name": "stderr",
     "output_type": "stream",
     "text": [
      "\n"
     ]
    },
    {
     "name": "stdout",
     "output_type": "stream",
     "text": [
      "\n",
      "      Epoch    GPU_mem   box_loss   cls_loss   dfl_loss  Instances       Size\n"
     ]
    },
    {
     "name": "stderr",
     "output_type": "stream",
     "text": [
      "     46/100       3.9G     0.8798     0.8833      1.194         31        416: 100%|██████████| 149/149 [00:26<00:00,  5.56it/s]\n",
      "                 Class     Images  Instances      Box(P          R      mAP50  mAP50-95): 100%|██████████| 10/10 [00:01<00:00,  5.74it/s]"
     ]
    },
    {
     "name": "stdout",
     "output_type": "stream",
     "text": [
      "                   all        300        302      0.989      0.987      0.995      0.946\n"
     ]
    },
    {
     "name": "stderr",
     "output_type": "stream",
     "text": [
      "\n"
     ]
    },
    {
     "name": "stdout",
     "output_type": "stream",
     "text": [
      "\n",
      "      Epoch    GPU_mem   box_loss   cls_loss   dfl_loss  Instances       Size\n"
     ]
    },
    {
     "name": "stderr",
     "output_type": "stream",
     "text": [
      "     47/100      3.99G     0.9037     0.8871      1.209         28        416: 100%|██████████| 149/149 [00:42<00:00,  3.47it/s]\n",
      "                 Class     Images  Instances      Box(P          R      mAP50  mAP50-95): 100%|██████████| 10/10 [00:04<00:00,  2.04it/s]"
     ]
    },
    {
     "name": "stdout",
     "output_type": "stream",
     "text": [
      "                   all        300        302       0.99      0.989      0.995      0.942\n"
     ]
    },
    {
     "name": "stderr",
     "output_type": "stream",
     "text": [
      "\n"
     ]
    },
    {
     "name": "stdout",
     "output_type": "stream",
     "text": [
      "\n",
      "      Epoch    GPU_mem   box_loss   cls_loss   dfl_loss  Instances       Size\n"
     ]
    },
    {
     "name": "stderr",
     "output_type": "stream",
     "text": [
      "     48/100      3.95G     0.8923     0.8925      1.202         38        416: 100%|██████████| 149/149 [01:02<00:00,  2.39it/s]\n",
      "                 Class     Images  Instances      Box(P          R      mAP50  mAP50-95): 100%|██████████| 10/10 [00:04<00:00,  2.12it/s]"
     ]
    },
    {
     "name": "stdout",
     "output_type": "stream",
     "text": [
      "                   all        300        302      0.992      0.983      0.995      0.946\n"
     ]
    },
    {
     "name": "stderr",
     "output_type": "stream",
     "text": [
      "\n"
     ]
    },
    {
     "name": "stdout",
     "output_type": "stream",
     "text": [
      "\n",
      "      Epoch    GPU_mem   box_loss   cls_loss   dfl_loss  Instances       Size\n"
     ]
    },
    {
     "name": "stderr",
     "output_type": "stream",
     "text": [
      "     49/100      3.94G     0.8907     0.8762      1.197         30        416: 100%|██████████| 149/149 [01:00<00:00,  2.46it/s]\n",
      "                 Class     Images  Instances      Box(P          R      mAP50  mAP50-95): 100%|██████████| 10/10 [00:04<00:00,  2.12it/s]"
     ]
    },
    {
     "name": "stdout",
     "output_type": "stream",
     "text": [
      "                   all        300        302      0.986       0.99      0.995      0.958\n"
     ]
    },
    {
     "name": "stderr",
     "output_type": "stream",
     "text": [
      "\n"
     ]
    },
    {
     "name": "stdout",
     "output_type": "stream",
     "text": [
      "\n",
      "      Epoch    GPU_mem   box_loss   cls_loss   dfl_loss  Instances       Size\n"
     ]
    },
    {
     "name": "stderr",
     "output_type": "stream",
     "text": [
      "     50/100       3.9G     0.8845     0.8708      1.195         28        416: 100%|██████████| 149/149 [01:01<00:00,  2.43it/s]\n",
      "                 Class     Images  Instances      Box(P          R      mAP50  mAP50-95): 100%|██████████| 10/10 [00:04<00:00,  2.06it/s]"
     ]
    },
    {
     "name": "stdout",
     "output_type": "stream",
     "text": [
      "                   all        300        302       0.99      0.996      0.995      0.948\n"
     ]
    },
    {
     "name": "stderr",
     "output_type": "stream",
     "text": [
      "\n"
     ]
    },
    {
     "name": "stdout",
     "output_type": "stream",
     "text": [
      "\n",
      "      Epoch    GPU_mem   box_loss   cls_loss   dfl_loss  Instances       Size\n"
     ]
    },
    {
     "name": "stderr",
     "output_type": "stream",
     "text": [
      "     51/100      3.97G     0.8627     0.8263      1.186         18        416: 100%|██████████| 149/149 [01:02<00:00,  2.40it/s]\n",
      "                 Class     Images  Instances      Box(P          R      mAP50  mAP50-95): 100%|██████████| 10/10 [00:04<00:00,  2.08it/s]"
     ]
    },
    {
     "name": "stdout",
     "output_type": "stream",
     "text": [
      "                   all        300        302      0.993       0.99      0.995      0.945\n"
     ]
    },
    {
     "name": "stderr",
     "output_type": "stream",
     "text": [
      "\n"
     ]
    },
    {
     "name": "stdout",
     "output_type": "stream",
     "text": [
      "\n",
      "      Epoch    GPU_mem   box_loss   cls_loss   dfl_loss  Instances       Size\n"
     ]
    },
    {
     "name": "stderr",
     "output_type": "stream",
     "text": [
      "     52/100      3.95G     0.8901     0.8559      1.198         21        416: 100%|██████████| 149/149 [01:02<00:00,  2.37it/s]\n",
      "                 Class     Images  Instances      Box(P          R      mAP50  mAP50-95): 100%|██████████| 10/10 [00:04<00:00,  2.08it/s]"
     ]
    },
    {
     "name": "stdout",
     "output_type": "stream",
     "text": [
      "                   all        300        302      0.993      0.987      0.994      0.952\n"
     ]
    },
    {
     "name": "stderr",
     "output_type": "stream",
     "text": [
      "\n"
     ]
    },
    {
     "name": "stdout",
     "output_type": "stream",
     "text": [
      "\n",
      "      Epoch    GPU_mem   box_loss   cls_loss   dfl_loss  Instances       Size\n"
     ]
    },
    {
     "name": "stderr",
     "output_type": "stream",
     "text": [
      "     53/100      3.94G     0.8702     0.8401       1.19         39        416: 100%|██████████| 149/149 [01:03<00:00,  2.36it/s]\n",
      "                 Class     Images  Instances      Box(P          R      mAP50  mAP50-95): 100%|██████████| 10/10 [00:04<00:00,  2.11it/s]"
     ]
    },
    {
     "name": "stdout",
     "output_type": "stream",
     "text": [
      "                   all        300        302      0.994      0.987      0.995      0.943\n"
     ]
    },
    {
     "name": "stderr",
     "output_type": "stream",
     "text": [
      "\n"
     ]
    },
    {
     "name": "stdout",
     "output_type": "stream",
     "text": [
      "\n",
      "      Epoch    GPU_mem   box_loss   cls_loss   dfl_loss  Instances       Size\n"
     ]
    },
    {
     "name": "stderr",
     "output_type": "stream",
     "text": [
      "     54/100      3.89G     0.8527     0.8114      1.182         36        416: 100%|██████████| 149/149 [01:00<00:00,  2.44it/s]\n",
      "                 Class     Images  Instances      Box(P          R      mAP50  mAP50-95): 100%|██████████| 10/10 [00:04<00:00,  2.04it/s]"
     ]
    },
    {
     "name": "stdout",
     "output_type": "stream",
     "text": [
      "                   all        300        302      0.986      0.993      0.995      0.941\n"
     ]
    },
    {
     "name": "stderr",
     "output_type": "stream",
     "text": [
      "\n"
     ]
    },
    {
     "name": "stdout",
     "output_type": "stream",
     "text": [
      "\n",
      "      Epoch    GPU_mem   box_loss   cls_loss   dfl_loss  Instances       Size\n"
     ]
    },
    {
     "name": "stderr",
     "output_type": "stream",
     "text": [
      "     55/100      3.97G     0.8613     0.8373      1.176         41        416: 100%|██████████| 149/149 [01:01<00:00,  2.43it/s]\n",
      "                 Class     Images  Instances      Box(P          R      mAP50  mAP50-95): 100%|██████████| 10/10 [00:04<00:00,  2.07it/s]"
     ]
    },
    {
     "name": "stdout",
     "output_type": "stream",
     "text": [
      "                   all        300        302       0.99      0.993      0.995      0.952\n"
     ]
    },
    {
     "name": "stderr",
     "output_type": "stream",
     "text": [
      "\n"
     ]
    },
    {
     "name": "stdout",
     "output_type": "stream",
     "text": [
      "\n",
      "      Epoch    GPU_mem   box_loss   cls_loss   dfl_loss  Instances       Size\n"
     ]
    },
    {
     "name": "stderr",
     "output_type": "stream",
     "text": [
      "     56/100      3.96G     0.8429     0.8199      1.171         26        416: 100%|██████████| 149/149 [01:01<00:00,  2.41it/s]\n",
      "                 Class     Images  Instances      Box(P          R      mAP50  mAP50-95): 100%|██████████| 10/10 [00:04<00:00,  2.06it/s]"
     ]
    },
    {
     "name": "stdout",
     "output_type": "stream",
     "text": [
      "                   all        300        302       0.99      0.986      0.993      0.957\n"
     ]
    },
    {
     "name": "stderr",
     "output_type": "stream",
     "text": [
      "\n"
     ]
    },
    {
     "name": "stdout",
     "output_type": "stream",
     "text": [
      "\n",
      "      Epoch    GPU_mem   box_loss   cls_loss   dfl_loss  Instances       Size\n"
     ]
    },
    {
     "name": "stderr",
     "output_type": "stream",
     "text": [
      "     57/100      3.94G     0.8439      0.812      1.175         36        416: 100%|██████████| 149/149 [01:03<00:00,  2.35it/s]\n",
      "                 Class     Images  Instances      Box(P          R      mAP50  mAP50-95): 100%|██████████| 10/10 [00:04<00:00,  2.02it/s]"
     ]
    },
    {
     "name": "stdout",
     "output_type": "stream",
     "text": [
      "                   all        300        302      0.997      0.983      0.995      0.937\n"
     ]
    },
    {
     "name": "stderr",
     "output_type": "stream",
     "text": [
      "\n"
     ]
    },
    {
     "name": "stdout",
     "output_type": "stream",
     "text": [
      "\n",
      "      Epoch    GPU_mem   box_loss   cls_loss   dfl_loss  Instances       Size\n"
     ]
    },
    {
     "name": "stderr",
     "output_type": "stream",
     "text": [
      "     58/100       3.9G     0.8384     0.8063      1.168         40        416: 100%|██████████| 149/149 [01:02<00:00,  2.38it/s]\n",
      "                 Class     Images  Instances      Box(P          R      mAP50  mAP50-95): 100%|██████████| 10/10 [00:04<00:00,  2.09it/s]"
     ]
    },
    {
     "name": "stdout",
     "output_type": "stream",
     "text": [
      "                   all        300        302      0.993      0.993      0.995      0.946\n"
     ]
    },
    {
     "name": "stderr",
     "output_type": "stream",
     "text": [
      "\n"
     ]
    },
    {
     "name": "stdout",
     "output_type": "stream",
     "text": [
      "\n",
      "      Epoch    GPU_mem   box_loss   cls_loss   dfl_loss  Instances       Size\n"
     ]
    },
    {
     "name": "stderr",
     "output_type": "stream",
     "text": [
      "     59/100      3.98G      0.838     0.8029      1.172         34        416: 100%|██████████| 149/149 [01:00<00:00,  2.45it/s]\n",
      "                 Class     Images  Instances      Box(P          R      mAP50  mAP50-95): 100%|██████████| 10/10 [00:04<00:00,  2.09it/s]"
     ]
    },
    {
     "name": "stdout",
     "output_type": "stream",
     "text": [
      "                   all        300        302      0.993      0.987      0.995      0.955\n"
     ]
    },
    {
     "name": "stderr",
     "output_type": "stream",
     "text": [
      "\n"
     ]
    },
    {
     "name": "stdout",
     "output_type": "stream",
     "text": [
      "\n",
      "      Epoch    GPU_mem   box_loss   cls_loss   dfl_loss  Instances       Size\n"
     ]
    },
    {
     "name": "stderr",
     "output_type": "stream",
     "text": [
      "     60/100      3.95G     0.8284     0.7773      1.167         29        416: 100%|██████████| 149/149 [01:01<00:00,  2.42it/s]\n",
      "                 Class     Images  Instances      Box(P          R      mAP50  mAP50-95): 100%|██████████| 10/10 [00:04<00:00,  2.11it/s]"
     ]
    },
    {
     "name": "stdout",
     "output_type": "stream",
     "text": [
      "                   all        300        302      0.987      0.996      0.995      0.954\n"
     ]
    },
    {
     "name": "stderr",
     "output_type": "stream",
     "text": [
      "\n"
     ]
    },
    {
     "name": "stdout",
     "output_type": "stream",
     "text": [
      "\n",
      "      Epoch    GPU_mem   box_loss   cls_loss   dfl_loss  Instances       Size\n"
     ]
    },
    {
     "name": "stderr",
     "output_type": "stream",
     "text": [
      "     61/100      3.94G     0.8529      0.817      1.177         38        416: 100%|██████████| 149/149 [01:02<00:00,  2.40it/s]\n",
      "                 Class     Images  Instances      Box(P          R      mAP50  mAP50-95): 100%|██████████| 10/10 [00:04<00:00,  2.06it/s]"
     ]
    },
    {
     "name": "stdout",
     "output_type": "stream",
     "text": [
      "                   all        300        302      0.996       0.99      0.995      0.959\n"
     ]
    },
    {
     "name": "stderr",
     "output_type": "stream",
     "text": [
      "\n"
     ]
    },
    {
     "name": "stdout",
     "output_type": "stream",
     "text": [
      "\n",
      "      Epoch    GPU_mem   box_loss   cls_loss   dfl_loss  Instances       Size\n"
     ]
    },
    {
     "name": "stderr",
     "output_type": "stream",
     "text": [
      "     62/100       3.9G     0.8298     0.7741      1.168         31        416: 100%|██████████| 149/149 [01:05<00:00,  2.29it/s]\n",
      "                 Class     Images  Instances      Box(P          R      mAP50  mAP50-95): 100%|██████████| 10/10 [00:04<00:00,  2.02it/s]"
     ]
    },
    {
     "name": "stdout",
     "output_type": "stream",
     "text": [
      "                   all        300        302      0.993      0.993      0.995       0.95\n"
     ]
    },
    {
     "name": "stderr",
     "output_type": "stream",
     "text": [
      "\n"
     ]
    },
    {
     "name": "stdout",
     "output_type": "stream",
     "text": [
      "\n",
      "      Epoch    GPU_mem   box_loss   cls_loss   dfl_loss  Instances       Size\n"
     ]
    },
    {
     "name": "stderr",
     "output_type": "stream",
     "text": [
      "     63/100      3.98G     0.8331     0.7941      1.163         24        416: 100%|██████████| 149/149 [01:04<00:00,  2.32it/s]\n",
      "                 Class     Images  Instances      Box(P          R      mAP50  mAP50-95): 100%|██████████| 10/10 [00:04<00:00,  2.06it/s]"
     ]
    },
    {
     "name": "stdout",
     "output_type": "stream",
     "text": [
      "                   all        300        302      0.996       0.99      0.995      0.958\n"
     ]
    },
    {
     "name": "stderr",
     "output_type": "stream",
     "text": [
      "\n"
     ]
    },
    {
     "name": "stdout",
     "output_type": "stream",
     "text": [
      "\n",
      "      Epoch    GPU_mem   box_loss   cls_loss   dfl_loss  Instances       Size\n"
     ]
    },
    {
     "name": "stderr",
     "output_type": "stream",
     "text": [
      "     64/100      3.95G     0.8137     0.7579      1.157         31        416: 100%|██████████| 149/149 [01:01<00:00,  2.43it/s]\n",
      "                 Class     Images  Instances      Box(P          R      mAP50  mAP50-95): 100%|██████████| 10/10 [00:05<00:00,  1.84it/s]"
     ]
    },
    {
     "name": "stdout",
     "output_type": "stream",
     "text": [
      "                   all        300        302      0.997      0.987      0.995      0.947\n"
     ]
    },
    {
     "name": "stderr",
     "output_type": "stream",
     "text": [
      "\n"
     ]
    },
    {
     "name": "stdout",
     "output_type": "stream",
     "text": [
      "\n",
      "      Epoch    GPU_mem   box_loss   cls_loss   dfl_loss  Instances       Size\n"
     ]
    },
    {
     "name": "stderr",
     "output_type": "stream",
     "text": [
      "     65/100      3.94G     0.8323     0.7726      1.164         23        416: 100%|██████████| 149/149 [01:02<00:00,  2.40it/s]\n",
      "                 Class     Images  Instances      Box(P          R      mAP50  mAP50-95): 100%|██████████| 10/10 [00:04<00:00,  2.09it/s]"
     ]
    },
    {
     "name": "stdout",
     "output_type": "stream",
     "text": [
      "                   all        300        302      0.997      0.993      0.995      0.967\n"
     ]
    },
    {
     "name": "stderr",
     "output_type": "stream",
     "text": [
      "\n"
     ]
    },
    {
     "name": "stdout",
     "output_type": "stream",
     "text": [
      "\n",
      "      Epoch    GPU_mem   box_loss   cls_loss   dfl_loss  Instances       Size\n"
     ]
    },
    {
     "name": "stderr",
     "output_type": "stream",
     "text": [
      "     66/100       3.9G     0.8152     0.7734      1.159         33        416: 100%|██████████| 149/149 [01:01<00:00,  2.41it/s]\n",
      "                 Class     Images  Instances      Box(P          R      mAP50  mAP50-95): 100%|██████████| 10/10 [00:04<00:00,  2.03it/s]"
     ]
    },
    {
     "name": "stdout",
     "output_type": "stream",
     "text": [
      "                   all        300        302      0.993       0.99      0.995      0.952\n"
     ]
    },
    {
     "name": "stderr",
     "output_type": "stream",
     "text": [
      "\n"
     ]
    },
    {
     "name": "stdout",
     "output_type": "stream",
     "text": [
      "\n",
      "      Epoch    GPU_mem   box_loss   cls_loss   dfl_loss  Instances       Size\n"
     ]
    },
    {
     "name": "stderr",
     "output_type": "stream",
     "text": [
      "     67/100      3.97G     0.8074     0.7444      1.149         36        416: 100%|██████████| 149/149 [01:03<00:00,  2.36it/s]\n",
      "                 Class     Images  Instances      Box(P          R      mAP50  mAP50-95): 100%|██████████| 10/10 [00:05<00:00,  1.99it/s]"
     ]
    },
    {
     "name": "stdout",
     "output_type": "stream",
     "text": [
      "                   all        300        302      0.993      0.987      0.995      0.951\n"
     ]
    },
    {
     "name": "stderr",
     "output_type": "stream",
     "text": [
      "\n"
     ]
    },
    {
     "name": "stdout",
     "output_type": "stream",
     "text": [
      "\n",
      "      Epoch    GPU_mem   box_loss   cls_loss   dfl_loss  Instances       Size\n"
     ]
    },
    {
     "name": "stderr",
     "output_type": "stream",
     "text": [
      "     68/100      3.95G     0.8115     0.7497      1.152         30        416: 100%|██████████| 149/149 [01:03<00:00,  2.36it/s]\n",
      "                 Class     Images  Instances      Box(P          R      mAP50  mAP50-95): 100%|██████████| 10/10 [00:04<00:00,  2.08it/s]"
     ]
    },
    {
     "name": "stdout",
     "output_type": "stream",
     "text": [
      "                   all        300        302      0.996      0.987      0.995      0.963\n"
     ]
    },
    {
     "name": "stderr",
     "output_type": "stream",
     "text": [
      "\n"
     ]
    },
    {
     "name": "stdout",
     "output_type": "stream",
     "text": [
      "\n",
      "      Epoch    GPU_mem   box_loss   cls_loss   dfl_loss  Instances       Size\n"
     ]
    },
    {
     "name": "stderr",
     "output_type": "stream",
     "text": [
      "     69/100      3.95G     0.8184     0.7565      1.157         31        416: 100%|██████████| 149/149 [01:00<00:00,  2.46it/s]\n",
      "                 Class     Images  Instances      Box(P          R      mAP50  mAP50-95): 100%|██████████| 10/10 [00:04<00:00,  2.09it/s]"
     ]
    },
    {
     "name": "stdout",
     "output_type": "stream",
     "text": [
      "                   all        300        302      0.996      0.987      0.995       0.95\n"
     ]
    },
    {
     "name": "stderr",
     "output_type": "stream",
     "text": [
      "\n"
     ]
    },
    {
     "name": "stdout",
     "output_type": "stream",
     "text": [
      "\n",
      "      Epoch    GPU_mem   box_loss   cls_loss   dfl_loss  Instances       Size\n"
     ]
    },
    {
     "name": "stderr",
     "output_type": "stream",
     "text": [
      "     70/100      3.89G      0.814     0.7338      1.152         37        416: 100%|██████████| 149/149 [01:01<00:00,  2.42it/s]\n",
      "                 Class     Images  Instances      Box(P          R      mAP50  mAP50-95): 100%|██████████| 10/10 [00:04<00:00,  2.06it/s]"
     ]
    },
    {
     "name": "stdout",
     "output_type": "stream",
     "text": [
      "                   all        300        302      0.996      0.993      0.995      0.963\n"
     ]
    },
    {
     "name": "stderr",
     "output_type": "stream",
     "text": [
      "\n"
     ]
    },
    {
     "name": "stdout",
     "output_type": "stream",
     "text": [
      "\n",
      "      Epoch    GPU_mem   box_loss   cls_loss   dfl_loss  Instances       Size\n"
     ]
    },
    {
     "name": "stderr",
     "output_type": "stream",
     "text": [
      "     71/100      3.98G     0.7913     0.7206      1.138         35        416: 100%|██████████| 149/149 [01:01<00:00,  2.42it/s]\n",
      "                 Class     Images  Instances      Box(P          R      mAP50  mAP50-95): 100%|██████████| 10/10 [00:04<00:00,  2.05it/s]"
     ]
    },
    {
     "name": "stdout",
     "output_type": "stream",
     "text": [
      "                   all        300        302      0.993      0.993      0.995       0.95\n"
     ]
    },
    {
     "name": "stderr",
     "output_type": "stream",
     "text": [
      "\n"
     ]
    },
    {
     "name": "stdout",
     "output_type": "stream",
     "text": [
      "\n",
      "      Epoch    GPU_mem   box_loss   cls_loss   dfl_loss  Instances       Size\n"
     ]
    },
    {
     "name": "stderr",
     "output_type": "stream",
     "text": [
      "     72/100      3.95G     0.8071     0.7376      1.151         23        416: 100%|██████████| 149/149 [00:41<00:00,  3.55it/s]\n",
      "                 Class     Images  Instances      Box(P          R      mAP50  mAP50-95): 100%|██████████| 10/10 [00:04<00:00,  2.03it/s]"
     ]
    },
    {
     "name": "stdout",
     "output_type": "stream",
     "text": [
      "                   all        300        302      0.997      0.993      0.995      0.964\n"
     ]
    },
    {
     "name": "stderr",
     "output_type": "stream",
     "text": [
      "\n"
     ]
    },
    {
     "name": "stdout",
     "output_type": "stream",
     "text": [
      "\n",
      "      Epoch    GPU_mem   box_loss   cls_loss   dfl_loss  Instances       Size\n"
     ]
    },
    {
     "name": "stderr",
     "output_type": "stream",
     "text": [
      "     73/100      3.94G     0.7833     0.7198      1.136         32        416: 100%|██████████| 149/149 [01:03<00:00,  2.36it/s]\n",
      "                 Class     Images  Instances      Box(P          R      mAP50  mAP50-95): 100%|██████████| 10/10 [00:04<00:00,  2.01it/s]"
     ]
    },
    {
     "name": "stdout",
     "output_type": "stream",
     "text": [
      "                   all        300        302      0.996       0.99      0.995      0.964\n"
     ]
    },
    {
     "name": "stderr",
     "output_type": "stream",
     "text": [
      "\n"
     ]
    },
    {
     "name": "stdout",
     "output_type": "stream",
     "text": [
      "\n",
      "      Epoch    GPU_mem   box_loss   cls_loss   dfl_loss  Instances       Size\n"
     ]
    },
    {
     "name": "stderr",
     "output_type": "stream",
     "text": [
      "     74/100       3.9G     0.7909     0.7171      1.137         33        416: 100%|██████████| 149/149 [01:01<00:00,  2.42it/s]\n",
      "                 Class     Images  Instances      Box(P          R      mAP50  mAP50-95): 100%|██████████| 10/10 [00:04<00:00,  2.07it/s]"
     ]
    },
    {
     "name": "stdout",
     "output_type": "stream",
     "text": [
      "                   all        300        302      0.991      0.993      0.995      0.966\n"
     ]
    },
    {
     "name": "stderr",
     "output_type": "stream",
     "text": [
      "\n"
     ]
    },
    {
     "name": "stdout",
     "output_type": "stream",
     "text": [
      "\n",
      "      Epoch    GPU_mem   box_loss   cls_loss   dfl_loss  Instances       Size\n"
     ]
    },
    {
     "name": "stderr",
     "output_type": "stream",
     "text": [
      "     75/100      3.97G     0.7924      0.707      1.139         34        416: 100%|██████████| 149/149 [01:01<00:00,  2.44it/s]\n",
      "                 Class     Images  Instances      Box(P          R      mAP50  mAP50-95): 100%|██████████| 10/10 [00:04<00:00,  2.07it/s]"
     ]
    },
    {
     "name": "stdout",
     "output_type": "stream",
     "text": [
      "                   all        300        302       0.99      0.987      0.995       0.96\n"
     ]
    },
    {
     "name": "stderr",
     "output_type": "stream",
     "text": [
      "\n"
     ]
    },
    {
     "name": "stdout",
     "output_type": "stream",
     "text": [
      "\n",
      "      Epoch    GPU_mem   box_loss   cls_loss   dfl_loss  Instances       Size\n"
     ]
    },
    {
     "name": "stderr",
     "output_type": "stream",
     "text": [
      "     76/100      3.95G     0.7693     0.6809      1.131         27        416: 100%|██████████| 149/149 [01:01<00:00,  2.43it/s]\n",
      "                 Class     Images  Instances      Box(P          R      mAP50  mAP50-95): 100%|██████████| 10/10 [00:04<00:00,  2.02it/s]"
     ]
    },
    {
     "name": "stdout",
     "output_type": "stream",
     "text": [
      "                   all        300        302      0.993      0.987      0.995      0.966\n"
     ]
    },
    {
     "name": "stderr",
     "output_type": "stream",
     "text": [
      "\n"
     ]
    },
    {
     "name": "stdout",
     "output_type": "stream",
     "text": [
      "\n",
      "      Epoch    GPU_mem   box_loss   cls_loss   dfl_loss  Instances       Size\n"
     ]
    },
    {
     "name": "stderr",
     "output_type": "stream",
     "text": [
      "     77/100      3.95G     0.7807     0.6992      1.132         38        416: 100%|██████████| 149/149 [01:02<00:00,  2.39it/s]\n",
      "                 Class     Images  Instances      Box(P          R      mAP50  mAP50-95): 100%|██████████| 10/10 [00:05<00:00,  1.91it/s]"
     ]
    },
    {
     "name": "stdout",
     "output_type": "stream",
     "text": [
      "                   all        300        302       0.99      0.987      0.995      0.954\n"
     ]
    },
    {
     "name": "stderr",
     "output_type": "stream",
     "text": [
      "\n"
     ]
    },
    {
     "name": "stdout",
     "output_type": "stream",
     "text": [
      "\n",
      "      Epoch    GPU_mem   box_loss   cls_loss   dfl_loss  Instances       Size\n"
     ]
    },
    {
     "name": "stderr",
     "output_type": "stream",
     "text": [
      "     78/100       3.9G     0.7753     0.7013      1.132         29        416: 100%|██████████| 149/149 [01:04<00:00,  2.32it/s]\n",
      "                 Class     Images  Instances      Box(P          R      mAP50  mAP50-95): 100%|██████████| 10/10 [00:04<00:00,  2.02it/s]"
     ]
    },
    {
     "name": "stdout",
     "output_type": "stream",
     "text": [
      "                   all        300        302      0.993      0.993      0.995      0.952\n"
     ]
    },
    {
     "name": "stderr",
     "output_type": "stream",
     "text": [
      "\n"
     ]
    },
    {
     "name": "stdout",
     "output_type": "stream",
     "text": [
      "\n",
      "      Epoch    GPU_mem   box_loss   cls_loss   dfl_loss  Instances       Size\n"
     ]
    },
    {
     "name": "stderr",
     "output_type": "stream",
     "text": [
      "     79/100      3.98G     0.7611     0.6741      1.125         25        416: 100%|██████████| 149/149 [01:01<00:00,  2.42it/s]\n",
      "                 Class     Images  Instances      Box(P          R      mAP50  mAP50-95): 100%|██████████| 10/10 [00:04<00:00,  2.02it/s]"
     ]
    },
    {
     "name": "stdout",
     "output_type": "stream",
     "text": [
      "                   all        300        302      0.996      0.987      0.995      0.961\n"
     ]
    },
    {
     "name": "stderr",
     "output_type": "stream",
     "text": [
      "\n"
     ]
    },
    {
     "name": "stdout",
     "output_type": "stream",
     "text": [
      "\n",
      "      Epoch    GPU_mem   box_loss   cls_loss   dfl_loss  Instances       Size\n"
     ]
    },
    {
     "name": "stderr",
     "output_type": "stream",
     "text": [
      "     80/100      3.95G     0.7545     0.6678      1.121         33        416: 100%|██████████| 149/149 [00:26<00:00,  5.64it/s]\n",
      "                 Class     Images  Instances      Box(P          R      mAP50  mAP50-95): 100%|██████████| 10/10 [00:01<00:00,  5.88it/s]"
     ]
    },
    {
     "name": "stdout",
     "output_type": "stream",
     "text": [
      "                   all        300        302      0.993      0.987      0.995      0.957\n"
     ]
    },
    {
     "name": "stderr",
     "output_type": "stream",
     "text": [
      "\n"
     ]
    },
    {
     "name": "stdout",
     "output_type": "stream",
     "text": [
      "\n",
      "      Epoch    GPU_mem   box_loss   cls_loss   dfl_loss  Instances       Size\n"
     ]
    },
    {
     "name": "stderr",
     "output_type": "stream",
     "text": [
      "     81/100      3.95G     0.7564     0.6751      1.116         26        416: 100%|██████████| 149/149 [00:26<00:00,  5.56it/s]\n",
      "                 Class     Images  Instances      Box(P          R      mAP50  mAP50-95): 100%|██████████| 10/10 [00:01<00:00,  5.88it/s]"
     ]
    },
    {
     "name": "stdout",
     "output_type": "stream",
     "text": [
      "                   all        300        302      0.996       0.99      0.995      0.954\n"
     ]
    },
    {
     "name": "stderr",
     "output_type": "stream",
     "text": [
      "\n"
     ]
    },
    {
     "name": "stdout",
     "output_type": "stream",
     "text": [
      "\n",
      "      Epoch    GPU_mem   box_loss   cls_loss   dfl_loss  Instances       Size\n"
     ]
    },
    {
     "name": "stderr",
     "output_type": "stream",
     "text": [
      "     82/100       3.9G     0.7475     0.6639      1.121         31        416: 100%|██████████| 149/149 [00:26<00:00,  5.62it/s]\n",
      "                 Class     Images  Instances      Box(P          R      mAP50  mAP50-95): 100%|██████████| 10/10 [00:01<00:00,  5.62it/s]"
     ]
    },
    {
     "name": "stdout",
     "output_type": "stream",
     "text": [
      "                   all        300        302      0.997      0.989      0.995      0.958\n"
     ]
    },
    {
     "name": "stderr",
     "output_type": "stream",
     "text": [
      "\n"
     ]
    },
    {
     "name": "stdout",
     "output_type": "stream",
     "text": [
      "\n",
      "      Epoch    GPU_mem   box_loss   cls_loss   dfl_loss  Instances       Size\n"
     ]
    },
    {
     "name": "stderr",
     "output_type": "stream",
     "text": [
      "     83/100      3.98G     0.7491     0.6613      1.118         46        416: 100%|██████████| 149/149 [00:26<00:00,  5.62it/s]\n",
      "                 Class     Images  Instances      Box(P          R      mAP50  mAP50-95): 100%|██████████| 10/10 [00:01<00:00,  5.99it/s]"
     ]
    },
    {
     "name": "stdout",
     "output_type": "stream",
     "text": [
      "                   all        300        302      0.996      0.987      0.995      0.953\n"
     ]
    },
    {
     "name": "stderr",
     "output_type": "stream",
     "text": [
      "\n"
     ]
    },
    {
     "name": "stdout",
     "output_type": "stream",
     "text": [
      "\n",
      "      Epoch    GPU_mem   box_loss   cls_loss   dfl_loss  Instances       Size\n"
     ]
    },
    {
     "name": "stderr",
     "output_type": "stream",
     "text": [
      "     84/100      3.95G     0.7504     0.6627      1.121         30        416: 100%|██████████| 149/149 [00:26<00:00,  5.64it/s]\n",
      "                 Class     Images  Instances      Box(P          R      mAP50  mAP50-95): 100%|██████████| 10/10 [00:01<00:00,  5.83it/s]"
     ]
    },
    {
     "name": "stdout",
     "output_type": "stream",
     "text": [
      "                   all        300        302      0.994      0.987      0.995      0.964\n"
     ]
    },
    {
     "name": "stderr",
     "output_type": "stream",
     "text": [
      "\n"
     ]
    },
    {
     "name": "stdout",
     "output_type": "stream",
     "text": [
      "\n",
      "      Epoch    GPU_mem   box_loss   cls_loss   dfl_loss  Instances       Size\n"
     ]
    },
    {
     "name": "stderr",
     "output_type": "stream",
     "text": [
      "     85/100      3.94G     0.7429     0.6553      1.111         37        416: 100%|██████████| 149/149 [00:26<00:00,  5.59it/s]\n",
      "                 Class     Images  Instances      Box(P          R      mAP50  mAP50-95): 100%|██████████| 10/10 [00:01<00:00,  6.01it/s]"
     ]
    },
    {
     "name": "stdout",
     "output_type": "stream",
     "text": [
      "                   all        300        302      0.987      0.996      0.995      0.953\n"
     ]
    },
    {
     "name": "stderr",
     "output_type": "stream",
     "text": [
      "\n"
     ]
    },
    {
     "name": "stdout",
     "output_type": "stream",
     "text": [
      "\n",
      "      Epoch    GPU_mem   box_loss   cls_loss   dfl_loss  Instances       Size\n"
     ]
    },
    {
     "name": "stderr",
     "output_type": "stream",
     "text": [
      "     86/100       3.9G     0.7588     0.6593      1.111         33        416: 100%|██████████| 149/149 [00:26<00:00,  5.58it/s]\n",
      "                 Class     Images  Instances      Box(P          R      mAP50  mAP50-95): 100%|██████████| 10/10 [00:01<00:00,  5.81it/s]"
     ]
    },
    {
     "name": "stdout",
     "output_type": "stream",
     "text": [
      "                   all        300        302      0.987      0.997      0.995      0.954\n"
     ]
    },
    {
     "name": "stderr",
     "output_type": "stream",
     "text": [
      "\n"
     ]
    },
    {
     "name": "stdout",
     "output_type": "stream",
     "text": [
      "\n",
      "      Epoch    GPU_mem   box_loss   cls_loss   dfl_loss  Instances       Size\n"
     ]
    },
    {
     "name": "stderr",
     "output_type": "stream",
     "text": [
      "     87/100      3.99G      0.745     0.6372       1.11         33        416: 100%|██████████| 149/149 [00:26<00:00,  5.57it/s]\n",
      "                 Class     Images  Instances      Box(P          R      mAP50  mAP50-95): 100%|██████████| 10/10 [00:01<00:00,  6.04it/s]"
     ]
    },
    {
     "name": "stdout",
     "output_type": "stream",
     "text": [
      "                   all        300        302      0.993      0.987      0.995      0.961\n"
     ]
    },
    {
     "name": "stderr",
     "output_type": "stream",
     "text": [
      "\n"
     ]
    },
    {
     "name": "stdout",
     "output_type": "stream",
     "text": [
      "\n",
      "      Epoch    GPU_mem   box_loss   cls_loss   dfl_loss  Instances       Size\n"
     ]
    },
    {
     "name": "stderr",
     "output_type": "stream",
     "text": [
      "     88/100      3.95G     0.7343     0.6407      1.101         25        416: 100%|██████████| 149/149 [00:26<00:00,  5.60it/s]\n",
      "                 Class     Images  Instances      Box(P          R      mAP50  mAP50-95): 100%|██████████| 10/10 [00:01<00:00,  5.95it/s]"
     ]
    },
    {
     "name": "stdout",
     "output_type": "stream",
     "text": [
      "                   all        300        302       0.99      0.993      0.995       0.96\n"
     ]
    },
    {
     "name": "stderr",
     "output_type": "stream",
     "text": [
      "\n"
     ]
    },
    {
     "name": "stdout",
     "output_type": "stream",
     "text": [
      "\n",
      "      Epoch    GPU_mem   box_loss   cls_loss   dfl_loss  Instances       Size\n"
     ]
    },
    {
     "name": "stderr",
     "output_type": "stream",
     "text": [
      "     89/100      3.94G     0.7347     0.6405       1.11         29        416: 100%|██████████| 149/149 [00:26<00:00,  5.55it/s]\n",
      "                 Class     Images  Instances      Box(P          R      mAP50  mAP50-95): 100%|██████████| 10/10 [00:01<00:00,  5.70it/s]"
     ]
    },
    {
     "name": "stdout",
     "output_type": "stream",
     "text": [
      "                   all        300        302      0.997      0.993      0.995      0.962\n"
     ]
    },
    {
     "name": "stderr",
     "output_type": "stream",
     "text": [
      "\n"
     ]
    },
    {
     "name": "stdout",
     "output_type": "stream",
     "text": [
      "\n",
      "      Epoch    GPU_mem   box_loss   cls_loss   dfl_loss  Instances       Size\n"
     ]
    },
    {
     "name": "stderr",
     "output_type": "stream",
     "text": [
      "     90/100       3.9G     0.7196     0.6315      1.098         30        416: 100%|██████████| 149/149 [00:26<00:00,  5.54it/s]\n",
      "                 Class     Images  Instances      Box(P          R      mAP50  mAP50-95): 100%|██████████| 10/10 [00:01<00:00,  5.69it/s]"
     ]
    },
    {
     "name": "stdout",
     "output_type": "stream",
     "text": [
      "                   all        300        302      0.993      0.993      0.995      0.958\n"
     ]
    },
    {
     "name": "stderr",
     "output_type": "stream",
     "text": [
      "\n"
     ]
    },
    {
     "name": "stdout",
     "output_type": "stream",
     "text": [
      "Closing dataloader mosaic\n",
      "\n",
      "      Epoch    GPU_mem   box_loss   cls_loss   dfl_loss  Instances       Size\n"
     ]
    },
    {
     "name": "stderr",
     "output_type": "stream",
     "text": [
      "     91/100      3.98G     0.6464     0.5142      1.055         14        416: 100%|██████████| 149/149 [00:26<00:00,  5.58it/s]\n",
      "                 Class     Images  Instances      Box(P          R      mAP50  mAP50-95): 100%|██████████| 10/10 [00:01<00:00,  5.92it/s]"
     ]
    },
    {
     "name": "stdout",
     "output_type": "stream",
     "text": [
      "                   all        300        302      0.997      0.992      0.995      0.959\n"
     ]
    },
    {
     "name": "stderr",
     "output_type": "stream",
     "text": [
      "\n"
     ]
    },
    {
     "name": "stdout",
     "output_type": "stream",
     "text": [
      "\n",
      "      Epoch    GPU_mem   box_loss   cls_loss   dfl_loss  Instances       Size\n"
     ]
    },
    {
     "name": "stderr",
     "output_type": "stream",
     "text": [
      "     92/100      3.95G       0.63     0.4731      1.036         16        416: 100%|██████████| 149/149 [00:26<00:00,  5.62it/s]\n",
      "                 Class     Images  Instances      Box(P          R      mAP50  mAP50-95): 100%|██████████| 10/10 [00:01<00:00,  5.81it/s]"
     ]
    },
    {
     "name": "stdout",
     "output_type": "stream",
     "text": [
      "                   all        300        302      0.993      0.993      0.995      0.965\n"
     ]
    },
    {
     "name": "stderr",
     "output_type": "stream",
     "text": [
      "\n"
     ]
    },
    {
     "name": "stdout",
     "output_type": "stream",
     "text": [
      "\n",
      "      Epoch    GPU_mem   box_loss   cls_loss   dfl_loss  Instances       Size\n"
     ]
    },
    {
     "name": "stderr",
     "output_type": "stream",
     "text": [
      "     93/100      3.94G      0.612     0.4611      1.023         12        416: 100%|██████████| 149/149 [00:26<00:00,  5.63it/s]\n",
      "                 Class     Images  Instances      Box(P          R      mAP50  mAP50-95): 100%|██████████| 10/10 [00:01<00:00,  6.04it/s]"
     ]
    },
    {
     "name": "stdout",
     "output_type": "stream",
     "text": [
      "                   all        300        302      0.997       0.99      0.995      0.966\n"
     ]
    },
    {
     "name": "stderr",
     "output_type": "stream",
     "text": [
      "\n"
     ]
    },
    {
     "name": "stdout",
     "output_type": "stream",
     "text": [
      "\n",
      "      Epoch    GPU_mem   box_loss   cls_loss   dfl_loss  Instances       Size\n"
     ]
    },
    {
     "name": "stderr",
     "output_type": "stream",
     "text": [
      "     94/100       3.9G     0.6168     0.4602      1.034         15        416: 100%|██████████| 149/149 [00:26<00:00,  5.58it/s]\n",
      "                 Class     Images  Instances      Box(P          R      mAP50  mAP50-95): 100%|██████████| 10/10 [00:01<00:00,  5.43it/s]"
     ]
    },
    {
     "name": "stdout",
     "output_type": "stream",
     "text": [
      "                   all        300        302       0.99      0.993      0.995      0.966\n"
     ]
    },
    {
     "name": "stderr",
     "output_type": "stream",
     "text": [
      "\n"
     ]
    },
    {
     "name": "stdout",
     "output_type": "stream",
     "text": [
      "\n",
      "      Epoch    GPU_mem   box_loss   cls_loss   dfl_loss  Instances       Size\n"
     ]
    },
    {
     "name": "stderr",
     "output_type": "stream",
     "text": [
      "     95/100      3.98G     0.6091      0.453      1.024         16        416: 100%|██████████| 149/149 [00:26<00:00,  5.60it/s]\n",
      "                 Class     Images  Instances      Box(P          R      mAP50  mAP50-95): 100%|██████████| 10/10 [00:01<00:00,  5.96it/s]"
     ]
    },
    {
     "name": "stdout",
     "output_type": "stream",
     "text": [
      "                   all        300        302      0.997      0.997      0.995      0.961\n"
     ]
    },
    {
     "name": "stderr",
     "output_type": "stream",
     "text": [
      "\n"
     ]
    },
    {
     "name": "stdout",
     "output_type": "stream",
     "text": [
      "\n",
      "      Epoch    GPU_mem   box_loss   cls_loss   dfl_loss  Instances       Size\n"
     ]
    },
    {
     "name": "stderr",
     "output_type": "stream",
     "text": [
      "     96/100      3.96G     0.5999     0.4391      1.023         13        416: 100%|██████████| 149/149 [00:26<00:00,  5.59it/s]\n",
      "                 Class     Images  Instances      Box(P          R      mAP50  mAP50-95): 100%|██████████| 10/10 [00:01<00:00,  5.83it/s]"
     ]
    },
    {
     "name": "stdout",
     "output_type": "stream",
     "text": [
      "                   all        300        302      0.993      0.996      0.995      0.969\n"
     ]
    },
    {
     "name": "stderr",
     "output_type": "stream",
     "text": [
      "\n"
     ]
    },
    {
     "name": "stdout",
     "output_type": "stream",
     "text": [
      "\n",
      "      Epoch    GPU_mem   box_loss   cls_loss   dfl_loss  Instances       Size\n"
     ]
    },
    {
     "name": "stderr",
     "output_type": "stream",
     "text": [
      "     97/100      3.95G     0.6056     0.4299      1.021         12        416: 100%|██████████| 149/149 [00:26<00:00,  5.60it/s]\n",
      "                 Class     Images  Instances      Box(P          R      mAP50  mAP50-95): 100%|██████████| 10/10 [00:01<00:00,  5.84it/s]"
     ]
    },
    {
     "name": "stdout",
     "output_type": "stream",
     "text": [
      "                   all        300        302      0.996      0.993      0.995      0.972\n"
     ]
    },
    {
     "name": "stderr",
     "output_type": "stream",
     "text": [
      "\n"
     ]
    },
    {
     "name": "stdout",
     "output_type": "stream",
     "text": [
      "\n",
      "      Epoch    GPU_mem   box_loss   cls_loss   dfl_loss  Instances       Size\n"
     ]
    },
    {
     "name": "stderr",
     "output_type": "stream",
     "text": [
      "     98/100       3.9G     0.5825     0.4218      1.016         18        416: 100%|██████████| 149/149 [00:26<00:00,  5.60it/s]\n",
      "                 Class     Images  Instances      Box(P          R      mAP50  mAP50-95): 100%|██████████| 10/10 [00:01<00:00,  5.90it/s]"
     ]
    },
    {
     "name": "stdout",
     "output_type": "stream",
     "text": [
      "                   all        300        302      0.997      0.993      0.995       0.97\n"
     ]
    },
    {
     "name": "stderr",
     "output_type": "stream",
     "text": [
      "\n"
     ]
    },
    {
     "name": "stdout",
     "output_type": "stream",
     "text": [
      "\n",
      "      Epoch    GPU_mem   box_loss   cls_loss   dfl_loss  Instances       Size\n"
     ]
    },
    {
     "name": "stderr",
     "output_type": "stream",
     "text": [
      "     99/100      3.97G     0.5825     0.4137      1.013         12        416: 100%|██████████| 149/149 [00:26<00:00,  5.61it/s]\n",
      "                 Class     Images  Instances      Box(P          R      mAP50  mAP50-95): 100%|██████████| 10/10 [00:01<00:00,  5.89it/s]"
     ]
    },
    {
     "name": "stdout",
     "output_type": "stream",
     "text": [
      "                   all        300        302      0.996       0.99      0.995      0.971\n"
     ]
    },
    {
     "name": "stderr",
     "output_type": "stream",
     "text": [
      "\n"
     ]
    },
    {
     "name": "stdout",
     "output_type": "stream",
     "text": [
      "\n",
      "      Epoch    GPU_mem   box_loss   cls_loss   dfl_loss  Instances       Size\n"
     ]
    },
    {
     "name": "stderr",
     "output_type": "stream",
     "text": [
      "    100/100      3.96G     0.5833     0.4137      1.008         13        416: 100%|██████████| 149/149 [00:26<00:00,  5.61it/s]\n",
      "                 Class     Images  Instances      Box(P          R      mAP50  mAP50-95): 100%|██████████| 10/10 [00:01<00:00,  5.98it/s]"
     ]
    },
    {
     "name": "stdout",
     "output_type": "stream",
     "text": [
      "                   all        300        302      0.996       0.99      0.995      0.973\n"
     ]
    },
    {
     "name": "stderr",
     "output_type": "stream",
     "text": [
      "\n"
     ]
    },
    {
     "name": "stdout",
     "output_type": "stream",
     "text": [
      "\n",
      "100 epochs completed in 1.354 hours.\n",
      "Optimizer stripped from c:\\Users\\User\\runs\\detect\\datasets7\\weights\\last.pt, 40.5MB\n",
      "Optimizer stripped from c:\\Users\\User\\runs\\detect\\datasets7\\weights\\best.pt, 40.5MB\n",
      "\n",
      "Validating c:\\Users\\User\\runs\\detect\\datasets7\\weights\\best.pt...\n",
      "Ultralytics 8.3.15  Python-3.10.15 torch-2.4.1+cu121 CUDA:0 (NVIDIA GeForce RTX 4070 Laptop GPU, 8188MiB)\n",
      "YOLO11m summary (fused): 303 layers, 20,030,803 parameters, 0 gradients, 67.6 GFLOPs\n"
     ]
    },
    {
     "name": "stderr",
     "output_type": "stream",
     "text": [
      "                 Class     Images  Instances      Box(P          R      mAP50  mAP50-95): 100%|██████████| 10/10 [00:01<00:00,  5.20it/s]\n"
     ]
    },
    {
     "name": "stdout",
     "output_type": "stream",
     "text": [
      "                   all        300        302      0.996       0.99      0.995      0.973\n",
      "Speed: 0.1ms preprocess, 3.0ms inference, 0.0ms loss, 0.8ms postprocess per image\n",
      "Results saved to \u001b[1mc:\\Users\\User\\runs\\detect\\datasets7\u001b[0m\n"
     ]
    }
   ],
   "source": [
    "from ultralytics import YOLO\n",
    "\n",
    "# Load the model (pre-trained on COCO)\n",
    "model = YOLO('yolo11m.pt')  # You can use yolov8s.pt, yolov8m.pt, etc.\n",
    "\n",
    "# Train the model on your custom dataset (YOLO format)\n",
    "results = model.train(data='C:/Users/User/Desktop/Object_Detection/Pistols/datasets/data.yaml',  # Path to the data config file\n",
    "                      epochs=100,         # Number of training epochs\n",
    "                      imgsz=416,         # Image size for training\n",
    "                      batch=16,          # Batch size\n",
    "                      name='datasets')  # Save folder for trained models\n",
    "\n",
    "# data.yaml must contain:\n",
    "# train: path to your training dataset images folder\n",
    "# val: path to your validation dataset images folder\n",
    "# nc: number of classes\n",
    "# names: ['class1', 'class2', ...]  # List of class names\n"
   ]
  },
  {
   "cell_type": "code",
   "execution_count": 2,
   "metadata": {},
   "outputs": [
    {
     "name": "stdout",
     "output_type": "stream",
     "text": [
      "\n",
      "image 1/1 c:\\Users\\User\\Desktop\\Object_Detection\\Pistols\\datasets\\test\\images\\armas (2710)_jpg.rf.4bf812d9e471da0008d0dc335140a431.jpg: 416x416 1 pistol, 48.7ms\n",
      "Speed: 0.0ms preprocess, 48.7ms inference, 5.9ms postprocess per image at shape (1, 3, 416, 416)\n",
      "Results for armas (2710)_jpg.rf.4bf812d9e471da0008d0dc335140a431.jpg:\n",
      "Class: tensor([0.], device='cuda:0'), Confidence: tensor([0.9702], device='cuda:0'), Box: tensor([[  1.6246,   2.4692, 408.0765, 405.1335]], device='cuda:0')\n",
      "\n",
      "image 1/1 c:\\Users\\User\\Desktop\\Object_Detection\\Pistols\\datasets\\test\\images\\armas (2711)_jpg.rf.9bdbb73e723316f71b75869e521c6de7.jpg: 416x416 1 pistol, 40.6ms\n",
      "Speed: 0.0ms preprocess, 40.6ms inference, 6.0ms postprocess per image at shape (1, 3, 416, 416)\n",
      "Results for armas (2711)_jpg.rf.9bdbb73e723316f71b75869e521c6de7.jpg:\n",
      "Class: tensor([0.], device='cuda:0'), Confidence: tensor([0.9755], device='cuda:0'), Box: tensor([[  1.3025,  15.3055, 414.9504, 403.2551]], device='cuda:0')\n",
      "\n",
      "image 1/1 c:\\Users\\User\\Desktop\\Object_Detection\\Pistols\\datasets\\test\\images\\armas (2712)_jpg.rf.f1de0b7778bf95d9844b73cd9fa4dfb0.jpg: 416x416 1 pistol, 43.0ms\n",
      "Speed: 0.0ms preprocess, 43.0ms inference, 0.0ms postprocess per image at shape (1, 3, 416, 416)\n",
      "Results for armas (2712)_jpg.rf.f1de0b7778bf95d9844b73cd9fa4dfb0.jpg:\n",
      "Class: tensor([0.], device='cuda:0'), Confidence: tensor([0.9727], device='cuda:0'), Box: tensor([[  2.4459,   7.0115, 411.7313, 399.9585]], device='cuda:0')\n",
      "\n",
      "image 1/1 c:\\Users\\User\\Desktop\\Object_Detection\\Pistols\\datasets\\test\\images\\armas (2713)_jpg.rf.2814a99dab0f75afd56c79fc1652a2a6.jpg: 416x416 1 pistol, 42.3ms\n",
      "Speed: 6.1ms preprocess, 42.3ms inference, 0.0ms postprocess per image at shape (1, 3, 416, 416)\n",
      "Results for armas (2713)_jpg.rf.2814a99dab0f75afd56c79fc1652a2a6.jpg:\n",
      "Class: tensor([0.], device='cuda:0'), Confidence: tensor([0.9686], device='cuda:0'), Box: tensor([[  3.5516,  11.4119, 411.4989, 402.8365]], device='cuda:0')\n",
      "\n",
      "image 1/1 c:\\Users\\User\\Desktop\\Object_Detection\\Pistols\\datasets\\test\\images\\armas (2714)_jpg.rf.bfebd2904a3d810b635a4b29dbb8139b.jpg: 416x416 1 pistol, 24.2ms\n",
      "Speed: 0.0ms preprocess, 24.2ms inference, 0.0ms postprocess per image at shape (1, 3, 416, 416)\n",
      "Results for armas (2714)_jpg.rf.bfebd2904a3d810b635a4b29dbb8139b.jpg:\n",
      "Class: tensor([0.], device='cuda:0'), Confidence: tensor([0.9773], device='cuda:0'), Box: tensor([[  2.2420,   2.2301, 413.6750, 406.5630]], device='cuda:0')\n",
      "\n",
      "image 1/1 c:\\Users\\User\\Desktop\\Object_Detection\\Pistols\\datasets\\test\\images\\armas (2715)_jpg.rf.c7201bdfe69f56fcfb15af354b8270ce.jpg: 416x416 1 pistol, 24.5ms\n",
      "Speed: 0.0ms preprocess, 24.5ms inference, 0.0ms postprocess per image at shape (1, 3, 416, 416)\n",
      "Results for armas (2715)_jpg.rf.c7201bdfe69f56fcfb15af354b8270ce.jpg:\n",
      "Class: tensor([0.], device='cuda:0'), Confidence: tensor([0.9829], device='cuda:0'), Box: tensor([[  0.9566,   0.6535, 414.5610, 410.2336]], device='cuda:0')\n",
      "\n",
      "image 1/1 c:\\Users\\User\\Desktop\\Object_Detection\\Pistols\\datasets\\test\\images\\armas (2716)_jpg.rf.f108828d96f159a559595fa8a63c9326.jpg: 416x416 1 pistol, 20.4ms\n",
      "Speed: 0.3ms preprocess, 20.4ms inference, 3.7ms postprocess per image at shape (1, 3, 416, 416)\n",
      "Results for armas (2716)_jpg.rf.f108828d96f159a559595fa8a63c9326.jpg:\n",
      "Class: tensor([0.], device='cuda:0'), Confidence: tensor([0.9679], device='cuda:0'), Box: tensor([[  9.5262,  11.4435, 406.2137, 384.2912]], device='cuda:0')\n",
      "\n",
      "image 1/1 c:\\Users\\User\\Desktop\\Object_Detection\\Pistols\\datasets\\test\\images\\armas (2717)_jpg.rf.f689d37c321fd22ab01ff27933855fc1.jpg: 416x416 1 pistol, 23.2ms\n",
      "Speed: 0.0ms preprocess, 23.2ms inference, 0.0ms postprocess per image at shape (1, 3, 416, 416)\n",
      "Results for armas (2717)_jpg.rf.f689d37c321fd22ab01ff27933855fc1.jpg:\n",
      "Class: tensor([0.], device='cuda:0'), Confidence: tensor([0.9794], device='cuda:0'), Box: tensor([[  1.1408,   1.7115, 414.5493, 412.3019]], device='cuda:0')\n",
      "\n",
      "image 1/1 c:\\Users\\User\\Desktop\\Object_Detection\\Pistols\\datasets\\test\\images\\armas (2718)_jpg.rf.477c7ec4a93764c1406caa0a2d92b5ec.jpg: 416x416 1 pistol, 21.3ms\n",
      "Speed: 1.8ms preprocess, 21.3ms inference, 0.0ms postprocess per image at shape (1, 3, 416, 416)\n",
      "Results for armas (2718)_jpg.rf.477c7ec4a93764c1406caa0a2d92b5ec.jpg:\n",
      "Class: tensor([0.], device='cuda:0'), Confidence: tensor([0.9794], device='cuda:0'), Box: tensor([[  0.0000,   0.5237, 412.8961, 405.9313]], device='cuda:0')\n",
      "\n",
      "image 1/1 c:\\Users\\User\\Desktop\\Object_Detection\\Pistols\\datasets\\test\\images\\armas (2719)_jpg.rf.e9577dc25a4596a880b9ed782910dd8e.jpg: 416x416 1 pistol, 12.2ms\n",
      "Speed: 0.0ms preprocess, 12.2ms inference, 1.0ms postprocess per image at shape (1, 3, 416, 416)\n",
      "Results for armas (2719)_jpg.rf.e9577dc25a4596a880b9ed782910dd8e.jpg:\n",
      "Class: tensor([0.], device='cuda:0'), Confidence: tensor([0.9809], device='cuda:0'), Box: tensor([[8.0463e-01, 2.7814e-01, 4.1371e+02, 4.0728e+02]], device='cuda:0')\n",
      "\n",
      "image 1/1 c:\\Users\\User\\Desktop\\Object_Detection\\Pistols\\datasets\\test\\images\\armas (2720)_jpg.rf.9fe5d87fc36343567ee2519684622d36.jpg: 416x416 1 pistol, 13.0ms\n",
      "Speed: 0.0ms preprocess, 13.0ms inference, 1.2ms postprocess per image at shape (1, 3, 416, 416)\n",
      "Results for armas (2720)_jpg.rf.9fe5d87fc36343567ee2519684622d36.jpg:\n",
      "Class: tensor([0.], device='cuda:0'), Confidence: tensor([0.9721], device='cuda:0'), Box: tensor([[  2.5180,   2.6876, 415.4532, 397.1599]], device='cuda:0')\n",
      "\n",
      "image 1/1 c:\\Users\\User\\Desktop\\Object_Detection\\Pistols\\datasets\\test\\images\\armas (2721)_jpg.rf.9efabf9a3a64f485e42d718fb1f1961a.jpg: 416x416 1 pistol, 13.0ms\n",
      "Speed: 0.0ms preprocess, 13.0ms inference, 0.9ms postprocess per image at shape (1, 3, 416, 416)\n",
      "Results for armas (2721)_jpg.rf.9efabf9a3a64f485e42d718fb1f1961a.jpg:\n",
      "Class: tensor([0.], device='cuda:0'), Confidence: tensor([0.9755], device='cuda:0'), Box: tensor([[  3.9639,   1.4609, 413.7504, 406.8566]], device='cuda:0')\n",
      "\n",
      "image 1/1 c:\\Users\\User\\Desktop\\Object_Detection\\Pistols\\datasets\\test\\images\\armas (2722)_jpg.rf.356f2ffc653901e166a6651428528cb0.jpg: 416x416 1 pistol, 12.9ms\n",
      "Speed: 0.0ms preprocess, 12.9ms inference, 1.1ms postprocess per image at shape (1, 3, 416, 416)\n",
      "Results for armas (2722)_jpg.rf.356f2ffc653901e166a6651428528cb0.jpg:\n",
      "Class: tensor([0.], device='cuda:0'), Confidence: tensor([0.9784], device='cuda:0'), Box: tensor([[  0.9646,   1.4031, 412.0845, 411.5001]], device='cuda:0')\n",
      "\n",
      "image 1/1 c:\\Users\\User\\Desktop\\Object_Detection\\Pistols\\datasets\\test\\images\\armas (2723)_jpg.rf.83f7a8a03e7eda35988c7d0d3f667561.jpg: 416x416 1 pistol, 14.4ms\n",
      "Speed: 0.0ms preprocess, 14.4ms inference, 0.0ms postprocess per image at shape (1, 3, 416, 416)\n",
      "Results for armas (2723)_jpg.rf.83f7a8a03e7eda35988c7d0d3f667561.jpg:\n",
      "Class: tensor([0.], device='cuda:0'), Confidence: tensor([0.9719], device='cuda:0'), Box: tensor([[  3.7690,  10.1506, 413.8393, 405.6616]], device='cuda:0')\n",
      "\n",
      "image 1/1 c:\\Users\\User\\Desktop\\Object_Detection\\Pistols\\datasets\\test\\images\\armas (2724)_jpg.rf.f23a0b9a7c72a8081d337f4a23e9a7be.jpg: 416x416 1 pistol, 12.2ms\n",
      "Speed: 0.0ms preprocess, 12.2ms inference, 0.0ms postprocess per image at shape (1, 3, 416, 416)\n",
      "Results for armas (2724)_jpg.rf.f23a0b9a7c72a8081d337f4a23e9a7be.jpg:\n",
      "Class: tensor([0.], device='cuda:0'), Confidence: tensor([0.9624], device='cuda:0'), Box: tensor([[  8.9257,  11.7257, 407.2412, 396.3549]], device='cuda:0')\n",
      "\n",
      "image 1/1 c:\\Users\\User\\Desktop\\Object_Detection\\Pistols\\datasets\\test\\images\\armas (2725)_jpg.rf.5e1971f69df0551333127ba25c06f7cc.jpg: 416x416 1 pistol, 10.3ms\n",
      "Speed: 0.0ms preprocess, 10.3ms inference, 1.0ms postprocess per image at shape (1, 3, 416, 416)\n",
      "Results for armas (2725)_jpg.rf.5e1971f69df0551333127ba25c06f7cc.jpg:\n",
      "Class: tensor([0.], device='cuda:0'), Confidence: tensor([0.9721], device='cuda:0'), Box: tensor([[  3.0274,   6.8570, 408.8486, 399.2049]], device='cuda:0')\n",
      "\n",
      "image 1/1 c:\\Users\\User\\Desktop\\Object_Detection\\Pistols\\datasets\\test\\images\\armas (2726)_jpg.rf.9723f70b8575b79a1130f57ee14fbf62.jpg: 416x416 1 pistol, 15.6ms\n",
      "Speed: 0.0ms preprocess, 15.6ms inference, 1.0ms postprocess per image at shape (1, 3, 416, 416)\n",
      "Results for armas (2726)_jpg.rf.9723f70b8575b79a1130f57ee14fbf62.jpg:\n",
      "Class: tensor([0.], device='cuda:0'), Confidence: tensor([0.9754], device='cuda:0'), Box: tensor([[  1.6184,   4.8927, 413.0185, 410.4410]], device='cuda:0')\n",
      "\n",
      "image 1/1 c:\\Users\\User\\Desktop\\Object_Detection\\Pistols\\datasets\\test\\images\\armas (2727)_jpg.rf.efb9930aeed5ed8718e5438d4179e3c9.jpg: 416x416 1 pistol, 15.2ms\n",
      "Speed: 0.0ms preprocess, 15.2ms inference, 1.0ms postprocess per image at shape (1, 3, 416, 416)\n",
      "Results for armas (2727)_jpg.rf.efb9930aeed5ed8718e5438d4179e3c9.jpg:\n",
      "Class: tensor([0.], device='cuda:0'), Confidence: tensor([0.9704], device='cuda:0'), Box: tensor([[  2.9708,   6.6212, 413.3352, 402.6160]], device='cuda:0')\n",
      "\n",
      "image 1/1 c:\\Users\\User\\Desktop\\Object_Detection\\Pistols\\datasets\\test\\images\\armas (2728)_jpg.rf.d34f7a82ed8c5437c8cde7e44562ec08.jpg: 416x416 1 pistol, 11.0ms\n",
      "Speed: 0.0ms preprocess, 11.0ms inference, 1.7ms postprocess per image at shape (1, 3, 416, 416)\n",
      "Results for armas (2728)_jpg.rf.d34f7a82ed8c5437c8cde7e44562ec08.jpg:\n",
      "Class: tensor([0.], device='cuda:0'), Confidence: tensor([0.9789], device='cuda:0'), Box: tensor([[  1.7191,   1.2540, 415.5566, 406.8992]], device='cuda:0')\n",
      "\n",
      "image 1/1 c:\\Users\\User\\Desktop\\Object_Detection\\Pistols\\datasets\\test\\images\\armas (2729)_jpg.rf.cce6f0659d24358c9568e80b31a8c121.jpg: 416x416 1 pistol, 15.2ms\n",
      "Speed: 0.0ms preprocess, 15.2ms inference, 1.0ms postprocess per image at shape (1, 3, 416, 416)\n",
      "Results for armas (2729)_jpg.rf.cce6f0659d24358c9568e80b31a8c121.jpg:\n",
      "Class: tensor([0.], device='cuda:0'), Confidence: tensor([0.9786], device='cuda:0'), Box: tensor([[  1.9601,   0.5702, 416.0000, 412.0758]], device='cuda:0')\n",
      "\n",
      "image 1/1 c:\\Users\\User\\Desktop\\Object_Detection\\Pistols\\datasets\\test\\images\\armas (2730)_jpg.rf.daacff9b441fe4808babb6c5ca4da58d.jpg: 416x416 1 pistol, 12.9ms\n",
      "Speed: 0.0ms preprocess, 12.9ms inference, 1.0ms postprocess per image at shape (1, 3, 416, 416)\n",
      "Results for armas (2730)_jpg.rf.daacff9b441fe4808babb6c5ca4da58d.jpg:\n",
      "Class: tensor([0.], device='cuda:0'), Confidence: tensor([0.9766], device='cuda:0'), Box: tensor([[  2.8996,   0.6392, 415.4937, 404.9926]], device='cuda:0')\n",
      "\n",
      "image 1/1 c:\\Users\\User\\Desktop\\Object_Detection\\Pistols\\datasets\\test\\images\\armas (2731)_jpg.rf.548565de471c87aa43474ad1d703b9fa.jpg: 416x416 1 pistol, 9.8ms\n",
      "Speed: 0.0ms preprocess, 9.8ms inference, 1.9ms postprocess per image at shape (1, 3, 416, 416)\n",
      "Results for armas (2731)_jpg.rf.548565de471c87aa43474ad1d703b9fa.jpg:\n",
      "Class: tensor([0.], device='cuda:0'), Confidence: tensor([0.9699], device='cuda:0'), Box: tensor([[  1.7266,   4.7551, 415.9113, 372.7528]], device='cuda:0')\n",
      "\n",
      "image 1/1 c:\\Users\\User\\Desktop\\Object_Detection\\Pistols\\datasets\\test\\images\\armas (2732)_jpg.rf.9e19895e890eeb181358b4102392ec8f.jpg: 416x416 1 pistol, 7.7ms\n",
      "Speed: 6.0ms preprocess, 7.7ms inference, 0.0ms postprocess per image at shape (1, 3, 416, 416)\n",
      "Results for armas (2732)_jpg.rf.9e19895e890eeb181358b4102392ec8f.jpg:\n",
      "Class: tensor([0.], device='cuda:0'), Confidence: tensor([0.9837], device='cuda:0'), Box: tensor([[  1.8759,   2.2065, 412.2793, 414.9594]], device='cuda:0')\n",
      "\n",
      "image 1/1 c:\\Users\\User\\Desktop\\Object_Detection\\Pistols\\datasets\\test\\images\\armas (2733)_jpg.rf.275797e6b9c217ff77880c354231d168.jpg: 416x416 1 pistol, 14.2ms\n",
      "Speed: 0.0ms preprocess, 14.2ms inference, 1.0ms postprocess per image at shape (1, 3, 416, 416)\n",
      "Results for armas (2733)_jpg.rf.275797e6b9c217ff77880c354231d168.jpg:\n",
      "Class: tensor([0.], device='cuda:0'), Confidence: tensor([0.9716], device='cuda:0'), Box: tensor([[  6.7049,   2.8319, 414.9749, 402.8868]], device='cuda:0')\n",
      "\n",
      "image 1/1 c:\\Users\\User\\Desktop\\Object_Detection\\Pistols\\datasets\\test\\images\\armas (2734)_jpg.rf.3e6aaeb1e507e358c14feb5f94ac652e.jpg: 416x416 1 pistol, 10.9ms\n",
      "Speed: 0.0ms preprocess, 10.9ms inference, 1.0ms postprocess per image at shape (1, 3, 416, 416)\n",
      "Results for armas (2734)_jpg.rf.3e6aaeb1e507e358c14feb5f94ac652e.jpg:\n",
      "Class: tensor([0.], device='cuda:0'), Confidence: tensor([0.9547], device='cuda:0'), Box: tensor([[ 16.5672,  50.9103, 410.6713, 386.4097]], device='cuda:0')\n",
      "\n",
      "image 1/1 c:\\Users\\User\\Desktop\\Object_Detection\\Pistols\\datasets\\test\\images\\armas (2735)_jpg.rf.ff5f9700c88320d9b1490fd860f2b086.jpg: 416x416 1 pistol, 12.5ms\n",
      "Speed: 0.0ms preprocess, 12.5ms inference, 1.2ms postprocess per image at shape (1, 3, 416, 416)\n",
      "Results for armas (2735)_jpg.rf.ff5f9700c88320d9b1490fd860f2b086.jpg:\n",
      "Class: tensor([0.], device='cuda:0'), Confidence: tensor([0.9705], device='cuda:0'), Box: tensor([[1.2256e-01, 7.6745e+00, 4.1332e+02, 4.1061e+02]], device='cuda:0')\n",
      "\n",
      "image 1/1 c:\\Users\\User\\Desktop\\Object_Detection\\Pistols\\datasets\\test\\images\\armas (2736)_jpg.rf.9a877b32d3a72cddcbf8e62a1899ca26.jpg: 416x416 1 pistol, 8.7ms\n",
      "Speed: 1.0ms preprocess, 8.7ms inference, 0.0ms postprocess per image at shape (1, 3, 416, 416)\n",
      "Results for armas (2736)_jpg.rf.9a877b32d3a72cddcbf8e62a1899ca26.jpg:\n",
      "Class: tensor([0.], device='cuda:0'), Confidence: tensor([0.9734], device='cuda:0'), Box: tensor([[ 10.6295,  13.1465, 405.4378, 404.0669]], device='cuda:0')\n",
      "\n",
      "image 1/1 c:\\Users\\User\\Desktop\\Object_Detection\\Pistols\\datasets\\test\\images\\armas (2737)_jpg.rf.6e09bb52be26ef678c5fca826cb493b7.jpg: 416x416 1 pistol, 10.1ms\n",
      "Speed: 0.0ms preprocess, 10.1ms inference, 0.0ms postprocess per image at shape (1, 3, 416, 416)\n",
      "Results for armas (2737)_jpg.rf.6e09bb52be26ef678c5fca826cb493b7.jpg:\n",
      "Class: tensor([0.], device='cuda:0'), Confidence: tensor([0.9429], device='cuda:0'), Box: tensor([[6.3533e+00, 2.1704e-01, 4.1521e+02, 4.1284e+02]], device='cuda:0')\n",
      "\n",
      "image 1/1 c:\\Users\\User\\Desktop\\Object_Detection\\Pistols\\datasets\\test\\images\\armas (2738)_jpg.rf.9306bd6f0dc7696e280921ffd5e64634.jpg: 416x416 1 pistol, 10.3ms\n",
      "Speed: 0.0ms preprocess, 10.3ms inference, 0.9ms postprocess per image at shape (1, 3, 416, 416)\n",
      "Results for armas (2738)_jpg.rf.9306bd6f0dc7696e280921ffd5e64634.jpg:\n",
      "Class: tensor([0.], device='cuda:0'), Confidence: tensor([0.9476], device='cuda:0'), Box: tensor([[  0.5474,  18.4261, 415.7882, 414.5163]], device='cuda:0')\n",
      "\n",
      "image 1/1 c:\\Users\\User\\Desktop\\Object_Detection\\Pistols\\datasets\\test\\images\\armas (2739)_jpg.rf.05a9b5ab6c0dd6bd549a23f6a3aa796b.jpg: 416x416 1 pistol, 11.3ms\n",
      "Speed: 0.0ms preprocess, 11.3ms inference, 1.0ms postprocess per image at shape (1, 3, 416, 416)\n",
      "Results for armas (2739)_jpg.rf.05a9b5ab6c0dd6bd549a23f6a3aa796b.jpg:\n",
      "Class: tensor([0.], device='cuda:0'), Confidence: tensor([0.9789], device='cuda:0'), Box: tensor([[  0.8445,   1.7520, 414.3651, 406.2458]], device='cuda:0')\n",
      "\n",
      "image 1/1 c:\\Users\\User\\Desktop\\Object_Detection\\Pistols\\datasets\\test\\images\\armas (2740)_jpg.rf.5c2565d1c4a8bef9112c373ead6aedba.jpg: 416x416 1 pistol, 13.7ms\n",
      "Speed: 0.0ms preprocess, 13.7ms inference, 1.0ms postprocess per image at shape (1, 3, 416, 416)\n",
      "Results for armas (2740)_jpg.rf.5c2565d1c4a8bef9112c373ead6aedba.jpg:\n",
      "Class: tensor([0.], device='cuda:0'), Confidence: tensor([0.9678], device='cuda:0'), Box: tensor([[ 12.5984,  34.3253, 403.7480, 379.4799]], device='cuda:0')\n",
      "\n",
      "image 1/1 c:\\Users\\User\\Desktop\\Object_Detection\\Pistols\\datasets\\test\\images\\armas (2741)_jpg.rf.6d7782640f7a5bafba1fed0f0035d15c.jpg: 416x416 1 pistol, 9.3ms\n",
      "Speed: 0.0ms preprocess, 9.3ms inference, 1.0ms postprocess per image at shape (1, 3, 416, 416)\n",
      "Results for armas (2741)_jpg.rf.6d7782640f7a5bafba1fed0f0035d15c.jpg:\n",
      "Class: tensor([0.], device='cuda:0'), Confidence: tensor([0.9687], device='cuda:0'), Box: tensor([[ 11.3200,  14.9357, 409.5536, 384.8806]], device='cuda:0')\n",
      "\n",
      "image 1/1 c:\\Users\\User\\Desktop\\Object_Detection\\Pistols\\datasets\\test\\images\\armas (2742)_jpg.rf.b0fd9c527d4f41c2bff021ebb3ce4076.jpg: 416x416 1 pistol, 12.5ms\n",
      "Speed: 0.0ms preprocess, 12.5ms inference, 1.0ms postprocess per image at shape (1, 3, 416, 416)\n",
      "Results for armas (2742)_jpg.rf.b0fd9c527d4f41c2bff021ebb3ce4076.jpg:\n",
      "Class: tensor([0.], device='cuda:0'), Confidence: tensor([0.9735], device='cuda:0'), Box: tensor([[  4.3427,   0.5714, 409.0148, 404.1646]], device='cuda:0')\n",
      "\n",
      "image 1/1 c:\\Users\\User\\Desktop\\Object_Detection\\Pistols\\datasets\\test\\images\\armas (2743)_jpg.rf.a8bd68006c006900e4757b43b3f770c4.jpg: 416x416 1 pistol, 13.4ms\n",
      "Speed: 0.0ms preprocess, 13.4ms inference, 1.0ms postprocess per image at shape (1, 3, 416, 416)\n",
      "Results for armas (2743)_jpg.rf.a8bd68006c006900e4757b43b3f770c4.jpg:\n",
      "Class: tensor([0.], device='cuda:0'), Confidence: tensor([0.9702], device='cuda:0'), Box: tensor([[ 12.5909,  29.8254, 400.7310, 400.8592]], device='cuda:0')\n",
      "\n",
      "image 1/1 c:\\Users\\User\\Desktop\\Object_Detection\\Pistols\\datasets\\test\\images\\armas (2744)_jpg.rf.62ed455dd77ba6b5f57c471b84800f24.jpg: 416x416 1 pistol, 12.8ms\n",
      "Speed: 0.0ms preprocess, 12.8ms inference, 1.2ms postprocess per image at shape (1, 3, 416, 416)\n",
      "Results for armas (2744)_jpg.rf.62ed455dd77ba6b5f57c471b84800f24.jpg:\n",
      "Class: tensor([0.], device='cuda:0'), Confidence: tensor([0.9737], device='cuda:0'), Box: tensor([[  2.6959,   9.1006, 414.2841, 405.8218]], device='cuda:0')\n",
      "\n",
      "image 1/1 c:\\Users\\User\\Desktop\\Object_Detection\\Pistols\\datasets\\test\\images\\armas (2745)_jpg.rf.2ed20a7f6e225b083e57396027b7abb9.jpg: 416x416 1 pistol, 9.3ms\n",
      "Speed: 5.0ms preprocess, 9.3ms inference, 1.0ms postprocess per image at shape (1, 3, 416, 416)\n",
      "Results for armas (2745)_jpg.rf.2ed20a7f6e225b083e57396027b7abb9.jpg:\n",
      "Class: tensor([0.], device='cuda:0'), Confidence: tensor([0.9848], device='cuda:0'), Box: tensor([[  0.0000,   0.7519, 412.5656, 414.2835]], device='cuda:0')\n",
      "\n",
      "image 1/1 c:\\Users\\User\\Desktop\\Object_Detection\\Pistols\\datasets\\test\\images\\armas (2746)_jpg.rf.ec179da475f686b2667aeeea6cfcd068.jpg: 416x416 1 pistol, 15.6ms\n",
      "Speed: 0.0ms preprocess, 15.6ms inference, 1.0ms postprocess per image at shape (1, 3, 416, 416)\n",
      "Results for armas (2746)_jpg.rf.ec179da475f686b2667aeeea6cfcd068.jpg:\n",
      "Class: tensor([0.], device='cuda:0'), Confidence: tensor([0.9742], device='cuda:0'), Box: tensor([[  9.9638,   3.3040, 407.2184, 406.3569]], device='cuda:0')\n",
      "\n",
      "image 1/1 c:\\Users\\User\\Desktop\\Object_Detection\\Pistols\\datasets\\test\\images\\armas (2747)_jpg.rf.3ee8e3b84f2be5f75bfd0b6b7cf27a4e.jpg: 416x416 1 pistol, 13.7ms\n",
      "Speed: 0.0ms preprocess, 13.7ms inference, 1.0ms postprocess per image at shape (1, 3, 416, 416)\n",
      "Results for armas (2747)_jpg.rf.3ee8e3b84f2be5f75bfd0b6b7cf27a4e.jpg:\n",
      "Class: tensor([0.], device='cuda:0'), Confidence: tensor([0.9742], device='cuda:0'), Box: tensor([[  2.4303,   2.1292, 416.0000, 403.9767]], device='cuda:0')\n",
      "\n",
      "image 1/1 c:\\Users\\User\\Desktop\\Object_Detection\\Pistols\\datasets\\test\\images\\armas (2748)_jpg.rf.b78546db10a1c492d9ec02dd1b6e5b5f.jpg: 416x416 1 pistol, 13.9ms\n",
      "Speed: 0.0ms preprocess, 13.9ms inference, 0.0ms postprocess per image at shape (1, 3, 416, 416)\n",
      "Results for armas (2748)_jpg.rf.b78546db10a1c492d9ec02dd1b6e5b5f.jpg:\n",
      "Class: tensor([0.], device='cuda:0'), Confidence: tensor([0.9698], device='cuda:0'), Box: tensor([[  5.1767,  16.0152, 398.2454, 403.4639]], device='cuda:0')\n",
      "\n",
      "image 1/1 c:\\Users\\User\\Desktop\\Object_Detection\\Pistols\\datasets\\test\\images\\armas (2749)_jpg.rf.385b98755ec524fee0fa18ef16be86a0.jpg: 416x416 1 pistol, 13.4ms\n",
      "Speed: 0.0ms preprocess, 13.4ms inference, 1.1ms postprocess per image at shape (1, 3, 416, 416)\n",
      "Results for armas (2749)_jpg.rf.385b98755ec524fee0fa18ef16be86a0.jpg:\n",
      "Class: tensor([0.], device='cuda:0'), Confidence: tensor([0.9710], device='cuda:0'), Box: tensor([[  1.1924,   9.7688, 407.3661, 400.3262]], device='cuda:0')\n",
      "\n",
      "image 1/1 c:\\Users\\User\\Desktop\\Object_Detection\\Pistols\\datasets\\test\\images\\armas (2750)_jpg.rf.167180dcbc89030966bff51309b290e6.jpg: 416x416 1 pistol, 13.8ms\n",
      "Speed: 0.0ms preprocess, 13.8ms inference, 1.0ms postprocess per image at shape (1, 3, 416, 416)\n",
      "Results for armas (2750)_jpg.rf.167180dcbc89030966bff51309b290e6.jpg:\n",
      "Class: tensor([0.], device='cuda:0'), Confidence: tensor([0.9731], device='cuda:0'), Box: tensor([[  5.2724,   0.8955, 413.2321, 399.7994]], device='cuda:0')\n",
      "\n",
      "image 1/1 c:\\Users\\User\\Desktop\\Object_Detection\\Pistols\\datasets\\test\\images\\armas (2751)_jpg.rf.4ac37974833c29959396dd4dc9f1bdd7.jpg: 416x416 1 pistol, 9.4ms\n",
      "Speed: 1.0ms preprocess, 9.4ms inference, 0.0ms postprocess per image at shape (1, 3, 416, 416)\n",
      "Results for armas (2751)_jpg.rf.4ac37974833c29959396dd4dc9f1bdd7.jpg:\n",
      "Class: tensor([0.], device='cuda:0'), Confidence: tensor([0.9641], device='cuda:0'), Box: tensor([[ 17.6609,   6.2595, 401.8528, 400.5631]], device='cuda:0')\n",
      "\n",
      "image 1/1 c:\\Users\\User\\Desktop\\Object_Detection\\Pistols\\datasets\\test\\images\\armas (2752)_jpg.rf.e1f8c18adb2f365fffba8169662508f7.jpg: 416x416 1 pistol, 9.9ms\n",
      "Speed: 0.0ms preprocess, 9.9ms inference, 1.0ms postprocess per image at shape (1, 3, 416, 416)\n",
      "Results for armas (2752)_jpg.rf.e1f8c18adb2f365fffba8169662508f7.jpg:\n",
      "Class: tensor([0.], device='cuda:0'), Confidence: tensor([0.9597], device='cuda:0'), Box: tensor([[ 27.8282,  32.3611, 370.6506, 381.3804]], device='cuda:0')\n",
      "\n",
      "image 1/1 c:\\Users\\User\\Desktop\\Object_Detection\\Pistols\\datasets\\test\\images\\armas (2753)_jpg.rf.255fcdcf718b3c0bf38c77f28a2bb23e.jpg: 416x416 1 pistol, 11.8ms\n",
      "Speed: 0.0ms preprocess, 11.8ms inference, 0.7ms postprocess per image at shape (1, 3, 416, 416)\n",
      "Results for armas (2753)_jpg.rf.255fcdcf718b3c0bf38c77f28a2bb23e.jpg:\n",
      "Class: tensor([0.], device='cuda:0'), Confidence: tensor([0.9715], device='cuda:0'), Box: tensor([[  2.6827,  11.5587, 412.5009, 398.2761]], device='cuda:0')\n",
      "\n",
      "image 1/1 c:\\Users\\User\\Desktop\\Object_Detection\\Pistols\\datasets\\test\\images\\armas (2754)_jpg.rf.4b60e7d173764e559b9de888220ad55b.jpg: 416x416 1 pistol, 11.1ms\n",
      "Speed: 0.0ms preprocess, 11.1ms inference, 1.0ms postprocess per image at shape (1, 3, 416, 416)\n",
      "Results for armas (2754)_jpg.rf.4b60e7d173764e559b9de888220ad55b.jpg:\n",
      "Class: tensor([0.], device='cuda:0'), Confidence: tensor([0.9375], device='cuda:0'), Box: tensor([[ 23.5045, 123.5235, 388.4986, 349.3848]], device='cuda:0')\n",
      "\n",
      "image 1/1 c:\\Users\\User\\Desktop\\Object_Detection\\Pistols\\datasets\\test\\images\\armas (2755)_jpg.rf.63a7d4ef4a685893b36968d13c7fd87d.jpg: 416x416 1 pistol, 10.0ms\n",
      "Speed: 0.0ms preprocess, 10.0ms inference, 1.0ms postprocess per image at shape (1, 3, 416, 416)\n",
      "Results for armas (2755)_jpg.rf.63a7d4ef4a685893b36968d13c7fd87d.jpg:\n",
      "Class: tensor([0.], device='cuda:0'), Confidence: tensor([0.9825], device='cuda:0'), Box: tensor([[  0.0000,   1.6491, 413.0222, 410.3773]], device='cuda:0')\n",
      "\n",
      "image 1/1 c:\\Users\\User\\Desktop\\Object_Detection\\Pistols\\datasets\\test\\images\\armas (2756)_jpg.rf.7d74ce31a33f82cc381f8254251febda.jpg: 416x416 1 pistol, 3.9ms\n",
      "Speed: 1.0ms preprocess, 3.9ms inference, 5.8ms postprocess per image at shape (1, 3, 416, 416)\n",
      "Results for armas (2756)_jpg.rf.7d74ce31a33f82cc381f8254251febda.jpg:\n",
      "Class: tensor([0.], device='cuda:0'), Confidence: tensor([0.9739], device='cuda:0'), Box: tensor([[  2.4707,  10.5800, 407.1439, 407.0310]], device='cuda:0')\n",
      "\n",
      "image 1/1 c:\\Users\\User\\Desktop\\Object_Detection\\Pistols\\datasets\\test\\images\\armas (2757)_jpg.rf.f56205dc90b6382617175c4d79985f4b.jpg: 416x416 1 pistol, 8.4ms\n",
      "Speed: 1.0ms preprocess, 8.4ms inference, 0.6ms postprocess per image at shape (1, 3, 416, 416)\n",
      "Results for armas (2757)_jpg.rf.f56205dc90b6382617175c4d79985f4b.jpg:\n",
      "Class: tensor([0.], device='cuda:0'), Confidence: tensor([0.9827], device='cuda:0'), Box: tensor([[  4.2456,   1.6719, 411.6356, 412.6228]], device='cuda:0')\n",
      "\n",
      "image 1/1 c:\\Users\\User\\Desktop\\Object_Detection\\Pistols\\datasets\\test\\images\\armas (2758)_jpg.rf.ed2b50f60fde5cf1f4497ca5fa39cf2c.jpg: 416x416 1 pistol, 10.1ms\n",
      "Speed: 0.0ms preprocess, 10.1ms inference, 2.1ms postprocess per image at shape (1, 3, 416, 416)\n",
      "Results for armas (2758)_jpg.rf.ed2b50f60fde5cf1f4497ca5fa39cf2c.jpg:\n",
      "Class: tensor([0.], device='cuda:0'), Confidence: tensor([0.9787], device='cuda:0'), Box: tensor([[  1.3076,   2.8796, 412.2289, 409.8299]], device='cuda:0')\n",
      "\n",
      "image 1/1 c:\\Users\\User\\Desktop\\Object_Detection\\Pistols\\datasets\\test\\images\\armas (2759)_jpg.rf.b891a878e7c2884496b01fffa27db35e.jpg: 416x416 1 pistol, 7.7ms\n",
      "Speed: 0.0ms preprocess, 7.7ms inference, 4.0ms postprocess per image at shape (1, 3, 416, 416)\n",
      "Results for armas (2759)_jpg.rf.b891a878e7c2884496b01fffa27db35e.jpg:\n",
      "Class: tensor([0.], device='cuda:0'), Confidence: tensor([0.9744], device='cuda:0'), Box: tensor([[  1.4751,   8.0713, 414.1202, 405.4977]], device='cuda:0')\n",
      "\n",
      "image 1/1 c:\\Users\\User\\Desktop\\Object_Detection\\Pistols\\datasets\\test\\images\\armas (2760)_jpg.rf.0b0d991a14c1b90922800eafb66fb648.jpg: 416x416 1 pistol, 9.0ms\n",
      "Speed: 4.1ms preprocess, 9.0ms inference, 1.0ms postprocess per image at shape (1, 3, 416, 416)\n",
      "Results for armas (2760)_jpg.rf.0b0d991a14c1b90922800eafb66fb648.jpg:\n",
      "Class: tensor([0.], device='cuda:0'), Confidence: tensor([0.9712], device='cuda:0'), Box: tensor([[ 10.8457,   5.3348, 411.8780, 406.9494]], device='cuda:0')\n",
      "\n",
      "image 1/1 c:\\Users\\User\\Desktop\\Object_Detection\\Pistols\\datasets\\test\\images\\armas (2761)_jpg.rf.48bc75dc3c422f61a6ee2b4250b77c53.jpg: 416x416 1 pistol, 13.7ms\n",
      "Speed: 0.0ms preprocess, 13.7ms inference, 1.0ms postprocess per image at shape (1, 3, 416, 416)\n",
      "Results for armas (2761)_jpg.rf.48bc75dc3c422f61a6ee2b4250b77c53.jpg:\n",
      "Class: tensor([0.], device='cuda:0'), Confidence: tensor([0.9835], device='cuda:0'), Box: tensor([[  0.5324,   0.5424, 414.8840, 415.0481]], device='cuda:0')\n",
      "\n",
      "image 1/1 c:\\Users\\User\\Desktop\\Object_Detection\\Pistols\\datasets\\test\\images\\armas (2762)_jpg.rf.18748fe79c6b39140482d7e72edab29b.jpg: 416x416 1 pistol, 9.9ms\n",
      "Speed: 0.0ms preprocess, 9.9ms inference, 2.2ms postprocess per image at shape (1, 3, 416, 416)\n",
      "Results for armas (2762)_jpg.rf.18748fe79c6b39140482d7e72edab29b.jpg:\n",
      "Class: tensor([0.], device='cuda:0'), Confidence: tensor([0.9784], device='cuda:0'), Box: tensor([[  4.6620,   1.9965, 410.9954, 409.3561]], device='cuda:0')\n",
      "\n",
      "image 1/1 c:\\Users\\User\\Desktop\\Object_Detection\\Pistols\\datasets\\test\\images\\armas (2763)_jpg.rf.b2275b23ea3001e20fe24c61e1bb400c.jpg: 416x416 1 pistol, 7.7ms\n",
      "Speed: 0.0ms preprocess, 7.7ms inference, 0.0ms postprocess per image at shape (1, 3, 416, 416)\n",
      "Results for armas (2763)_jpg.rf.b2275b23ea3001e20fe24c61e1bb400c.jpg:\n",
      "Class: tensor([0.], device='cuda:0'), Confidence: tensor([0.9788], device='cuda:0'), Box: tensor([[  0.9792,   2.0444, 406.1465, 410.6322]], device='cuda:0')\n",
      "\n",
      "image 1/1 c:\\Users\\User\\Desktop\\Object_Detection\\Pistols\\datasets\\test\\images\\armas (2764)_jpg.rf.252ae77dba6a1150261c53ece1f5e754.jpg: 416x416 1 pistol, 9.6ms\n",
      "Speed: 0.0ms preprocess, 9.6ms inference, 1.0ms postprocess per image at shape (1, 3, 416, 416)\n",
      "Results for armas (2764)_jpg.rf.252ae77dba6a1150261c53ece1f5e754.jpg:\n",
      "Class: tensor([0.], device='cuda:0'), Confidence: tensor([0.9735], device='cuda:0'), Box: tensor([[  4.7702,   0.8961, 408.7029, 403.6031]], device='cuda:0')\n",
      "\n",
      "image 1/1 c:\\Users\\User\\Desktop\\Object_Detection\\Pistols\\datasets\\test\\images\\armas (2765)_jpg.rf.31bcc2a08ea30645cc4e80a9a8ea409a.jpg: 416x416 1 pistol, 12.6ms\n",
      "Speed: 0.0ms preprocess, 12.6ms inference, 1.0ms postprocess per image at shape (1, 3, 416, 416)\n",
      "Results for armas (2765)_jpg.rf.31bcc2a08ea30645cc4e80a9a8ea409a.jpg:\n",
      "Class: tensor([0.], device='cuda:0'), Confidence: tensor([0.9679], device='cuda:0'), Box: tensor([[  1.5712,  13.6047, 409.8917, 405.9467]], device='cuda:0')\n",
      "\n",
      "image 1/1 c:\\Users\\User\\Desktop\\Object_Detection\\Pistols\\datasets\\test\\images\\armas (2766)_jpg.rf.649e63758ee87f3d6c2bc9eac3749d74.jpg: 416x416 1 pistol, 14.1ms\n",
      "Speed: 0.0ms preprocess, 14.1ms inference, 0.5ms postprocess per image at shape (1, 3, 416, 416)\n",
      "Results for armas (2766)_jpg.rf.649e63758ee87f3d6c2bc9eac3749d74.jpg:\n",
      "Class: tensor([0.], device='cuda:0'), Confidence: tensor([0.9753], device='cuda:0'), Box: tensor([[  2.2166,   2.4006, 408.7476, 405.4196]], device='cuda:0')\n",
      "\n",
      "image 1/1 c:\\Users\\User\\Desktop\\Object_Detection\\Pistols\\datasets\\test\\images\\armas (2767)_jpg.rf.805b0ea33a2e9e573efc5b864d60948a.jpg: 416x416 1 pistol, 12.1ms\n",
      "Speed: 0.0ms preprocess, 12.1ms inference, 1.1ms postprocess per image at shape (1, 3, 416, 416)\n",
      "Results for armas (2767)_jpg.rf.805b0ea33a2e9e573efc5b864d60948a.jpg:\n",
      "Class: tensor([0.], device='cuda:0'), Confidence: tensor([0.9620], device='cuda:0'), Box: tensor([[ 10.7068,  13.5786, 399.9274, 403.1247]], device='cuda:0')\n",
      "\n",
      "image 1/1 c:\\Users\\User\\Desktop\\Object_Detection\\Pistols\\datasets\\test\\images\\armas (2768)_jpg.rf.11a7e621c8665f92571d16b4b360ad66.jpg: 416x416 1 pistol, 9.8ms\n",
      "Speed: 0.0ms preprocess, 9.8ms inference, 2.3ms postprocess per image at shape (1, 3, 416, 416)\n",
      "Results for armas (2768)_jpg.rf.11a7e621c8665f92571d16b4b360ad66.jpg:\n",
      "Class: tensor([0.], device='cuda:0'), Confidence: tensor([0.9783], device='cuda:0'), Box: tensor([[  1.0558,   1.0676, 407.8896, 404.7294]], device='cuda:0')\n",
      "\n",
      "image 1/1 c:\\Users\\User\\Desktop\\Object_Detection\\Pistols\\datasets\\test\\images\\armas (2769)_jpg.rf.ed71ed70d66210e976c6f625c3e3c3ef.jpg: 416x416 1 pistol, 6.6ms\n",
      "Speed: 0.4ms preprocess, 6.6ms inference, 0.0ms postprocess per image at shape (1, 3, 416, 416)\n",
      "Results for armas (2769)_jpg.rf.ed71ed70d66210e976c6f625c3e3c3ef.jpg:\n",
      "Class: tensor([0.], device='cuda:0'), Confidence: tensor([0.9743], device='cuda:0'), Box: tensor([[  3.2007,   5.9235, 408.7623, 407.1365]], device='cuda:0')\n",
      "\n",
      "image 1/1 c:\\Users\\User\\Desktop\\Object_Detection\\Pistols\\datasets\\test\\images\\armas (2770)_jpg.rf.eb084b2a8d3fef316b73fd85fb36e4f5.jpg: 416x416 1 pistol, 7.7ms\n",
      "Speed: 1.0ms preprocess, 7.7ms inference, 3.7ms postprocess per image at shape (1, 3, 416, 416)\n",
      "Results for armas (2770)_jpg.rf.eb084b2a8d3fef316b73fd85fb36e4f5.jpg:\n",
      "Class: tensor([0.], device='cuda:0'), Confidence: tensor([0.9748], device='cuda:0'), Box: tensor([[  8.2234,   1.7234, 407.6913, 408.1131]], device='cuda:0')\n",
      "\n",
      "image 1/1 c:\\Users\\User\\Desktop\\Object_Detection\\Pistols\\datasets\\test\\images\\armas (2771)_jpg.rf.1ff992b35c65311dadf1200fe801ddaa.jpg: 416x416 1 pistol, 6.1ms\n",
      "Speed: 0.9ms preprocess, 6.1ms inference, 5.2ms postprocess per image at shape (1, 3, 416, 416)\n",
      "Results for armas (2771)_jpg.rf.1ff992b35c65311dadf1200fe801ddaa.jpg:\n",
      "Class: tensor([0.], device='cuda:0'), Confidence: tensor([0.9712], device='cuda:0'), Box: tensor([[  2.2108,   7.6550, 408.5647, 406.5334]], device='cuda:0')\n",
      "\n",
      "image 1/1 c:\\Users\\User\\Desktop\\Object_Detection\\Pistols\\datasets\\test\\images\\armas (2772)_jpg.rf.a4f54fd0a1b3a9ac73ae08a4e36a88b1.jpg: 416x416 1 pistol, 7.3ms\n",
      "Speed: 0.1ms preprocess, 7.3ms inference, 2.7ms postprocess per image at shape (1, 3, 416, 416)\n",
      "Results for armas (2772)_jpg.rf.a4f54fd0a1b3a9ac73ae08a4e36a88b1.jpg:\n",
      "Class: tensor([0.], device='cuda:0'), Confidence: tensor([0.9756], device='cuda:0'), Box: tensor([[  2.5548,   6.3795, 414.0976, 410.6129]], device='cuda:0')\n",
      "\n",
      "image 1/1 c:\\Users\\User\\Desktop\\Object_Detection\\Pistols\\datasets\\test\\images\\armas (2773)_jpg.rf.8546e935822a4c32993c7234fd8f4d29.jpg: 416x416 1 pistol, 8.5ms\n",
      "Speed: 0.0ms preprocess, 8.5ms inference, 1.0ms postprocess per image at shape (1, 3, 416, 416)\n",
      "Results for armas (2773)_jpg.rf.8546e935822a4c32993c7234fd8f4d29.jpg:\n",
      "Class: tensor([0.], device='cuda:0'), Confidence: tensor([0.9762], device='cuda:0'), Box: tensor([[2.3950e-01, 1.5025e+01, 4.1107e+02, 4.0981e+02]], device='cuda:0')\n",
      "\n",
      "image 1/1 c:\\Users\\User\\Desktop\\Object_Detection\\Pistols\\datasets\\test\\images\\armas (2774)_jpg.rf.641e7dc08cd7763c640180608f76a338.jpg: 416x416 1 pistol, 12.8ms\n",
      "Speed: 0.0ms preprocess, 12.8ms inference, 0.5ms postprocess per image at shape (1, 3, 416, 416)\n",
      "Results for armas (2774)_jpg.rf.641e7dc08cd7763c640180608f76a338.jpg:\n",
      "Class: tensor([0.], device='cuda:0'), Confidence: tensor([0.9779], device='cuda:0'), Box: tensor([[  2.3287,   7.1012, 412.7372, 413.7623]], device='cuda:0')\n",
      "\n",
      "image 1/1 c:\\Users\\User\\Desktop\\Object_Detection\\Pistols\\datasets\\test\\images\\armas (2775)_jpg.rf.0757b6e0033b608d293dce100c3622c1.jpg: 416x416 1 pistol, 11.9ms\n",
      "Speed: 0.0ms preprocess, 11.9ms inference, 1.0ms postprocess per image at shape (1, 3, 416, 416)\n",
      "Results for armas (2775)_jpg.rf.0757b6e0033b608d293dce100c3622c1.jpg:\n",
      "Class: tensor([0.], device='cuda:0'), Confidence: tensor([0.9827], device='cuda:0'), Box: tensor([[3.2269e-01, 8.4625e-01, 4.1384e+02, 4.1148e+02]], device='cuda:0')\n",
      "\n",
      "image 1/1 c:\\Users\\User\\Desktop\\Object_Detection\\Pistols\\datasets\\test\\images\\armas (2776)_jpg.rf.1f97ce9e52ce535e03bb97252e51439c.jpg: 416x416 1 pistol, 10.7ms\n",
      "Speed: 0.0ms preprocess, 10.7ms inference, 1.2ms postprocess per image at shape (1, 3, 416, 416)\n",
      "Results for armas (2776)_jpg.rf.1f97ce9e52ce535e03bb97252e51439c.jpg:\n",
      "Class: tensor([0.], device='cuda:0'), Confidence: tensor([0.9794], device='cuda:0'), Box: tensor([[  6.6348,   1.3541, 405.0806, 408.9684]], device='cuda:0')\n",
      "\n",
      "image 1/1 c:\\Users\\User\\Desktop\\Object_Detection\\Pistols\\datasets\\test\\images\\armas (2777)_jpg.rf.5c14c44687880882f3de9dd0f0024e34.jpg: 416x416 1 pistol, 9.3ms\n",
      "Speed: 0.0ms preprocess, 9.3ms inference, 1.4ms postprocess per image at shape (1, 3, 416, 416)\n",
      "Results for armas (2777)_jpg.rf.5c14c44687880882f3de9dd0f0024e34.jpg:\n",
      "Class: tensor([0.], device='cuda:0'), Confidence: tensor([0.9746], device='cuda:0'), Box: tensor([[  3.6895,   0.5986, 413.8293, 409.4592]], device='cuda:0')\n",
      "\n",
      "image 1/1 c:\\Users\\User\\Desktop\\Object_Detection\\Pistols\\datasets\\test\\images\\armas (2778)_jpg.rf.6673c9e8362e2b2183987356755bf764.jpg: 416x416 1 pistol, 9.2ms\n",
      "Speed: 1.0ms preprocess, 9.2ms inference, 0.0ms postprocess per image at shape (1, 3, 416, 416)\n",
      "Results for armas (2778)_jpg.rf.6673c9e8362e2b2183987356755bf764.jpg:\n",
      "Class: tensor([0.], device='cuda:0'), Confidence: tensor([0.9678], device='cuda:0'), Box: tensor([[ 12.0788,   6.1689, 394.1685, 400.5099]], device='cuda:0')\n",
      "\n",
      "image 1/1 c:\\Users\\User\\Desktop\\Object_Detection\\Pistols\\datasets\\test\\images\\armas (2779)_jpg.rf.8ae3e3424784187a50461a9f3db1a1fd.jpg: 416x416 1 pistol, 14.4ms\n",
      "Speed: 0.0ms preprocess, 14.4ms inference, 1.0ms postprocess per image at shape (1, 3, 416, 416)\n",
      "Results for armas (2779)_jpg.rf.8ae3e3424784187a50461a9f3db1a1fd.jpg:\n",
      "Class: tensor([0.], device='cuda:0'), Confidence: tensor([0.9304], device='cuda:0'), Box: tensor([[ 81.1802,   5.9684, 340.7391, 403.5380]], device='cuda:0')\n",
      "\n",
      "image 1/1 c:\\Users\\User\\Desktop\\Object_Detection\\Pistols\\datasets\\test\\images\\armas (2780)_jpg.rf.a574ebbaa2cd7ffa10c55785cafafe3a.jpg: 416x416 1 pistol, 15.3ms\n",
      "Speed: 0.0ms preprocess, 15.3ms inference, 1.0ms postprocess per image at shape (1, 3, 416, 416)\n",
      "Results for armas (2780)_jpg.rf.a574ebbaa2cd7ffa10c55785cafafe3a.jpg:\n",
      "Class: tensor([0.], device='cuda:0'), Confidence: tensor([0.9369], device='cuda:0'), Box: tensor([[ 34.8730,  13.7065, 389.9295, 329.6774]], device='cuda:0')\n",
      "\n",
      "image 1/1 c:\\Users\\User\\Desktop\\Object_Detection\\Pistols\\datasets\\test\\images\\armas (2781)_jpg.rf.9868f1db1901cd9f5bee8441c5ec95ca.jpg: 416x416 2 pistols, 10.4ms\n",
      "Speed: 0.0ms preprocess, 10.4ms inference, 1.0ms postprocess per image at shape (1, 3, 416, 416)\n",
      "Results for armas (2781)_jpg.rf.9868f1db1901cd9f5bee8441c5ec95ca.jpg:\n",
      "Class: tensor([0.], device='cuda:0'), Confidence: tensor([0.2846], device='cuda:0'), Box: tensor([[0.0000e+00, 9.1003e-02, 4.1592e+02, 3.4416e+02]], device='cuda:0')\n",
      "Class: tensor([0.], device='cuda:0'), Confidence: tensor([0.2725], device='cuda:0'), Box: tensor([[132.3112, 373.3105, 194.6446, 416.0000]], device='cuda:0')\n",
      "\n",
      "image 1/1 c:\\Users\\User\\Desktop\\Object_Detection\\Pistols\\datasets\\test\\images\\armas (2782)_jpg.rf.7baf12b03a3b125a8215e9578a9d6a41.jpg: 416x416 1 pistol, 10.1ms\n",
      "Speed: 1.4ms preprocess, 10.1ms inference, 1.0ms postprocess per image at shape (1, 3, 416, 416)\n",
      "Results for armas (2782)_jpg.rf.7baf12b03a3b125a8215e9578a9d6a41.jpg:\n",
      "Class: tensor([0.], device='cuda:0'), Confidence: tensor([0.2665], device='cuda:0'), Box: tensor([[ 37.2286, 137.3578, 112.1271, 198.4335]], device='cuda:0')\n",
      "\n",
      "image 1/1 c:\\Users\\User\\Desktop\\Object_Detection\\Pistols\\datasets\\test\\images\\armas (2783)_jpg.rf.28fe615774989a394e9f07365f984777.jpg: 416x416 1 pistol, 10.6ms\n",
      "Speed: 0.0ms preprocess, 10.6ms inference, 1.0ms postprocess per image at shape (1, 3, 416, 416)\n",
      "Results for armas (2783)_jpg.rf.28fe615774989a394e9f07365f984777.jpg:\n",
      "Class: tensor([0.], device='cuda:0'), Confidence: tensor([0.6586], device='cuda:0'), Box: tensor([[  2.7966, 131.9427, 401.3098, 384.5419]], device='cuda:0')\n",
      "\n",
      "image 1/1 c:\\Users\\User\\Desktop\\Object_Detection\\Pistols\\datasets\\test\\images\\armas (2784)_jpg.rf.e631e2775e1d71938df4b0f09067b3a4.jpg: 416x416 1 pistol, 15.6ms\n",
      "Speed: 0.0ms preprocess, 15.6ms inference, 1.0ms postprocess per image at shape (1, 3, 416, 416)\n",
      "Results for armas (2784)_jpg.rf.e631e2775e1d71938df4b0f09067b3a4.jpg:\n",
      "Class: tensor([0.], device='cuda:0'), Confidence: tensor([0.9699], device='cuda:0'), Box: tensor([[ 14.1094,  16.1581, 403.2470, 407.2712]], device='cuda:0')\n",
      "\n",
      "image 1/1 c:\\Users\\User\\Desktop\\Object_Detection\\Pistols\\datasets\\test\\images\\armas (2785)_jpg.rf.4fc27abb252d43857f026baa53f1b116.jpg: 416x416 1 pistol, 12.6ms\n",
      "Speed: 0.0ms preprocess, 12.6ms inference, 0.3ms postprocess per image at shape (1, 3, 416, 416)\n",
      "Results for armas (2785)_jpg.rf.4fc27abb252d43857f026baa53f1b116.jpg:\n",
      "Class: tensor([0.], device='cuda:0'), Confidence: tensor([0.9598], device='cuda:0'), Box: tensor([[ 19.5644,  27.5797, 398.7116, 382.4119]], device='cuda:0')\n",
      "\n",
      "image 1/1 c:\\Users\\User\\Desktop\\Object_Detection\\Pistols\\datasets\\test\\images\\armas (2786)_jpg.rf.942f1648315c2855a199e726c99beb50.jpg: 416x416 1 pistol, 10.9ms\n",
      "Speed: 0.0ms preprocess, 10.9ms inference, 0.7ms postprocess per image at shape (1, 3, 416, 416)\n",
      "Results for armas (2786)_jpg.rf.942f1648315c2855a199e726c99beb50.jpg:\n",
      "Class: tensor([0.], device='cuda:0'), Confidence: tensor([0.5204], device='cuda:0'), Box: tensor([[116.0787, 132.5059, 164.9765, 222.0363]], device='cuda:0')\n",
      "\n",
      "image 1/1 c:\\Users\\User\\Desktop\\Object_Detection\\Pistols\\datasets\\test\\images\\armas (2787)_jpg.rf.2f49baa8e9f45467f16acf82686faaee.jpg: 416x416 1 pistol, 8.1ms\n",
      "Speed: 6.0ms preprocess, 8.1ms inference, 0.0ms postprocess per image at shape (1, 3, 416, 416)\n",
      "Results for armas (2787)_jpg.rf.2f49baa8e9f45467f16acf82686faaee.jpg:\n",
      "Class: tensor([0.], device='cuda:0'), Confidence: tensor([0.7224], device='cuda:0'), Box: tensor([[  9.3648,  13.1444, 409.4378, 358.7694]], device='cuda:0')\n",
      "\n",
      "image 1/1 c:\\Users\\User\\Desktop\\Object_Detection\\Pistols\\datasets\\test\\images\\armas (2788)_jpg.rf.17e371f7372580c2517ee21e9faae8bd.jpg: 416x416 (no detections), 8.4ms\n",
      "Speed: 6.0ms preprocess, 8.4ms inference, 1.0ms postprocess per image at shape (1, 3, 416, 416)\n",
      "Results for armas (2788)_jpg.rf.17e371f7372580c2517ee21e9faae8bd.jpg:\n",
      "\n",
      "image 1/1 c:\\Users\\User\\Desktop\\Object_Detection\\Pistols\\datasets\\test\\images\\armas (2789)_jpg.rf.05c646e95448e1d869f54d458eb7356d.jpg: 416x416 (no detections), 9.9ms\n",
      "Speed: 0.0ms preprocess, 9.9ms inference, 2.1ms postprocess per image at shape (1, 3, 416, 416)\n",
      "Results for armas (2789)_jpg.rf.05c646e95448e1d869f54d458eb7356d.jpg:\n",
      "\n",
      "image 1/1 c:\\Users\\User\\Desktop\\Object_Detection\\Pistols\\datasets\\test\\images\\armas (2790)_jpg.rf.1bc34f5ed4c4fefc88476324fa00f353.jpg: 416x416 1 pistol, 6.1ms\n",
      "Speed: 4.6ms preprocess, 6.1ms inference, 0.0ms postprocess per image at shape (1, 3, 416, 416)\n",
      "Results for armas (2790)_jpg.rf.1bc34f5ed4c4fefc88476324fa00f353.jpg:\n",
      "Class: tensor([0.], device='cuda:0'), Confidence: tensor([0.5988], device='cuda:0'), Box: tensor([[183.7861, 195.6925, 373.8450, 359.7173]], device='cuda:0')\n",
      "\n",
      "image 1/1 c:\\Users\\User\\Desktop\\Object_Detection\\Pistols\\datasets\\test\\images\\armas (2791)_jpg.rf.c6383a33763c16bdc586f8bf5efb1e34.jpg: 416x416 2 pistols, 10.8ms\n",
      "Speed: 0.0ms preprocess, 10.8ms inference, 1.1ms postprocess per image at shape (1, 3, 416, 416)\n",
      "Results for armas (2791)_jpg.rf.c6383a33763c16bdc586f8bf5efb1e34.jpg:\n",
      "Class: tensor([0.], device='cuda:0'), Confidence: tensor([0.7819], device='cuda:0'), Box: tensor([[344.7253, 165.2073, 415.9974, 416.0000]], device='cuda:0')\n",
      "Class: tensor([0.], device='cuda:0'), Confidence: tensor([0.5551], device='cuda:0'), Box: tensor([[197.7799, 195.6104, 249.3852, 367.4365]], device='cuda:0')\n",
      "\n",
      "image 1/1 c:\\Users\\User\\Desktop\\Object_Detection\\Pistols\\datasets\\test\\images\\armas (2792)_jpg.rf.c25ad002f0d68f27676b0720b6c1e65d.jpg: 416x416 (no detections), 9.9ms\n",
      "Speed: 0.0ms preprocess, 9.9ms inference, 0.0ms postprocess per image at shape (1, 3, 416, 416)\n",
      "Results for armas (2792)_jpg.rf.c25ad002f0d68f27676b0720b6c1e65d.jpg:\n",
      "\n",
      "image 1/1 c:\\Users\\User\\Desktop\\Object_Detection\\Pistols\\datasets\\test\\images\\armas (2793)_jpg.rf.e1d131606ba469bd2097b3470e9cc2a4.jpg: 416x416 3 pistols, 8.1ms\n",
      "Speed: 6.0ms preprocess, 8.1ms inference, 0.0ms postprocess per image at shape (1, 3, 416, 416)\n",
      "Results for armas (2793)_jpg.rf.e1d131606ba469bd2097b3470e9cc2a4.jpg:\n",
      "Class: tensor([0.], device='cuda:0'), Confidence: tensor([0.6039], device='cuda:0'), Box: tensor([[156.1649, 336.3673, 182.9580, 394.7920]], device='cuda:0')\n",
      "Class: tensor([0.], device='cuda:0'), Confidence: tensor([0.4995], device='cuda:0'), Box: tensor([[ 43.3534,  87.5763, 112.4787, 181.3030]], device='cuda:0')\n",
      "Class: tensor([0.], device='cuda:0'), Confidence: tensor([0.2714], device='cuda:0'), Box: tensor([[156.6982, 327.6912, 188.2140, 397.9259]], device='cuda:0')\n",
      "\n",
      "image 1/1 c:\\Users\\User\\Desktop\\Object_Detection\\Pistols\\datasets\\test\\images\\armas (2794)_jpg.rf.25a06363793914b0da7293cb62e10956.jpg: 416x416 1 pistol, 9.0ms\n",
      "Speed: 0.1ms preprocess, 9.0ms inference, 0.0ms postprocess per image at shape (1, 3, 416, 416)\n",
      "Results for armas (2794)_jpg.rf.25a06363793914b0da7293cb62e10956.jpg:\n",
      "Class: tensor([0.], device='cuda:0'), Confidence: tensor([0.8307], device='cuda:0'), Box: tensor([[141.2440,  67.1511, 266.7503, 414.8184]], device='cuda:0')\n",
      "\n",
      "image 1/1 c:\\Users\\User\\Desktop\\Object_Detection\\Pistols\\datasets\\test\\images\\armas (2795)_jpg.rf.a7059c939db52540f1a259f63e6f49d3.jpg: 416x416 (no detections), 9.7ms\n",
      "Speed: 0.0ms preprocess, 9.7ms inference, 1.0ms postprocess per image at shape (1, 3, 416, 416)\n",
      "Results for armas (2795)_jpg.rf.a7059c939db52540f1a259f63e6f49d3.jpg:\n",
      "\n",
      "image 1/1 c:\\Users\\User\\Desktop\\Object_Detection\\Pistols\\datasets\\test\\images\\armas (2796)_jpg.rf.441a27a77c3c73fc5a96f21889caae89.jpg: 416x416 (no detections), 8.6ms\n",
      "Speed: 0.6ms preprocess, 8.6ms inference, 0.6ms postprocess per image at shape (1, 3, 416, 416)\n",
      "Results for armas (2796)_jpg.rf.441a27a77c3c73fc5a96f21889caae89.jpg:\n",
      "\n",
      "image 1/1 c:\\Users\\User\\Desktop\\Object_Detection\\Pistols\\datasets\\test\\images\\armas (2797)_jpg.rf.5518ea2e6baa681a051807d54dae5d9d.jpg: 416x416 1 pistol, 7.2ms\n",
      "Speed: 0.5ms preprocess, 7.2ms inference, 0.0ms postprocess per image at shape (1, 3, 416, 416)\n",
      "Results for armas (2797)_jpg.rf.5518ea2e6baa681a051807d54dae5d9d.jpg:\n",
      "Class: tensor([0.], device='cuda:0'), Confidence: tensor([0.6173], device='cuda:0'), Box: tensor([[131.6319,  21.3336, 231.3116, 362.5656]], device='cuda:0')\n",
      "\n",
      "image 1/1 c:\\Users\\User\\Desktop\\Object_Detection\\Pistols\\datasets\\test\\images\\armas (2798)_jpg.rf.64399ffa8464f5c6d9bbdc2219d1d018.jpg: 416x416 1 pistol, 8.8ms\n",
      "Speed: 1.0ms preprocess, 8.8ms inference, 0.0ms postprocess per image at shape (1, 3, 416, 416)\n",
      "Results for armas (2798)_jpg.rf.64399ffa8464f5c6d9bbdc2219d1d018.jpg:\n",
      "Class: tensor([0.], device='cuda:0'), Confidence: tensor([0.8529], device='cuda:0'), Box: tensor([[282.4588,  93.9140, 368.1285, 246.6293]], device='cuda:0')\n",
      "\n",
      "image 1/1 c:\\Users\\User\\Desktop\\Object_Detection\\Pistols\\datasets\\test\\images\\armas (2799)_jpg.rf.461da0787b1a41d35afaf6eb1110b0f0.jpg: 416x416 1 pistol, 14.2ms\n",
      "Speed: 0.0ms preprocess, 14.2ms inference, 2.0ms postprocess per image at shape (1, 3, 416, 416)\n",
      "Results for armas (2799)_jpg.rf.461da0787b1a41d35afaf6eb1110b0f0.jpg:\n",
      "Class: tensor([0.], device='cuda:0'), Confidence: tensor([0.9271], device='cuda:0'), Box: tensor([[144.1033,  83.5602, 323.4815, 329.6699]], device='cuda:0')\n",
      "\n",
      "image 1/1 c:\\Users\\User\\Desktop\\Object_Detection\\Pistols\\datasets\\test\\images\\armas (2800)_jpg.rf.29356406a70180d5d53c936595c1bf3b.jpg: 416x416 1 pistol, 15.2ms\n",
      "Speed: 0.0ms preprocess, 15.2ms inference, 2.0ms postprocess per image at shape (1, 3, 416, 416)\n",
      "Results for armas (2800)_jpg.rf.29356406a70180d5d53c936595c1bf3b.jpg:\n",
      "Class: tensor([0.], device='cuda:0'), Confidence: tensor([0.7331], device='cuda:0'), Box: tensor([[246.3340, 151.5751, 315.5312, 201.6942]], device='cuda:0')\n",
      "\n",
      "image 1/1 c:\\Users\\User\\Desktop\\Object_Detection\\Pistols\\datasets\\test\\images\\armas (2801)_jpg.rf.f9c0c64bd21fd73da71d42aeb4047f88.jpg: 416x416 1 pistol, 12.1ms\n",
      "Speed: 0.0ms preprocess, 12.1ms inference, 0.2ms postprocess per image at shape (1, 3, 416, 416)\n",
      "Results for armas (2801)_jpg.rf.f9c0c64bd21fd73da71d42aeb4047f88.jpg:\n",
      "Class: tensor([0.], device='cuda:0'), Confidence: tensor([0.7276], device='cuda:0'), Box: tensor([[30.4701, 71.6839, 83.0620, 94.2553]], device='cuda:0')\n",
      "\n",
      "image 1/1 c:\\Users\\User\\Desktop\\Object_Detection\\Pistols\\datasets\\test\\images\\armas (2802)_jpg.rf.4baaeda2e0d3d1600192ac65de43278c.jpg: 416x416 2 pistols, 9.6ms\n",
      "Speed: 0.0ms preprocess, 9.6ms inference, 1.6ms postprocess per image at shape (1, 3, 416, 416)\n",
      "Results for armas (2802)_jpg.rf.4baaeda2e0d3d1600192ac65de43278c.jpg:\n",
      "Class: tensor([0.], device='cuda:0'), Confidence: tensor([0.8143], device='cuda:0'), Box: tensor([[149.2120, 167.6295, 355.7346, 416.0000]], device='cuda:0')\n",
      "Class: tensor([0.], device='cuda:0'), Confidence: tensor([0.3341], device='cuda:0'), Box: tensor([[2.6016e-02, 7.6518e-01, 2.5524e+02, 1.4781e+02]], device='cuda:0')\n",
      "\n",
      "image 1/1 c:\\Users\\User\\Desktop\\Object_Detection\\Pistols\\datasets\\test\\images\\armas (2803)_jpg.rf.da9cc8059ad9a1a1b56232e8f2c219c6.jpg: 416x416 2 pistols, 12.8ms\n",
      "Speed: 0.0ms preprocess, 12.8ms inference, 1.1ms postprocess per image at shape (1, 3, 416, 416)\n",
      "Results for armas (2803)_jpg.rf.da9cc8059ad9a1a1b56232e8f2c219c6.jpg:\n",
      "Class: tensor([0.], device='cuda:0'), Confidence: tensor([0.6157], device='cuda:0'), Box: tensor([[ 84.4715,  58.6900, 136.4203, 127.6472]], device='cuda:0')\n",
      "Class: tensor([0.], device='cuda:0'), Confidence: tensor([0.2661], device='cuda:0'), Box: tensor([[ 98.9007,  58.0455, 135.4455, 125.6734]], device='cuda:0')\n",
      "\n",
      "image 1/1 c:\\Users\\User\\Desktop\\Object_Detection\\Pistols\\datasets\\test\\images\\armas (2804)_jpg.rf.8c4b6aab77f7b208df6288e0d650ace9.jpg: 416x416 1 pistol, 12.9ms\n",
      "Speed: 0.0ms preprocess, 12.9ms inference, 1.0ms postprocess per image at shape (1, 3, 416, 416)\n",
      "Results for armas (2804)_jpg.rf.8c4b6aab77f7b208df6288e0d650ace9.jpg:\n",
      "Class: tensor([0.], device='cuda:0'), Confidence: tensor([0.6960], device='cuda:0'), Box: tensor([[125.6963,  39.9168, 356.9457, 246.5022]], device='cuda:0')\n",
      "\n",
      "image 1/1 c:\\Users\\User\\Desktop\\Object_Detection\\Pistols\\datasets\\test\\images\\armas (2805)_jpg.rf.0da3f52f711cbbebbe31962d8e48732b.jpg: 416x416 1 pistol, 11.9ms\n",
      "Speed: 0.0ms preprocess, 11.9ms inference, 1.3ms postprocess per image at shape (1, 3, 416, 416)\n",
      "Results for armas (2805)_jpg.rf.0da3f52f711cbbebbe31962d8e48732b.jpg:\n",
      "Class: tensor([0.], device='cuda:0'), Confidence: tensor([0.3116], device='cuda:0'), Box: tensor([[ 82.4802, 173.5912, 175.3054, 264.6480]], device='cuda:0')\n",
      "\n",
      "image 1/1 c:\\Users\\User\\Desktop\\Object_Detection\\Pistols\\datasets\\test\\images\\armas (2806)_jpg.rf.5230ea71c9b2e9511079133bd6991e8c.jpg: 416x416 1 pistol, 10.7ms\n",
      "Speed: 0.0ms preprocess, 10.7ms inference, 2.1ms postprocess per image at shape (1, 3, 416, 416)\n",
      "Results for armas (2806)_jpg.rf.5230ea71c9b2e9511079133bd6991e8c.jpg:\n",
      "Class: tensor([0.], device='cuda:0'), Confidence: tensor([0.9303], device='cuda:0'), Box: tensor([[150.8000,  60.5851, 407.7202, 353.6136]], device='cuda:0')\n",
      "\n",
      "image 1/1 c:\\Users\\User\\Desktop\\Object_Detection\\Pistols\\datasets\\test\\images\\armas (2807)_jpg.rf.181cc8bb4cdae5c5995a8d90e812572b.jpg: 416x416 (no detections), 8.3ms\n",
      "Speed: 5.4ms preprocess, 8.3ms inference, 0.0ms postprocess per image at shape (1, 3, 416, 416)\n",
      "Results for armas (2807)_jpg.rf.181cc8bb4cdae5c5995a8d90e812572b.jpg:\n",
      "\n",
      "image 1/1 c:\\Users\\User\\Desktop\\Object_Detection\\Pistols\\datasets\\test\\images\\armas (2808)_jpg.rf.e18da405e1d86ef3c554085331434d45.jpg: 416x416 1 pistol, 8.1ms\n",
      "Speed: 1.4ms preprocess, 8.1ms inference, 0.0ms postprocess per image at shape (1, 3, 416, 416)\n",
      "Results for armas (2808)_jpg.rf.e18da405e1d86ef3c554085331434d45.jpg:\n",
      "Class: tensor([0.], device='cuda:0'), Confidence: tensor([0.3758], device='cuda:0'), Box: tensor([[  1.7123,  19.7080, 342.0984, 416.0000]], device='cuda:0')\n",
      "\n",
      "image 1/1 c:\\Users\\User\\Desktop\\Object_Detection\\Pistols\\datasets\\test\\images\\armas (2809)_jpg.rf.2637695e8a5d2da66821e74b59ec97df.jpg: 416x416 (no detections), 7.7ms\n",
      "Speed: 1.0ms preprocess, 7.7ms inference, 1.0ms postprocess per image at shape (1, 3, 416, 416)\n",
      "Results for armas (2809)_jpg.rf.2637695e8a5d2da66821e74b59ec97df.jpg:\n",
      "\n",
      "image 1/1 c:\\Users\\User\\Desktop\\Object_Detection\\Pistols\\datasets\\test\\images\\armas (2810)_jpg.rf.eb054c839384fabdb324de588357bfd0.jpg: 416x416 1 pistol, 7.1ms\n",
      "Speed: 1.0ms preprocess, 7.1ms inference, 4.0ms postprocess per image at shape (1, 3, 416, 416)\n",
      "Results for armas (2810)_jpg.rf.eb054c839384fabdb324de588357bfd0.jpg:\n",
      "Class: tensor([0.], device='cuda:0'), Confidence: tensor([0.8766], device='cuda:0'), Box: tensor([[125.9394, 155.5414, 176.9782, 206.0317]], device='cuda:0')\n",
      "\n",
      "image 1/1 c:\\Users\\User\\Desktop\\Object_Detection\\Pistols\\datasets\\test\\images\\armas (2811)_jpg.rf.25cdcdae4bc910981beda46df42b5472.jpg: 416x416 1 pistol, 8.7ms\n",
      "Speed: 1.1ms preprocess, 8.7ms inference, 0.0ms postprocess per image at shape (1, 3, 416, 416)\n",
      "Results for armas (2811)_jpg.rf.25cdcdae4bc910981beda46df42b5472.jpg:\n",
      "Class: tensor([0.], device='cuda:0'), Confidence: tensor([0.8443], device='cuda:0'), Box: tensor([[115.9689,  32.9319, 241.6564, 248.2227]], device='cuda:0')\n",
      "\n",
      "image 1/1 c:\\Users\\User\\Desktop\\Object_Detection\\Pistols\\datasets\\test\\images\\armas (2812)_jpg.rf.ca3c7a1cf49aef123d0634f43e022485.jpg: 416x416 4 pistols, 8.5ms\n",
      "Speed: 1.0ms preprocess, 8.5ms inference, 0.0ms postprocess per image at shape (1, 3, 416, 416)\n",
      "Results for armas (2812)_jpg.rf.ca3c7a1cf49aef123d0634f43e022485.jpg:\n",
      "Class: tensor([0.], device='cuda:0'), Confidence: tensor([0.5976], device='cuda:0'), Box: tensor([[ 95.4822,  62.9779, 118.6638,  86.0517]], device='cuda:0')\n",
      "Class: tensor([0.], device='cuda:0'), Confidence: tensor([0.4516], device='cuda:0'), Box: tensor([[ 94.0860,  62.0668, 118.0997,  93.3445]], device='cuda:0')\n",
      "Class: tensor([0.], device='cuda:0'), Confidence: tensor([0.3605], device='cuda:0'), Box: tensor([[252.6795, 275.3441, 280.2086, 307.1758]], device='cuda:0')\n",
      "Class: tensor([0.], device='cuda:0'), Confidence: tensor([0.3013], device='cuda:0'), Box: tensor([[286.9894,  68.2752, 308.1354,  90.3586]], device='cuda:0')\n",
      "\n",
      "image 1/1 c:\\Users\\User\\Desktop\\Object_Detection\\Pistols\\datasets\\test\\images\\armas (2813)_jpg.rf.0008cff5ee4d0697e2b293a205128a7c.jpg: 416x416 2 pistols, 9.3ms\n",
      "Speed: 0.0ms preprocess, 9.3ms inference, 0.0ms postprocess per image at shape (1, 3, 416, 416)\n",
      "Results for armas (2813)_jpg.rf.0008cff5ee4d0697e2b293a205128a7c.jpg:\n",
      "Class: tensor([0.], device='cuda:0'), Confidence: tensor([0.6681], device='cuda:0'), Box: tensor([[185.1927, 244.6396, 281.2472, 376.7440]], device='cuda:0')\n",
      "Class: tensor([0.], device='cuda:0'), Confidence: tensor([0.3831], device='cuda:0'), Box: tensor([[254.8887,   2.2412, 299.1300,  91.6394]], device='cuda:0')\n",
      "\n",
      "image 1/1 c:\\Users\\User\\Desktop\\Object_Detection\\Pistols\\datasets\\test\\images\\armas (2814)_jpg.rf.5b9946cfe9dd87f6e13684f1b22ded4d.jpg: 416x416 1 pistol, 8.0ms\n",
      "Speed: 1.3ms preprocess, 8.0ms inference, 0.0ms postprocess per image at shape (1, 3, 416, 416)\n",
      "Results for armas (2814)_jpg.rf.5b9946cfe9dd87f6e13684f1b22ded4d.jpg:\n",
      "Class: tensor([0.], device='cuda:0'), Confidence: tensor([0.9651], device='cuda:0'), Box: tensor([[ 17.5062,  31.9812, 392.6558, 387.5370]], device='cuda:0')\n",
      "\n",
      "image 1/1 c:\\Users\\User\\Desktop\\Object_Detection\\Pistols\\datasets\\test\\images\\armas (2815)_jpg.rf.21606d51c1b2060234e1f513b13f0462.jpg: 416x416 1 pistol, 9.7ms\n",
      "Speed: 0.0ms preprocess, 9.7ms inference, 1.4ms postprocess per image at shape (1, 3, 416, 416)\n",
      "Results for armas (2815)_jpg.rf.21606d51c1b2060234e1f513b13f0462.jpg:\n",
      "Class: tensor([0.], device='cuda:0'), Confidence: tensor([0.9400], device='cuda:0'), Box: tensor([[ 62.9411,  92.0869, 344.7500, 388.4520]], device='cuda:0')\n",
      "\n",
      "image 1/1 c:\\Users\\User\\Desktop\\Object_Detection\\Pistols\\datasets\\test\\images\\armas (2816)_jpg.rf.f07f98bf7d31c9bfee76071fa7b53a9c.jpg: 416x416 1 pistol, 9.6ms\n",
      "Speed: 0.0ms preprocess, 9.6ms inference, 0.9ms postprocess per image at shape (1, 3, 416, 416)\n",
      "Results for armas (2816)_jpg.rf.f07f98bf7d31c9bfee76071fa7b53a9c.jpg:\n",
      "Class: tensor([0.], device='cuda:0'), Confidence: tensor([0.9600], device='cuda:0'), Box: tensor([[ 23.2501,  18.2083, 404.8965, 398.3464]], device='cuda:0')\n",
      "\n",
      "image 1/1 c:\\Users\\User\\Desktop\\Object_Detection\\Pistols\\datasets\\test\\images\\armas (2817)_jpg.rf.82e5fd61d08097e32fd6dbf503d0d929.jpg: 416x416 (no detections), 11.5ms\n",
      "Speed: 0.0ms preprocess, 11.5ms inference, 1.2ms postprocess per image at shape (1, 3, 416, 416)\n",
      "Results for armas (2817)_jpg.rf.82e5fd61d08097e32fd6dbf503d0d929.jpg:\n",
      "\n",
      "image 1/1 c:\\Users\\User\\Desktop\\Object_Detection\\Pistols\\datasets\\test\\images\\armas (2818)_jpg.rf.a96987c1ff01dc5d0d186ed1285a7970.jpg: 416x416 1 pistol, 8.8ms\n",
      "Speed: 0.7ms preprocess, 8.8ms inference, 0.9ms postprocess per image at shape (1, 3, 416, 416)\n",
      "Results for armas (2818)_jpg.rf.a96987c1ff01dc5d0d186ed1285a7970.jpg:\n",
      "Class: tensor([0.], device='cuda:0'), Confidence: tensor([0.9656], device='cuda:0'), Box: tensor([[  5.1042,  17.0701, 410.5001, 370.5725]], device='cuda:0')\n",
      "\n",
      "image 1/1 c:\\Users\\User\\Desktop\\Object_Detection\\Pistols\\datasets\\test\\images\\armas (2819)_jpg.rf.429339c3e7ba3c2f18bd0dee7b775b2a.jpg: 416x416 1 pistol, 13.9ms\n",
      "Speed: 0.0ms preprocess, 13.9ms inference, 0.0ms postprocess per image at shape (1, 3, 416, 416)\n",
      "Results for armas (2819)_jpg.rf.429339c3e7ba3c2f18bd0dee7b775b2a.jpg:\n",
      "Class: tensor([0.], device='cuda:0'), Confidence: tensor([0.7795], device='cuda:0'), Box: tensor([[ 29.8795, 172.6072, 355.6448, 279.7844]], device='cuda:0')\n",
      "\n",
      "image 1/1 c:\\Users\\User\\Desktop\\Object_Detection\\Pistols\\datasets\\test\\images\\armas (2820)_jpg.rf.f9e6a02927074b64b23a01492589ae32.jpg: 416x416 (no detections), 14.5ms\n",
      "Speed: 0.0ms preprocess, 14.5ms inference, 1.1ms postprocess per image at shape (1, 3, 416, 416)\n",
      "Results for armas (2820)_jpg.rf.f9e6a02927074b64b23a01492589ae32.jpg:\n",
      "\n",
      "image 1/1 c:\\Users\\User\\Desktop\\Object_Detection\\Pistols\\datasets\\test\\images\\armas (2821)_jpg.rf.59830bbf5fb8d4e80745177aea243cd2.jpg: 416x416 1 pistol, 12.3ms\n",
      "Speed: 0.0ms preprocess, 12.3ms inference, 1.0ms postprocess per image at shape (1, 3, 416, 416)\n",
      "Results for armas (2821)_jpg.rf.59830bbf5fb8d4e80745177aea243cd2.jpg:\n",
      "Class: tensor([0.], device='cuda:0'), Confidence: tensor([0.2623], device='cuda:0'), Box: tensor([[239.7772,  71.1850, 280.7412, 182.8503]], device='cuda:0')\n",
      "\n",
      "image 1/1 c:\\Users\\User\\Desktop\\Object_Detection\\Pistols\\datasets\\test\\images\\armas (2822)_jpg.rf.8199a04cf8290f4269713b3bffa3fd67.jpg: 416x416 10 pistols, 9.6ms\n",
      "Speed: 0.0ms preprocess, 9.6ms inference, 3.2ms postprocess per image at shape (1, 3, 416, 416)\n",
      "Results for armas (2822)_jpg.rf.8199a04cf8290f4269713b3bffa3fd67.jpg:\n",
      "Class: tensor([0.], device='cuda:0'), Confidence: tensor([0.8995], device='cuda:0'), Box: tensor([[209.0637, 323.3148, 395.5184, 416.0000]], device='cuda:0')\n",
      "Class: tensor([0.], device='cuda:0'), Confidence: tensor([0.8677], device='cuda:0'), Box: tensor([[ 11.6889, 114.4585,  81.3093, 194.0535]], device='cuda:0')\n",
      "Class: tensor([0.], device='cuda:0'), Confidence: tensor([0.8468], device='cuda:0'), Box: tensor([[183.0236, 178.2074, 252.8339, 280.6545]], device='cuda:0')\n",
      "Class: tensor([0.], device='cuda:0'), Confidence: tensor([0.7746], device='cuda:0'), Box: tensor([[288.9861,  65.8997, 366.3105, 159.6535]], device='cuda:0')\n",
      "Class: tensor([0.], device='cuda:0'), Confidence: tensor([0.7267], device='cuda:0'), Box: tensor([[268.4644, 195.9505, 342.6399, 275.2139]], device='cuda:0')\n",
      "Class: tensor([0.], device='cuda:0'), Confidence: tensor([0.7111], device='cuda:0'), Box: tensor([[120.4735, 127.1759, 159.8197, 172.3298]], device='cuda:0')\n",
      "Class: tensor([0.], device='cuda:0'), Confidence: tensor([0.6823], device='cuda:0'), Box: tensor([[ 97.7593, 210.5977, 171.2559, 283.8033]], device='cuda:0')\n",
      "Class: tensor([0.], device='cuda:0'), Confidence: tensor([0.6353], device='cuda:0'), Box: tensor([[184.8591,  82.3278, 266.8184, 158.4004]], device='cuda:0')\n",
      "Class: tensor([0.], device='cuda:0'), Confidence: tensor([0.6040], device='cuda:0'), Box: tensor([[349.7955, 214.2288, 402.3412, 294.4619]], device='cuda:0')\n",
      "Class: tensor([0.], device='cuda:0'), Confidence: tensor([0.3140], device='cuda:0'), Box: tensor([[ 30.8227,  25.5969, 100.5484,  88.1615]], device='cuda:0')\n",
      "\n",
      "image 1/1 c:\\Users\\User\\Desktop\\Object_Detection\\Pistols\\datasets\\test\\images\\armas (2823)_jpg.rf.d4a6392eab886cadfc2f0d9c08779838.jpg: 416x416 1 pistol, 11.0ms\n",
      "Speed: 0.9ms preprocess, 11.0ms inference, 0.0ms postprocess per image at shape (1, 3, 416, 416)\n",
      "Results for armas (2823)_jpg.rf.d4a6392eab886cadfc2f0d9c08779838.jpg:\n",
      "Class: tensor([0.], device='cuda:0'), Confidence: tensor([0.9645], device='cuda:0'), Box: tensor([[  9.6559,  14.5653, 394.5994, 400.1542]], device='cuda:0')\n",
      "\n",
      "image 1/1 c:\\Users\\User\\Desktop\\Object_Detection\\Pistols\\datasets\\test\\images\\armas (2824)_jpg.rf.3f62704b4a497579e02c350ad35be0a1.jpg: 416x416 1 pistol, 7.1ms\n",
      "Speed: 0.0ms preprocess, 7.1ms inference, 5.0ms postprocess per image at shape (1, 3, 416, 416)\n",
      "Results for armas (2824)_jpg.rf.3f62704b4a497579e02c350ad35be0a1.jpg:\n",
      "Class: tensor([0.], device='cuda:0'), Confidence: tensor([0.9197], device='cuda:0'), Box: tensor([[156.1911, 110.5780, 392.2337, 298.6948]], device='cuda:0')\n",
      "\n",
      "image 1/1 c:\\Users\\User\\Desktop\\Object_Detection\\Pistols\\datasets\\test\\images\\armas (2825)_jpg.rf.e40ce3e9512aad421739d889776130ac.jpg: 416x416 1 pistol, 6.1ms\n",
      "Speed: 0.0ms preprocess, 6.1ms inference, 5.8ms postprocess per image at shape (1, 3, 416, 416)\n",
      "Results for armas (2825)_jpg.rf.e40ce3e9512aad421739d889776130ac.jpg:\n",
      "Class: tensor([0.], device='cuda:0'), Confidence: tensor([0.9586], device='cuda:0'), Box: tensor([[ 18.9431,  39.8593, 391.1672, 382.7578]], device='cuda:0')\n",
      "\n",
      "image 1/1 c:\\Users\\User\\Desktop\\Object_Detection\\Pistols\\datasets\\test\\images\\armas (2826)_jpg.rf.db335912e67993d776c2111724eb7a9e.jpg: 416x416 1 pistol, 11.7ms\n",
      "Speed: 0.0ms preprocess, 11.7ms inference, 1.0ms postprocess per image at shape (1, 3, 416, 416)\n",
      "Results for armas (2826)_jpg.rf.db335912e67993d776c2111724eb7a9e.jpg:\n",
      "Class: tensor([0.], device='cuda:0'), Confidence: tensor([0.9380], device='cuda:0'), Box: tensor([[ 43.2086,  58.4756, 385.3458, 385.9797]], device='cuda:0')\n",
      "\n",
      "image 1/1 c:\\Users\\User\\Desktop\\Object_Detection\\Pistols\\datasets\\test\\images\\armas (2827)_jpg.rf.45775fdca03be5a427d26924fb4b6d85.jpg: 416x416 1 pistol, 11.4ms\n",
      "Speed: 0.0ms preprocess, 11.4ms inference, 1.1ms postprocess per image at shape (1, 3, 416, 416)\n",
      "Results for armas (2827)_jpg.rf.45775fdca03be5a427d26924fb4b6d85.jpg:\n",
      "Class: tensor([0.], device='cuda:0'), Confidence: tensor([0.9312], device='cuda:0'), Box: tensor([[ 14.9328,  16.1900, 369.0497, 215.2135]], device='cuda:0')\n",
      "\n",
      "image 1/1 c:\\Users\\User\\Desktop\\Object_Detection\\Pistols\\datasets\\test\\images\\armas (2828)_jpg.rf.28094623e8a23262acd34e774e1432a4.jpg: 416x416 3 pistols, 8.6ms\n",
      "Speed: 0.0ms preprocess, 8.6ms inference, 3.4ms postprocess per image at shape (1, 3, 416, 416)\n",
      "Results for armas (2828)_jpg.rf.28094623e8a23262acd34e774e1432a4.jpg:\n",
      "Class: tensor([0.], device='cuda:0'), Confidence: tensor([0.9050], device='cuda:0'), Box: tensor([[173.5586,  45.1190, 336.3282, 186.9180]], device='cuda:0')\n",
      "Class: tensor([0.], device='cuda:0'), Confidence: tensor([0.8908], device='cuda:0'), Box: tensor([[ 92.2363, 185.9906, 245.8983, 389.4131]], device='cuda:0')\n",
      "Class: tensor([0.], device='cuda:0'), Confidence: tensor([0.7922], device='cuda:0'), Box: tensor([[198.4558, 176.6862, 384.6869, 349.9138]], device='cuda:0')\n",
      "\n",
      "image 1/1 c:\\Users\\User\\Desktop\\Object_Detection\\Pistols\\datasets\\test\\images\\armas (2829)_jpg.rf.03dee90e2c44c351b1179f0f8ca15086.jpg: 416x416 (no detections), 6.6ms\n",
      "Speed: 2.2ms preprocess, 6.6ms inference, 0.0ms postprocess per image at shape (1, 3, 416, 416)\n",
      "Results for armas (2829)_jpg.rf.03dee90e2c44c351b1179f0f8ca15086.jpg:\n",
      "\n",
      "image 1/1 c:\\Users\\User\\Desktop\\Object_Detection\\Pistols\\datasets\\test\\images\\armas (2830)_jpg.rf.ca56aff0c13423bb41a5842b0f552d01.jpg: 416x416 1 pistol, 9.8ms\n",
      "Speed: 6.1ms preprocess, 9.8ms inference, 1.8ms postprocess per image at shape (1, 3, 416, 416)\n",
      "Results for armas (2830)_jpg.rf.ca56aff0c13423bb41a5842b0f552d01.jpg:\n",
      "Class: tensor([0.], device='cuda:0'), Confidence: tensor([0.3927], device='cuda:0'), Box: tensor([[175.3496, 183.5868, 243.5005, 336.6001]], device='cuda:0')\n",
      "\n",
      "image 1/1 c:\\Users\\User\\Desktop\\Object_Detection\\Pistols\\datasets\\test\\images\\armas (2831)_jpg.rf.5f0242c68e483ae76d6d99abcc5c5d91.jpg: 416x416 1 pistol, 8.1ms\n",
      "Speed: 0.0ms preprocess, 8.1ms inference, 3.7ms postprocess per image at shape (1, 3, 416, 416)\n",
      "Results for armas (2831)_jpg.rf.5f0242c68e483ae76d6d99abcc5c5d91.jpg:\n",
      "Class: tensor([0.], device='cuda:0'), Confidence: tensor([0.8995], device='cuda:0'), Box: tensor([[196.0334, 163.4745, 290.5674, 262.9829]], device='cuda:0')\n",
      "\n",
      "image 1/1 c:\\Users\\User\\Desktop\\Object_Detection\\Pistols\\datasets\\test\\images\\armas (2832)_jpg.rf.7d80dc4d45fb4e0383473378a17554a9.jpg: 416x416 1 pistol, 8.4ms\n",
      "Speed: 1.0ms preprocess, 8.4ms inference, 0.0ms postprocess per image at shape (1, 3, 416, 416)\n",
      "Results for armas (2832)_jpg.rf.7d80dc4d45fb4e0383473378a17554a9.jpg:\n",
      "Class: tensor([0.], device='cuda:0'), Confidence: tensor([0.9371], device='cuda:0'), Box: tensor([[3.9368e-03, 7.1782e-01, 4.1448e+02, 2.4270e+02]], device='cuda:0')\n",
      "\n",
      "image 1/1 c:\\Users\\User\\Desktop\\Object_Detection\\Pistols\\datasets\\test\\images\\armas (2833)_jpg.rf.27b98ef2adbff5beb2696698ec1e2319.jpg: 416x416 1 pistol, 13.0ms\n",
      "Speed: 0.0ms preprocess, 13.0ms inference, 1.0ms postprocess per image at shape (1, 3, 416, 416)\n",
      "Results for armas (2833)_jpg.rf.27b98ef2adbff5beb2696698ec1e2319.jpg:\n",
      "Class: tensor([0.], device='cuda:0'), Confidence: tensor([0.8918], device='cuda:0'), Box: tensor([[109.0698,  95.9042, 292.8342, 343.7688]], device='cuda:0')\n",
      "\n",
      "image 1/1 c:\\Users\\User\\Desktop\\Object_Detection\\Pistols\\datasets\\test\\images\\armas (2834)_jpg.rf.e8555029fc778ad68a79ddf511a17a49.jpg: 416x416 1 pistol, 10.9ms\n",
      "Speed: 0.0ms preprocess, 10.9ms inference, 1.0ms postprocess per image at shape (1, 3, 416, 416)\n",
      "Results for armas (2834)_jpg.rf.e8555029fc778ad68a79ddf511a17a49.jpg:\n",
      "Class: tensor([0.], device='cuda:0'), Confidence: tensor([0.9291], device='cuda:0'), Box: tensor([[ 57.9010, 143.5021, 294.9709, 295.1256]], device='cuda:0')\n",
      "\n",
      "image 1/1 c:\\Users\\User\\Desktop\\Object_Detection\\Pistols\\datasets\\test\\images\\armas (2835)_jpg.rf.88a7266c0a7979ecb5411036d684ce30.jpg: 416x416 3 pistols, 11.8ms\n",
      "Speed: 0.0ms preprocess, 11.8ms inference, 1.1ms postprocess per image at shape (1, 3, 416, 416)\n",
      "Results for armas (2835)_jpg.rf.88a7266c0a7979ecb5411036d684ce30.jpg:\n",
      "Class: tensor([0.], device='cuda:0'), Confidence: tensor([0.8303], device='cuda:0'), Box: tensor([[248.7098,  11.0460, 287.2387,  47.3095]], device='cuda:0')\n",
      "Class: tensor([0.], device='cuda:0'), Confidence: tensor([0.8127], device='cuda:0'), Box: tensor([[252.3401, 310.2376, 380.2510, 370.8199]], device='cuda:0')\n",
      "Class: tensor([0.], device='cuda:0'), Confidence: tensor([0.5604], device='cuda:0'), Box: tensor([[130.1002,  94.3157, 195.1718, 118.2894]], device='cuda:0')\n",
      "\n",
      "image 1/1 c:\\Users\\User\\Desktop\\Object_Detection\\Pistols\\datasets\\test\\images\\armas (2836)_jpg.rf.e13e29157abea7e3f980272368ae46b7.jpg: 416x416 1 pistol, 11.1ms\n",
      "Speed: 0.0ms preprocess, 11.1ms inference, 0.6ms postprocess per image at shape (1, 3, 416, 416)\n",
      "Results for armas (2836)_jpg.rf.e13e29157abea7e3f980272368ae46b7.jpg:\n",
      "Class: tensor([0.], device='cuda:0'), Confidence: tensor([0.8816], device='cuda:0'), Box: tensor([[152.4606,  17.7455, 275.4164, 365.3703]], device='cuda:0')\n",
      "\n",
      "image 1/1 c:\\Users\\User\\Desktop\\Object_Detection\\Pistols\\datasets\\test\\images\\armas (2837)_jpg.rf.9a71f4f0acbcd33ff128d673bbc1a99d.jpg: 416x416 (no detections), 10.2ms\n",
      "Speed: 0.0ms preprocess, 10.2ms inference, 0.0ms postprocess per image at shape (1, 3, 416, 416)\n",
      "Results for armas (2837)_jpg.rf.9a71f4f0acbcd33ff128d673bbc1a99d.jpg:\n",
      "\n",
      "image 1/1 c:\\Users\\User\\Desktop\\Object_Detection\\Pistols\\datasets\\test\\images\\armas (2838)_jpg.rf.b364fafca744496daac9fa56c9ea6002.jpg: 416x416 1 pistol, 14.9ms\n",
      "Speed: 0.0ms preprocess, 14.9ms inference, 1.1ms postprocess per image at shape (1, 3, 416, 416)\n",
      "Results for armas (2838)_jpg.rf.b364fafca744496daac9fa56c9ea6002.jpg:\n",
      "Class: tensor([0.], device='cuda:0'), Confidence: tensor([0.5785], device='cuda:0'), Box: tensor([[288.9512,  74.0496, 356.9332, 161.6553]], device='cuda:0')\n",
      "\n",
      "image 1/1 c:\\Users\\User\\Desktop\\Object_Detection\\Pistols\\datasets\\test\\images\\armas (2839)_jpg.rf.96cce24b384175dbdc822fc60eaf0e27.jpg: 416x416 1 pistol, 15.2ms\n",
      "Speed: 0.0ms preprocess, 15.2ms inference, 0.9ms postprocess per image at shape (1, 3, 416, 416)\n",
      "Results for armas (2839)_jpg.rf.96cce24b384175dbdc822fc60eaf0e27.jpg:\n",
      "Class: tensor([0.], device='cuda:0'), Confidence: tensor([0.8410], device='cuda:0'), Box: tensor([[ 69.0654,  50.3835, 401.7525, 283.4609]], device='cuda:0')\n",
      "\n",
      "image 1/1 c:\\Users\\User\\Desktop\\Object_Detection\\Pistols\\datasets\\test\\images\\armas (2840)_jpg.rf.fb1c06634d9f0778c6cb3698595ce0cb.jpg: 416x416 1 pistol, 13.3ms\n",
      "Speed: 0.0ms preprocess, 13.3ms inference, 2.0ms postprocess per image at shape (1, 3, 416, 416)\n",
      "Results for armas (2840)_jpg.rf.fb1c06634d9f0778c6cb3698595ce0cb.jpg:\n",
      "Class: tensor([0.], device='cuda:0'), Confidence: tensor([0.8791], device='cuda:0'), Box: tensor([[ 40.7963,  17.7358, 385.6163, 416.0000]], device='cuda:0')\n",
      "\n",
      "image 1/1 c:\\Users\\User\\Desktop\\Object_Detection\\Pistols\\datasets\\test\\images\\armas (2841)_jpg.rf.56c2de0d11c050b2cfc7d0154a332e45.jpg: 416x416 1 pistol, 8.9ms\n",
      "Speed: 5.6ms preprocess, 8.9ms inference, 1.0ms postprocess per image at shape (1, 3, 416, 416)\n",
      "Results for armas (2841)_jpg.rf.56c2de0d11c050b2cfc7d0154a332e45.jpg:\n",
      "Class: tensor([0.], device='cuda:0'), Confidence: tensor([0.9316], device='cuda:0'), Box: tensor([[ 58.8393,  13.9801, 358.1580, 294.7912]], device='cuda:0')\n",
      "\n",
      "image 1/1 c:\\Users\\User\\Desktop\\Object_Detection\\Pistols\\datasets\\test\\images\\armas (2842)_jpg.rf.c28aafc338fcd546e9fab7ffa6db74bb.jpg: 416x416 1 pistol, 9.2ms\n",
      "Speed: 0.0ms preprocess, 9.2ms inference, 1.0ms postprocess per image at shape (1, 3, 416, 416)\n",
      "Results for armas (2842)_jpg.rf.c28aafc338fcd546e9fab7ffa6db74bb.jpg:\n",
      "Class: tensor([0.], device='cuda:0'), Confidence: tensor([0.5482], device='cuda:0'), Box: tensor([[245.1143, 306.6714, 283.6807, 354.6613]], device='cuda:0')\n",
      "\n",
      "image 1/1 c:\\Users\\User\\Desktop\\Object_Detection\\Pistols\\datasets\\test\\images\\armas (2843)_jpg.rf.88b55094bba7ce32795850845c8c23e2.jpg: 416x416 2 pistols, 13.4ms\n",
      "Speed: 0.0ms preprocess, 13.4ms inference, 1.1ms postprocess per image at shape (1, 3, 416, 416)\n",
      "Results for armas (2843)_jpg.rf.88b55094bba7ce32795850845c8c23e2.jpg:\n",
      "Class: tensor([0.], device='cuda:0'), Confidence: tensor([0.7041], device='cuda:0'), Box: tensor([[307.1900,  87.6655, 354.2919, 255.5827]], device='cuda:0')\n",
      "Class: tensor([0.], device='cuda:0'), Confidence: tensor([0.4880], device='cuda:0'), Box: tensor([[305.5132, 124.9820, 351.7530, 250.7768]], device='cuda:0')\n",
      "\n",
      "image 1/1 c:\\Users\\User\\Desktop\\Object_Detection\\Pistols\\datasets\\test\\images\\armas (2844)_jpg.rf.4807b5ef8cfed0285c720c794f7d6c5a.jpg: 416x416 1 pistol, 11.8ms\n",
      "Speed: 0.0ms preprocess, 11.8ms inference, 1.1ms postprocess per image at shape (1, 3, 416, 416)\n",
      "Results for armas (2844)_jpg.rf.4807b5ef8cfed0285c720c794f7d6c5a.jpg:\n",
      "Class: tensor([0.], device='cuda:0'), Confidence: tensor([0.9749], device='cuda:0'), Box: tensor([[  2.7292,  14.0204, 414.5657, 415.0785]], device='cuda:0')\n",
      "\n",
      "image 1/1 c:\\Users\\User\\Desktop\\Object_Detection\\Pistols\\datasets\\test\\images\\armas (2845)_jpg.rf.7744d3a169b6434a8946bcf504b486ad.jpg: 416x416 1 pistol, 10.5ms\n",
      "Speed: 0.0ms preprocess, 10.5ms inference, 0.0ms postprocess per image at shape (1, 3, 416, 416)\n",
      "Results for armas (2845)_jpg.rf.7744d3a169b6434a8946bcf504b486ad.jpg:\n",
      "Class: tensor([0.], device='cuda:0'), Confidence: tensor([0.6941], device='cuda:0'), Box: tensor([[160.8195, 104.1027, 199.0340, 140.3822]], device='cuda:0')\n",
      "\n",
      "image 1/1 c:\\Users\\User\\Desktop\\Object_Detection\\Pistols\\datasets\\test\\images\\armas (2846)_jpg.rf.968401ffbb47e28b3de4e77855346f53.jpg: 416x416 1 pistol, 13.2ms\n",
      "Speed: 0.0ms preprocess, 13.2ms inference, 0.9ms postprocess per image at shape (1, 3, 416, 416)\n",
      "Results for armas (2846)_jpg.rf.968401ffbb47e28b3de4e77855346f53.jpg:\n",
      "Class: tensor([0.], device='cuda:0'), Confidence: tensor([0.5376], device='cuda:0'), Box: tensor([[258.0873, 215.0387, 294.9211, 342.2877]], device='cuda:0')\n",
      "\n",
      "image 1/1 c:\\Users\\User\\Desktop\\Object_Detection\\Pistols\\datasets\\test\\images\\armas (2847)_jpg.rf.67d16964f24778e0601cef4a2997331d.jpg: 416x416 1 pistol, 11.8ms\n",
      "Speed: 0.0ms preprocess, 11.8ms inference, 1.6ms postprocess per image at shape (1, 3, 416, 416)\n",
      "Results for armas (2847)_jpg.rf.67d16964f24778e0601cef4a2997331d.jpg:\n",
      "Class: tensor([0.], device='cuda:0'), Confidence: tensor([0.9605], device='cuda:0'), Box: tensor([[ 18.5404,  62.8522, 397.4479, 373.7363]], device='cuda:0')\n",
      "\n",
      "image 1/1 c:\\Users\\User\\Desktop\\Object_Detection\\Pistols\\datasets\\test\\images\\armas (2848)_jpg.rf.549fdd87e8a08554efb84012799e93d0.jpg: 416x416 4 pistols, 7.4ms\n",
      "Speed: 0.0ms preprocess, 7.4ms inference, 0.0ms postprocess per image at shape (1, 3, 416, 416)\n",
      "Results for armas (2848)_jpg.rf.549fdd87e8a08554efb84012799e93d0.jpg:\n",
      "Class: tensor([0.], device='cuda:0'), Confidence: tensor([0.9008], device='cuda:0'), Box: tensor([[300.2816, 148.1488, 416.0000, 379.9618]], device='cuda:0')\n",
      "Class: tensor([0.], device='cuda:0'), Confidence: tensor([0.3864], device='cuda:0'), Box: tensor([[  4.8758, 183.0541, 186.7535, 298.3434]], device='cuda:0')\n",
      "Class: tensor([0.], device='cuda:0'), Confidence: tensor([0.3335], device='cuda:0'), Box: tensor([[  5.7823, 214.5031, 182.9778, 301.7025]], device='cuda:0')\n",
      "Class: tensor([0.], device='cuda:0'), Confidence: tensor([0.2799], device='cuda:0'), Box: tensor([[187.9554,  20.8086, 234.2737,  87.8327]], device='cuda:0')\n",
      "\n",
      "image 1/1 c:\\Users\\User\\Desktop\\Object_Detection\\Pistols\\datasets\\test\\images\\armas (2849)_jpg.rf.59fa9b34784e9f6b015be204a6a589ba.jpg: 416x416 1 pistol, 10.3ms\n",
      "Speed: 0.0ms preprocess, 10.3ms inference, 0.4ms postprocess per image at shape (1, 3, 416, 416)\n",
      "Results for armas (2849)_jpg.rf.59fa9b34784e9f6b015be204a6a589ba.jpg:\n",
      "Class: tensor([0.], device='cuda:0'), Confidence: tensor([0.9227], device='cuda:0'), Box: tensor([[ 71.9415, 144.5833, 262.2607, 387.4940]], device='cuda:0')\n",
      "\n",
      "image 1/1 c:\\Users\\User\\Desktop\\Object_Detection\\Pistols\\datasets\\test\\images\\armas (2850)_jpg.rf.642eef9728b554caa0810667ff21e63a.jpg: 416x416 1 pistol, 10.0ms\n",
      "Speed: 0.0ms preprocess, 10.0ms inference, 1.2ms postprocess per image at shape (1, 3, 416, 416)\n",
      "Results for armas (2850)_jpg.rf.642eef9728b554caa0810667ff21e63a.jpg:\n",
      "Class: tensor([0.], device='cuda:0'), Confidence: tensor([0.9274], device='cuda:0'), Box: tensor([[ 21.6717, 123.5318, 238.2436, 321.4846]], device='cuda:0')\n",
      "\n",
      "image 1/1 c:\\Users\\User\\Desktop\\Object_Detection\\Pistols\\datasets\\test\\images\\armas (2851)_jpg.rf.2de6c01a88bea7e6b24c789128e3776c.jpg: 416x416 (no detections), 10.2ms\n",
      "Speed: 0.0ms preprocess, 10.2ms inference, 0.0ms postprocess per image at shape (1, 3, 416, 416)\n",
      "Results for armas (2851)_jpg.rf.2de6c01a88bea7e6b24c789128e3776c.jpg:\n",
      "\n",
      "image 1/1 c:\\Users\\User\\Desktop\\Object_Detection\\Pistols\\datasets\\test\\images\\armas (2852)_jpg.rf.10482684dd3de6b0d56f8d93d4015613.jpg: 416x416 (no detections), 9.5ms\n",
      "Speed: 0.0ms preprocess, 9.5ms inference, 0.0ms postprocess per image at shape (1, 3, 416, 416)\n",
      "Results for armas (2852)_jpg.rf.10482684dd3de6b0d56f8d93d4015613.jpg:\n",
      "\n",
      "image 1/1 c:\\Users\\User\\Desktop\\Object_Detection\\Pistols\\datasets\\test\\images\\armas (2853)_jpg.rf.7573b050eeabb57df0b66d18a33e945d.jpg: 416x416 1 pistol, 9.9ms\n",
      "Speed: 1.0ms preprocess, 9.9ms inference, 1.2ms postprocess per image at shape (1, 3, 416, 416)\n",
      "Results for armas (2853)_jpg.rf.7573b050eeabb57df0b66d18a33e945d.jpg:\n",
      "Class: tensor([0.], device='cuda:0'), Confidence: tensor([0.7354], device='cuda:0'), Box: tensor([[134.2520,  40.9503, 270.8569, 409.2535]], device='cuda:0')\n",
      "\n",
      "image 1/1 c:\\Users\\User\\Desktop\\Object_Detection\\Pistols\\datasets\\test\\images\\armas (2854)_jpg.rf.80547a1c8bc0697d51db36447aa89393.jpg: 416x416 1 pistol, 13.0ms\n",
      "Speed: 0.0ms preprocess, 13.0ms inference, 1.2ms postprocess per image at shape (1, 3, 416, 416)\n",
      "Results for armas (2854)_jpg.rf.80547a1c8bc0697d51db36447aa89393.jpg:\n",
      "Class: tensor([0.], device='cuda:0'), Confidence: tensor([0.9361], device='cuda:0'), Box: tensor([[ 90.7279,  53.7549, 409.9319, 400.3524]], device='cuda:0')\n",
      "\n",
      "image 1/1 c:\\Users\\User\\Desktop\\Object_Detection\\Pistols\\datasets\\test\\images\\armas (2855)_jpg.rf.dd55b91f5896f858efe4fc631ba59b55.jpg: 416x416 1 pistol, 10.5ms\n",
      "Speed: 0.0ms preprocess, 10.5ms inference, 1.0ms postprocess per image at shape (1, 3, 416, 416)\n",
      "Results for armas (2855)_jpg.rf.dd55b91f5896f858efe4fc631ba59b55.jpg:\n",
      "Class: tensor([0.], device='cuda:0'), Confidence: tensor([0.9675], device='cuda:0'), Box: tensor([[ 22.3106,  32.7659, 395.2567, 393.4682]], device='cuda:0')\n",
      "\n",
      "image 1/1 c:\\Users\\User\\Desktop\\Object_Detection\\Pistols\\datasets\\test\\images\\armas (2856)_jpg.rf.f833898c972f7bea0688471d1225a235.jpg: 416x416 1 pistol, 8.2ms\n",
      "Speed: 5.7ms preprocess, 8.2ms inference, 0.0ms postprocess per image at shape (1, 3, 416, 416)\n",
      "Results for armas (2856)_jpg.rf.f833898c972f7bea0688471d1225a235.jpg:\n",
      "Class: tensor([0.], device='cuda:0'), Confidence: tensor([0.9815], device='cuda:0'), Box: tensor([[ 21.7478,   0.0000, 397.1019, 416.0000]], device='cuda:0')\n",
      "\n",
      "image 1/1 c:\\Users\\User\\Desktop\\Object_Detection\\Pistols\\datasets\\test\\images\\armas (2857)_jpg.rf.41ee1b483313614c12d51a3b106e9e06.jpg: 416x416 1 pistol, 10.3ms\n",
      "Speed: 0.0ms preprocess, 10.3ms inference, 1.5ms postprocess per image at shape (1, 3, 416, 416)\n",
      "Results for armas (2857)_jpg.rf.41ee1b483313614c12d51a3b106e9e06.jpg:\n",
      "Class: tensor([0.], device='cuda:0'), Confidence: tensor([0.9169], device='cuda:0'), Box: tensor([[137.6790,  97.9623, 375.2115, 357.5985]], device='cuda:0')\n",
      "\n",
      "image 1/1 c:\\Users\\User\\Desktop\\Object_Detection\\Pistols\\datasets\\test\\images\\armas (2858)_jpg.rf.23c339457f614f3afeecd28db48e6479.jpg: 416x416 1 pistol, 12.7ms\n",
      "Speed: 0.0ms preprocess, 12.7ms inference, 0.0ms postprocess per image at shape (1, 3, 416, 416)\n",
      "Results for armas (2858)_jpg.rf.23c339457f614f3afeecd28db48e6479.jpg:\n",
      "Class: tensor([0.], device='cuda:0'), Confidence: tensor([0.7508], device='cuda:0'), Box: tensor([[253.4251,  34.8582, 306.2404, 173.5959]], device='cuda:0')\n",
      "\n",
      "image 1/1 c:\\Users\\User\\Desktop\\Object_Detection\\Pistols\\datasets\\test\\images\\armas (2859)_jpg.rf.d6687b6f5cf56bda6aac61550fe13f09.jpg: 416x416 1 pistol, 10.1ms\n",
      "Speed: 0.0ms preprocess, 10.1ms inference, 1.7ms postprocess per image at shape (1, 3, 416, 416)\n",
      "Results for armas (2859)_jpg.rf.d6687b6f5cf56bda6aac61550fe13f09.jpg:\n",
      "Class: tensor([0.], device='cuda:0'), Confidence: tensor([0.8534], device='cuda:0'), Box: tensor([[ 36.2617,   9.0310, 335.7660, 289.3185]], device='cuda:0')\n",
      "\n",
      "image 1/1 c:\\Users\\User\\Desktop\\Object_Detection\\Pistols\\datasets\\test\\images\\armas (2860)_jpg.rf.c363cecf4e6d456a23dd2ffb35f2b684.jpg: 416x416 2 pistols, 12.3ms\n",
      "Speed: 0.0ms preprocess, 12.3ms inference, 1.7ms postprocess per image at shape (1, 3, 416, 416)\n",
      "Results for armas (2860)_jpg.rf.c363cecf4e6d456a23dd2ffb35f2b684.jpg:\n",
      "Class: tensor([0.], device='cuda:0'), Confidence: tensor([0.6934], device='cuda:0'), Box: tensor([[185.6396, 174.5645, 220.1843, 303.1888]], device='cuda:0')\n",
      "Class: tensor([0.], device='cuda:0'), Confidence: tensor([0.5795], device='cuda:0'), Box: tensor([[191.4227, 213.3234, 209.7949, 306.1010]], device='cuda:0')\n",
      "\n",
      "image 1/1 c:\\Users\\User\\Desktop\\Object_Detection\\Pistols\\datasets\\test\\images\\armas (2861)_jpg.rf.7f3e41aac402ac34f700cd9874fe943d.jpg: 416x416 (no detections), 12.8ms\n",
      "Speed: 0.0ms preprocess, 12.8ms inference, 0.7ms postprocess per image at shape (1, 3, 416, 416)\n",
      "Results for armas (2861)_jpg.rf.7f3e41aac402ac34f700cd9874fe943d.jpg:\n",
      "\n",
      "image 1/1 c:\\Users\\User\\Desktop\\Object_Detection\\Pistols\\datasets\\test\\images\\armas (2862)_jpg.rf.9a913cf6626e463cf44da5fa675419c3.jpg: 416x416 2 pistols, 13.0ms\n",
      "Speed: 0.0ms preprocess, 13.0ms inference, 2.0ms postprocess per image at shape (1, 3, 416, 416)\n",
      "Results for armas (2862)_jpg.rf.9a913cf6626e463cf44da5fa675419c3.jpg:\n",
      "Class: tensor([0.], device='cuda:0'), Confidence: tensor([0.4272], device='cuda:0'), Box: tensor([[276.6857, 125.3929, 415.9229, 416.0000]], device='cuda:0')\n",
      "Class: tensor([0.], device='cuda:0'), Confidence: tensor([0.3212], device='cuda:0'), Box: tensor([[  0.0000,   0.0000, 247.6446, 405.3167]], device='cuda:0')\n",
      "\n",
      "image 1/1 c:\\Users\\User\\Desktop\\Object_Detection\\Pistols\\datasets\\test\\images\\armas (2863)_jpg.rf.246c70d2e68a55cabd4e5cf8dde434a7.jpg: 416x416 1 pistol, 13.7ms\n",
      "Speed: 0.0ms preprocess, 13.7ms inference, 0.0ms postprocess per image at shape (1, 3, 416, 416)\n",
      "Results for armas (2863)_jpg.rf.246c70d2e68a55cabd4e5cf8dde434a7.jpg:\n",
      "Class: tensor([0.], device='cuda:0'), Confidence: tensor([0.7962], device='cuda:0'), Box: tensor([[ 90.3471,  80.5209, 339.9026, 348.3495]], device='cuda:0')\n",
      "\n",
      "image 1/1 c:\\Users\\User\\Desktop\\Object_Detection\\Pistols\\datasets\\test\\images\\armas (2864)_jpg.rf.5277a538682d33a7b625953585e2d86c.jpg: 416x416 1 pistol, 12.3ms\n",
      "Speed: 0.0ms preprocess, 12.3ms inference, 0.9ms postprocess per image at shape (1, 3, 416, 416)\n",
      "Results for armas (2864)_jpg.rf.5277a538682d33a7b625953585e2d86c.jpg:\n",
      "Class: tensor([0.], device='cuda:0'), Confidence: tensor([0.7254], device='cuda:0'), Box: tensor([[120.6979, 121.8591, 197.0266, 166.9268]], device='cuda:0')\n",
      "\n",
      "image 1/1 c:\\Users\\User\\Desktop\\Object_Detection\\Pistols\\datasets\\test\\images\\armas (2865)_jpg.rf.881c9c18d4b7ec0f85ac79f8e028ef9a.jpg: 416x416 1 pistol, 13.2ms\n",
      "Speed: 0.0ms preprocess, 13.2ms inference, 1.3ms postprocess per image at shape (1, 3, 416, 416)\n",
      "Results for armas (2865)_jpg.rf.881c9c18d4b7ec0f85ac79f8e028ef9a.jpg:\n",
      "Class: tensor([0.], device='cuda:0'), Confidence: tensor([0.9293], device='cuda:0'), Box: tensor([[ 42.8197,  44.5024, 405.5166, 377.7098]], device='cuda:0')\n",
      "\n",
      "image 1/1 c:\\Users\\User\\Desktop\\Object_Detection\\Pistols\\datasets\\test\\images\\armas (2866)_jpg.rf.4501e8c09ef0bdca471818c71484efd0.jpg: 416x416 2 pistols, 13.3ms\n",
      "Speed: 0.0ms preprocess, 13.3ms inference, 0.4ms postprocess per image at shape (1, 3, 416, 416)\n",
      "Results for armas (2866)_jpg.rf.4501e8c09ef0bdca471818c71484efd0.jpg:\n",
      "Class: tensor([0.], device='cuda:0'), Confidence: tensor([0.8053], device='cuda:0'), Box: tensor([[ 27.4955, 120.0602, 165.0383, 283.3195]], device='cuda:0')\n",
      "Class: tensor([0.], device='cuda:0'), Confidence: tensor([0.2528], device='cuda:0'), Box: tensor([[ 77.6515, 119.5397, 165.6397, 283.0592]], device='cuda:0')\n",
      "\n",
      "image 1/1 c:\\Users\\User\\Desktop\\Object_Detection\\Pistols\\datasets\\test\\images\\armas (2867)_jpg.rf.4946dc51e928df6ca1d96393dd741839.jpg: 416x416 1 pistol, 9.4ms\n",
      "Speed: 0.0ms preprocess, 9.4ms inference, 1.0ms postprocess per image at shape (1, 3, 416, 416)\n",
      "Results for armas (2867)_jpg.rf.4946dc51e928df6ca1d96393dd741839.jpg:\n",
      "Class: tensor([0.], device='cuda:0'), Confidence: tensor([0.8826], device='cuda:0'), Box: tensor([[291.0285, 120.5693, 411.3883, 229.2688]], device='cuda:0')\n",
      "\n",
      "image 1/1 c:\\Users\\User\\Desktop\\Object_Detection\\Pistols\\datasets\\test\\images\\armas (2868)_jpg.rf.eb143a573e4383ff2b0cc988b7ba5bb2.jpg: 416x416 2 pistols, 9.6ms\n",
      "Speed: 0.0ms preprocess, 9.6ms inference, 2.5ms postprocess per image at shape (1, 3, 416, 416)\n",
      "Results for armas (2868)_jpg.rf.eb143a573e4383ff2b0cc988b7ba5bb2.jpg:\n",
      "Class: tensor([0.], device='cuda:0'), Confidence: tensor([0.8562], device='cuda:0'), Box: tensor([[300.2694, 125.3047, 414.6316, 232.3007]], device='cuda:0')\n",
      "Class: tensor([0.], device='cuda:0'), Confidence: tensor([0.3751], device='cuda:0'), Box: tensor([[249.8418, 339.2425, 363.5715, 392.4778]], device='cuda:0')\n",
      "\n",
      "image 1/1 c:\\Users\\User\\Desktop\\Object_Detection\\Pistols\\datasets\\test\\images\\armas (2869)_jpg.rf.b806dc91a9f7b4cd7d303bf5c8e757f5.jpg: 416x416 1 pistol, 9.6ms\n",
      "Speed: 2.2ms preprocess, 9.6ms inference, 0.0ms postprocess per image at shape (1, 3, 416, 416)\n",
      "Results for armas (2869)_jpg.rf.b806dc91a9f7b4cd7d303bf5c8e757f5.jpg:\n",
      "Class: tensor([0.], device='cuda:0'), Confidence: tensor([0.5167], device='cuda:0'), Box: tensor([[135.3460, 113.7674, 211.6859, 213.2040]], device='cuda:0')\n",
      "\n",
      "image 1/1 c:\\Users\\User\\Desktop\\Object_Detection\\Pistols\\datasets\\test\\images\\armas (2870)_jpg.rf.9a0144942446d34e8e6a105352a4bc19.jpg: 416x416 (no detections), 8.0ms\n",
      "Speed: 1.0ms preprocess, 8.0ms inference, 0.0ms postprocess per image at shape (1, 3, 416, 416)\n",
      "Results for armas (2870)_jpg.rf.9a0144942446d34e8e6a105352a4bc19.jpg:\n",
      "\n",
      "image 1/1 c:\\Users\\User\\Desktop\\Object_Detection\\Pistols\\datasets\\test\\images\\armas (2871)_jpg.rf.d6ff2cef96816b08aff8a54c3b7ca051.jpg: 416x416 2 pistols, 14.7ms\n",
      "Speed: 0.0ms preprocess, 14.7ms inference, 1.0ms postprocess per image at shape (1, 3, 416, 416)\n",
      "Results for armas (2871)_jpg.rf.d6ff2cef96816b08aff8a54c3b7ca051.jpg:\n",
      "Class: tensor([0.], device='cuda:0'), Confidence: tensor([0.6877], device='cuda:0'), Box: tensor([[194.1314, 187.9676, 255.4493, 340.7675]], device='cuda:0')\n",
      "Class: tensor([0.], device='cuda:0'), Confidence: tensor([0.5735], device='cuda:0'), Box: tensor([[191.9546, 186.0908, 301.5552, 343.3647]], device='cuda:0')\n",
      "\n",
      "image 1/1 c:\\Users\\User\\Desktop\\Object_Detection\\Pistols\\datasets\\test\\images\\armas (2872)_jpg.rf.4c63d0cd52834a89b6494cb79963f3e7.jpg: 416x416 1 pistol, 8.9ms\n",
      "Speed: 0.0ms preprocess, 8.9ms inference, 0.0ms postprocess per image at shape (1, 3, 416, 416)\n",
      "Results for armas (2872)_jpg.rf.4c63d0cd52834a89b6494cb79963f3e7.jpg:\n",
      "Class: tensor([0.], device='cuda:0'), Confidence: tensor([0.9592], device='cuda:0'), Box: tensor([[ 15.2672,  25.1548, 400.4697, 356.1638]], device='cuda:0')\n",
      "\n",
      "image 1/1 c:\\Users\\User\\Desktop\\Object_Detection\\Pistols\\datasets\\test\\images\\armas (2873)_jpg.rf.58cfaaa18241800e4fc703fa96195317.jpg: 416x416 1 pistol, 14.0ms\n",
      "Speed: 0.0ms preprocess, 14.0ms inference, 0.6ms postprocess per image at shape (1, 3, 416, 416)\n",
      "Results for armas (2873)_jpg.rf.58cfaaa18241800e4fc703fa96195317.jpg:\n",
      "Class: tensor([0.], device='cuda:0'), Confidence: tensor([0.9689], device='cuda:0'), Box: tensor([[ 28.2332,  29.1344, 390.3481, 390.3012]], device='cuda:0')\n",
      "\n",
      "image 1/1 c:\\Users\\User\\Desktop\\Object_Detection\\Pistols\\datasets\\test\\images\\armas (2874)_jpg.rf.811a800d5af2d9ddbf8f0379f7940958.jpg: 416x416 (no detections), 10.4ms\n",
      "Speed: 0.0ms preprocess, 10.4ms inference, 1.2ms postprocess per image at shape (1, 3, 416, 416)\n",
      "Results for armas (2874)_jpg.rf.811a800d5af2d9ddbf8f0379f7940958.jpg:\n",
      "\n",
      "image 1/1 c:\\Users\\User\\Desktop\\Object_Detection\\Pistols\\datasets\\test\\images\\armas (2875)_jpg.rf.ce8c79d414cd65a02262e23024ccba18.jpg: 416x416 2 pistols, 13.0ms\n",
      "Speed: 0.0ms preprocess, 13.0ms inference, 1.1ms postprocess per image at shape (1, 3, 416, 416)\n",
      "Results for armas (2875)_jpg.rf.ce8c79d414cd65a02262e23024ccba18.jpg:\n",
      "Class: tensor([0.], device='cuda:0'), Confidence: tensor([0.9374], device='cuda:0'), Box: tensor([[170.4341, 158.1700, 382.9943, 396.8818]], device='cuda:0')\n",
      "Class: tensor([0.], device='cuda:0'), Confidence: tensor([0.9274], device='cuda:0'), Box: tensor([[ 43.4397,  27.6624, 244.6889, 260.0446]], device='cuda:0')\n",
      "\n",
      "image 1/1 c:\\Users\\User\\Desktop\\Object_Detection\\Pistols\\datasets\\test\\images\\armas (2876)_jpg.rf.134c597c978fc47cb915f200c8c4a6d3.jpg: 416x416 3 pistols, 13.4ms\n",
      "Speed: 0.0ms preprocess, 13.4ms inference, 0.0ms postprocess per image at shape (1, 3, 416, 416)\n",
      "Results for armas (2876)_jpg.rf.134c597c978fc47cb915f200c8c4a6d3.jpg:\n",
      "Class: tensor([0.], device='cuda:0'), Confidence: tensor([0.7135], device='cuda:0'), Box: tensor([[ 95.5029, 119.1339, 260.5400, 312.3499]], device='cuda:0')\n",
      "Class: tensor([0.], device='cuda:0'), Confidence: tensor([0.5380], device='cuda:0'), Box: tensor([[ 16.9915, 108.8894, 155.7137, 297.1494]], device='cuda:0')\n",
      "Class: tensor([0.], device='cuda:0'), Confidence: tensor([0.3580], device='cuda:0'), Box: tensor([[259.7452, 109.5284, 409.3580, 296.8286]], device='cuda:0')\n",
      "\n",
      "image 1/1 c:\\Users\\User\\Desktop\\Object_Detection\\Pistols\\datasets\\test\\images\\armas (2877)_jpg.rf.f9321e89c277beabb3066a5dae69dffa.jpg: 416x416 2 pistols, 13.2ms\n",
      "Speed: 0.0ms preprocess, 13.2ms inference, 0.7ms postprocess per image at shape (1, 3, 416, 416)\n",
      "Results for armas (2877)_jpg.rf.f9321e89c277beabb3066a5dae69dffa.jpg:\n",
      "Class: tensor([0.], device='cuda:0'), Confidence: tensor([0.9180], device='cuda:0'), Box: tensor([[3.9801e-01, 2.0205e+01, 4.1600e+02, 4.1600e+02]], device='cuda:0')\n",
      "Class: tensor([0.], device='cuda:0'), Confidence: tensor([0.2887], device='cuda:0'), Box: tensor([[  0.0000,  19.0607, 416.0000, 293.5905]], device='cuda:0')\n",
      "\n",
      "image 1/1 c:\\Users\\User\\Desktop\\Object_Detection\\Pistols\\datasets\\test\\images\\armas (2878)_jpg.rf.09bec07fd513f4c97d31e8fedfafd007.jpg: 416x416 1 pistol, 9.1ms\n",
      "Speed: 0.0ms preprocess, 9.1ms inference, 1.0ms postprocess per image at shape (1, 3, 416, 416)\n",
      "Results for armas (2878)_jpg.rf.09bec07fd513f4c97d31e8fedfafd007.jpg:\n",
      "Class: tensor([0.], device='cuda:0'), Confidence: tensor([0.9123], device='cuda:0'), Box: tensor([[ 63.4816, 126.9291, 247.6537, 308.6876]], device='cuda:0')\n",
      "\n",
      "image 1/1 c:\\Users\\User\\Desktop\\Object_Detection\\Pistols\\datasets\\test\\images\\armas (2879)_jpg.rf.8857745c6712ea4522a7612fd4aac69c.jpg: 416x416 1 pistol, 12.9ms\n",
      "Speed: 0.0ms preprocess, 12.9ms inference, 1.0ms postprocess per image at shape (1, 3, 416, 416)\n",
      "Results for armas (2879)_jpg.rf.8857745c6712ea4522a7612fd4aac69c.jpg:\n",
      "Class: tensor([0.], device='cuda:0'), Confidence: tensor([0.8817], device='cuda:0'), Box: tensor([[153.5806, 126.0379, 362.7661, 274.2919]], device='cuda:0')\n",
      "\n",
      "image 1/1 c:\\Users\\User\\Desktop\\Object_Detection\\Pistols\\datasets\\test\\images\\armas (2880)_jpg.rf.a7419035bebad3977c6c42d9c73a24b1.jpg: 416x416 1 pistol, 9.5ms\n",
      "Speed: 0.0ms preprocess, 9.5ms inference, 1.7ms postprocess per image at shape (1, 3, 416, 416)\n",
      "Results for armas (2880)_jpg.rf.a7419035bebad3977c6c42d9c73a24b1.jpg:\n",
      "Class: tensor([0.], device='cuda:0'), Confidence: tensor([0.9244], device='cuda:0'), Box: tensor([[161.8796, 109.0938, 364.2957, 322.3209]], device='cuda:0')\n",
      "\n",
      "image 1/1 c:\\Users\\User\\Desktop\\Object_Detection\\Pistols\\datasets\\test\\images\\armas (2881)_jpg.rf.7aeeedb70a0def30c83274a49edc5568.jpg: 416x416 1 pistol, 13.5ms\n",
      "Speed: 0.0ms preprocess, 13.5ms inference, 1.0ms postprocess per image at shape (1, 3, 416, 416)\n",
      "Results for armas (2881)_jpg.rf.7aeeedb70a0def30c83274a49edc5568.jpg:\n",
      "Class: tensor([0.], device='cuda:0'), Confidence: tensor([0.7545], device='cuda:0'), Box: tensor([[258.0452,  18.8852, 318.3001, 137.9542]], device='cuda:0')\n",
      "\n",
      "image 1/1 c:\\Users\\User\\Desktop\\Object_Detection\\Pistols\\datasets\\test\\images\\armas (2882)_jpg.rf.557e41f8d9325343e40df91c9219c707.jpg: 416x416 1 pistol, 7.8ms\n",
      "Speed: 5.7ms preprocess, 7.8ms inference, 1.0ms postprocess per image at shape (1, 3, 416, 416)\n",
      "Results for armas (2882)_jpg.rf.557e41f8d9325343e40df91c9219c707.jpg:\n",
      "Class: tensor([0.], device='cuda:0'), Confidence: tensor([0.8064], device='cuda:0'), Box: tensor([[123.1941,  68.0921, 163.5995, 148.9291]], device='cuda:0')\n",
      "\n",
      "image 1/1 c:\\Users\\User\\Desktop\\Object_Detection\\Pistols\\datasets\\test\\images\\armas (2883)_jpg.rf.ccbdec269f7f3f0e33882c18ab887379.jpg: 416x416 (no detections), 11.8ms\n",
      "Speed: 0.0ms preprocess, 11.8ms inference, 1.0ms postprocess per image at shape (1, 3, 416, 416)\n",
      "Results for armas (2883)_jpg.rf.ccbdec269f7f3f0e33882c18ab887379.jpg:\n",
      "\n",
      "image 1/1 c:\\Users\\User\\Desktop\\Object_Detection\\Pistols\\datasets\\test\\images\\armas (2884)_jpg.rf.22332098c5c1568fd9a55574132fe3e8.jpg: 416x416 1 pistol, 9.9ms\n",
      "Speed: 1.0ms preprocess, 9.9ms inference, 0.5ms postprocess per image at shape (1, 3, 416, 416)\n",
      "Results for armas (2884)_jpg.rf.22332098c5c1568fd9a55574132fe3e8.jpg:\n",
      "Class: tensor([0.], device='cuda:0'), Confidence: tensor([0.9193], device='cuda:0'), Box: tensor([[ 75.1949,  54.5529, 243.7706, 256.0258]], device='cuda:0')\n",
      "\n",
      "image 1/1 c:\\Users\\User\\Desktop\\Object_Detection\\Pistols\\datasets\\test\\images\\armas (2885)_jpg.rf.390f5a8661ef08ccd64e49ef72da34ff.jpg: 416x416 1 pistol, 13.3ms\n",
      "Speed: 0.0ms preprocess, 13.3ms inference, 1.0ms postprocess per image at shape (1, 3, 416, 416)\n",
      "Results for armas (2885)_jpg.rf.390f5a8661ef08ccd64e49ef72da34ff.jpg:\n",
      "Class: tensor([0.], device='cuda:0'), Confidence: tensor([0.5235], device='cuda:0'), Box: tensor([[ 52.1919,  70.9566, 165.8273, 178.0369]], device='cuda:0')\n",
      "\n",
      "image 1/1 c:\\Users\\User\\Desktop\\Object_Detection\\Pistols\\datasets\\test\\images\\armas (2886)_jpg.rf.cdb99721380787b5889e18b4ad80bebb.jpg: 416x416 2 pistols, 13.3ms\n",
      "Speed: 0.0ms preprocess, 13.3ms inference, 1.0ms postprocess per image at shape (1, 3, 416, 416)\n",
      "Results for armas (2886)_jpg.rf.cdb99721380787b5889e18b4ad80bebb.jpg:\n",
      "Class: tensor([0.], device='cuda:0'), Confidence: tensor([0.4450], device='cuda:0'), Box: tensor([[281.9990, 175.4546, 362.6034, 241.3244]], device='cuda:0')\n",
      "Class: tensor([0.], device='cuda:0'), Confidence: tensor([0.4019], device='cuda:0'), Box: tensor([[284.6191, 145.6759, 367.2531, 241.1906]], device='cuda:0')\n",
      "\n",
      "image 1/1 c:\\Users\\User\\Desktop\\Object_Detection\\Pistols\\datasets\\test\\images\\armas (2887)_jpg.rf.93139912cac9962aa5103afc2abc8733.jpg: 416x416 2 pistols, 8.3ms\n",
      "Speed: 0.2ms preprocess, 8.3ms inference, 1.0ms postprocess per image at shape (1, 3, 416, 416)\n",
      "Results for armas (2887)_jpg.rf.93139912cac9962aa5103afc2abc8733.jpg:\n",
      "Class: tensor([0.], device='cuda:0'), Confidence: tensor([0.7541], device='cuda:0'), Box: tensor([[208.3072, 115.9360, 243.0053, 161.6797]], device='cuda:0')\n",
      "Class: tensor([0.], device='cuda:0'), Confidence: tensor([0.5175], device='cuda:0'), Box: tensor([[ 94.6585, 280.4092, 145.4587, 338.2838]], device='cuda:0')\n",
      "\n",
      "image 1/1 c:\\Users\\User\\Desktop\\Object_Detection\\Pistols\\datasets\\test\\images\\armas (2888)_jpg.rf.04fac4682bf5260170088d179bd91a77.jpg: 416x416 1 pistol, 14.3ms\n",
      "Speed: 0.0ms preprocess, 14.3ms inference, 0.0ms postprocess per image at shape (1, 3, 416, 416)\n",
      "Results for armas (2888)_jpg.rf.04fac4682bf5260170088d179bd91a77.jpg:\n",
      "Class: tensor([0.], device='cuda:0'), Confidence: tensor([0.9182], device='cuda:0'), Box: tensor([[ 17.6790, 128.2252, 228.6294, 264.0619]], device='cuda:0')\n",
      "\n",
      "image 1/1 c:\\Users\\User\\Desktop\\Object_Detection\\Pistols\\datasets\\test\\images\\armas (2889)_jpg.rf.3cf6d26adb84276a7dea5c9c054af505.jpg: 416x416 1 pistol, 9.8ms\n",
      "Speed: 0.0ms preprocess, 9.8ms inference, 2.0ms postprocess per image at shape (1, 3, 416, 416)\n",
      "Results for armas (2889)_jpg.rf.3cf6d26adb84276a7dea5c9c054af505.jpg:\n",
      "Class: tensor([0.], device='cuda:0'), Confidence: tensor([0.9292], device='cuda:0'), Box: tensor([[ 53.5342, 132.9580, 287.8555, 339.1522]], device='cuda:0')\n",
      "\n",
      "image 1/1 c:\\Users\\User\\Desktop\\Object_Detection\\Pistols\\datasets\\test\\images\\armas (2890)_jpg.rf.b97e745b64323191bb311617eb93c255.jpg: 416x416 2 pistols, 6.4ms\n",
      "Speed: 0.0ms preprocess, 6.4ms inference, 4.5ms postprocess per image at shape (1, 3, 416, 416)\n",
      "Results for armas (2890)_jpg.rf.b97e745b64323191bb311617eb93c255.jpg:\n",
      "Class: tensor([0.], device='cuda:0'), Confidence: tensor([0.9315], device='cuda:0'), Box: tensor([[212.1816, 122.1273, 351.2285, 291.9847]], device='cuda:0')\n",
      "Class: tensor([0.], device='cuda:0'), Confidence: tensor([0.9311], device='cuda:0'), Box: tensor([[ 62.3759, 122.0206, 201.7006, 292.4775]], device='cuda:0')\n",
      "\n",
      "image 1/1 c:\\Users\\User\\Desktop\\Object_Detection\\Pistols\\datasets\\test\\images\\armas (2891)_jpg.rf.f9a3778330672ee9a6b706c22a98ad18.jpg: 416x416 2 pistols, 8.3ms\n",
      "Speed: 0.0ms preprocess, 8.3ms inference, 1.5ms postprocess per image at shape (1, 3, 416, 416)\n",
      "Results for armas (2891)_jpg.rf.f9a3778330672ee9a6b706c22a98ad18.jpg:\n",
      "Class: tensor([0.], device='cuda:0'), Confidence: tensor([0.7508], device='cuda:0'), Box: tensor([[329.9654, 129.3256, 415.3987, 345.8475]], device='cuda:0')\n",
      "Class: tensor([0.], device='cuda:0'), Confidence: tensor([0.3696], device='cuda:0'), Box: tensor([[332.1819,   0.0000, 416.0000, 351.3889]], device='cuda:0')\n",
      "\n",
      "image 1/1 c:\\Users\\User\\Desktop\\Object_Detection\\Pistols\\datasets\\test\\images\\armas (2892)_jpg.rf.a900731c62fe07e457141892097dcbe1.jpg: 416x416 2 pistols, 8.3ms\n",
      "Speed: 0.0ms preprocess, 8.3ms inference, 1.0ms postprocess per image at shape (1, 3, 416, 416)\n",
      "Results for armas (2892)_jpg.rf.a900731c62fe07e457141892097dcbe1.jpg:\n",
      "Class: tensor([0.], device='cuda:0'), Confidence: tensor([0.6550], device='cuda:0'), Box: tensor([[362.7734, 108.4228, 397.0112, 142.7964]], device='cuda:0')\n",
      "Class: tensor([0.], device='cuda:0'), Confidence: tensor([0.4867], device='cuda:0'), Box: tensor([[ 14.6078, 126.7532,  60.4646, 155.9099]], device='cuda:0')\n",
      "\n",
      "image 1/1 c:\\Users\\User\\Desktop\\Object_Detection\\Pistols\\datasets\\test\\images\\armas (2893)_jpg.rf.b74e7dabd209be1a8165371232524767.jpg: 416x416 (no detections), 8.9ms\n",
      "Speed: 0.0ms preprocess, 8.9ms inference, 1.0ms postprocess per image at shape (1, 3, 416, 416)\n",
      "Results for armas (2893)_jpg.rf.b74e7dabd209be1a8165371232524767.jpg:\n",
      "\n",
      "image 1/1 c:\\Users\\User\\Desktop\\Object_Detection\\Pistols\\datasets\\test\\images\\armas (2894)_jpg.rf.7c164a0847042d0266affef54a849754.jpg: 416x416 1 pistol, 10.2ms\n",
      "Speed: 0.0ms preprocess, 10.2ms inference, 1.0ms postprocess per image at shape (1, 3, 416, 416)\n",
      "Results for armas (2894)_jpg.rf.7c164a0847042d0266affef54a849754.jpg:\n",
      "Class: tensor([0.], device='cuda:0'), Confidence: tensor([0.8772], device='cuda:0'), Box: tensor([[ 56.3103, 139.2525, 161.1996, 329.2796]], device='cuda:0')\n",
      "\n",
      "image 1/1 c:\\Users\\User\\Desktop\\Object_Detection\\Pistols\\datasets\\test\\images\\armas (2895)_jpg.rf.7ab670df52d006b2048cbe73eeb162cb.jpg: 416x416 2 pistols, 10.9ms\n",
      "Speed: 1.3ms preprocess, 10.9ms inference, 1.0ms postprocess per image at shape (1, 3, 416, 416)\n",
      "Results for armas (2895)_jpg.rf.7ab670df52d006b2048cbe73eeb162cb.jpg:\n",
      "Class: tensor([0.], device='cuda:0'), Confidence: tensor([0.5110], device='cuda:0'), Box: tensor([[142.2985, 161.8398, 206.8428, 259.4452]], device='cuda:0')\n",
      "Class: tensor([0.], device='cuda:0'), Confidence: tensor([0.3774], device='cuda:0'), Box: tensor([[142.6983, 167.6769, 197.5377, 216.4658]], device='cuda:0')\n",
      "\n",
      "image 1/1 c:\\Users\\User\\Desktop\\Object_Detection\\Pistols\\datasets\\test\\images\\armas (2896)_jpg.rf.8507d2339933f643c7f8f1de16236b61.jpg: 416x416 1 pistol, 13.0ms\n",
      "Speed: 0.0ms preprocess, 13.0ms inference, 0.7ms postprocess per image at shape (1, 3, 416, 416)\n",
      "Results for armas (2896)_jpg.rf.8507d2339933f643c7f8f1de16236b61.jpg:\n",
      "Class: tensor([0.], device='cuda:0'), Confidence: tensor([0.6189], device='cuda:0'), Box: tensor([[ 43.7790, 216.5059, 178.4555, 415.1741]], device='cuda:0')\n",
      "\n",
      "image 1/1 c:\\Users\\User\\Desktop\\Object_Detection\\Pistols\\datasets\\test\\images\\armas (2897)_jpg.rf.2bd6207645f1adb46b78da452d0f2db9.jpg: 416x416 1 pistol, 13.5ms\n",
      "Speed: 0.0ms preprocess, 13.5ms inference, 1.0ms postprocess per image at shape (1, 3, 416, 416)\n",
      "Results for armas (2897)_jpg.rf.2bd6207645f1adb46b78da452d0f2db9.jpg:\n",
      "Class: tensor([0.], device='cuda:0'), Confidence: tensor([0.8698], device='cuda:0'), Box: tensor([[281.8932,  75.5999, 393.1503, 252.4444]], device='cuda:0')\n",
      "\n",
      "image 1/1 c:\\Users\\User\\Desktop\\Object_Detection\\Pistols\\datasets\\test\\images\\armas (2898)_jpg.rf.135b00254ca69b7c23f946b17a0d00d3.jpg: 416x416 (no detections), 13.1ms\n",
      "Speed: 0.0ms preprocess, 13.1ms inference, 0.0ms postprocess per image at shape (1, 3, 416, 416)\n",
      "Results for armas (2898)_jpg.rf.135b00254ca69b7c23f946b17a0d00d3.jpg:\n",
      "\n",
      "image 1/1 c:\\Users\\User\\Desktop\\Object_Detection\\Pistols\\datasets\\test\\images\\armas (2899)_jpg.rf.d444ee9e9cd0ce2c93f26cd0981d2d00.jpg: 416x416 1 pistol, 14.2ms\n",
      "Speed: 0.0ms preprocess, 14.2ms inference, 4.1ms postprocess per image at shape (1, 3, 416, 416)\n",
      "Results for armas (2899)_jpg.rf.d444ee9e9cd0ce2c93f26cd0981d2d00.jpg:\n",
      "Class: tensor([0.], device='cuda:0'), Confidence: tensor([0.8975], device='cuda:0'), Box: tensor([[ 49.3553,  55.7084, 198.0088, 289.1586]], device='cuda:0')\n",
      "\n",
      "image 1/1 c:\\Users\\User\\Desktop\\Object_Detection\\Pistols\\datasets\\test\\images\\armas (2900)_jpg.rf.cea7706554f226a99babed2a688c10cb.jpg: 416x416 1 pistol, 13.7ms\n",
      "Speed: 0.5ms preprocess, 13.7ms inference, 0.0ms postprocess per image at shape (1, 3, 416, 416)\n",
      "Results for armas (2900)_jpg.rf.cea7706554f226a99babed2a688c10cb.jpg:\n",
      "Class: tensor([0.], device='cuda:0'), Confidence: tensor([0.9080], device='cuda:0'), Box: tensor([[ 18.1270,  14.5887, 216.6710, 302.3489]], device='cuda:0')\n",
      "\n",
      "image 1/1 c:\\Users\\User\\Desktop\\Object_Detection\\Pistols\\datasets\\test\\images\\armas (2901)_jpg.rf.12e8c129ed03388ba0085687f7d87911.jpg: 416x416 1 pistol, 10.4ms\n",
      "Speed: 0.0ms preprocess, 10.4ms inference, 1.2ms postprocess per image at shape (1, 3, 416, 416)\n",
      "Results for armas (2901)_jpg.rf.12e8c129ed03388ba0085687f7d87911.jpg:\n",
      "Class: tensor([0.], device='cuda:0'), Confidence: tensor([0.8471], device='cuda:0'), Box: tensor([[  2.7576, 101.0210, 101.6342, 215.7566]], device='cuda:0')\n",
      "\n",
      "image 1/1 c:\\Users\\User\\Desktop\\Object_Detection\\Pistols\\datasets\\test\\images\\armas (2902)_jpg.rf.07a4bbda744148b8cdac48dafb7c4451.jpg: 416x416 2 pistols, 12.7ms\n",
      "Speed: 0.0ms preprocess, 12.7ms inference, 1.0ms postprocess per image at shape (1, 3, 416, 416)\n",
      "Results for armas (2902)_jpg.rf.07a4bbda744148b8cdac48dafb7c4451.jpg:\n",
      "Class: tensor([0.], device='cuda:0'), Confidence: tensor([0.5675], device='cuda:0'), Box: tensor([[ 72.0500,  20.8014, 151.6674, 290.0516]], device='cuda:0')\n",
      "Class: tensor([0.], device='cuda:0'), Confidence: tensor([0.2518], device='cuda:0'), Box: tensor([[ 72.3644,  19.0403, 198.9615, 306.3159]], device='cuda:0')\n",
      "\n",
      "image 1/1 c:\\Users\\User\\Desktop\\Object_Detection\\Pistols\\datasets\\test\\images\\armas (2903)_jpg.rf.965882a5a133e93dd23489c75ddb4758.jpg: 416x416 1 pistol, 7.8ms\n",
      "Speed: 5.7ms preprocess, 7.8ms inference, 1.0ms postprocess per image at shape (1, 3, 416, 416)\n",
      "Results for armas (2903)_jpg.rf.965882a5a133e93dd23489c75ddb4758.jpg:\n",
      "Class: tensor([0.], device='cuda:0'), Confidence: tensor([0.3649], device='cuda:0'), Box: tensor([[ 82.2490,  40.6673, 186.7887, 288.8175]], device='cuda:0')\n",
      "\n",
      "image 1/1 c:\\Users\\User\\Desktop\\Object_Detection\\Pistols\\datasets\\test\\images\\armas (2904)_jpg.rf.8f624eaeadb647b26f55a890d4ffa92a.jpg: 416x416 1 pistol, 12.8ms\n",
      "Speed: 0.0ms preprocess, 12.8ms inference, 0.9ms postprocess per image at shape (1, 3, 416, 416)\n",
      "Results for armas (2904)_jpg.rf.8f624eaeadb647b26f55a890d4ffa92a.jpg:\n",
      "Class: tensor([0.], device='cuda:0'), Confidence: tensor([0.9350], device='cuda:0'), Box: tensor([[187.9837,  61.6717, 412.5180, 387.9816]], device='cuda:0')\n",
      "\n",
      "image 1/1 c:\\Users\\User\\Desktop\\Object_Detection\\Pistols\\datasets\\test\\images\\armas (2905)_jpg.rf.c29cf0ce69e2945a51307911b617d5d4.jpg: 416x416 1 pistol, 11.7ms\n",
      "Speed: 0.0ms preprocess, 11.7ms inference, 1.2ms postprocess per image at shape (1, 3, 416, 416)\n",
      "Results for armas (2905)_jpg.rf.c29cf0ce69e2945a51307911b617d5d4.jpg:\n",
      "Class: tensor([0.], device='cuda:0'), Confidence: tensor([0.6543], device='cuda:0'), Box: tensor([[155.4489, 155.2465, 334.8514, 258.8058]], device='cuda:0')\n",
      "\n",
      "image 1/1 c:\\Users\\User\\Desktop\\Object_Detection\\Pistols\\datasets\\test\\images\\armas (2906)_jpg.rf.038160145b3a4e064814cb16b0a6484e.jpg: 416x416 (no detections), 11.6ms\n",
      "Speed: 0.0ms preprocess, 11.6ms inference, 1.0ms postprocess per image at shape (1, 3, 416, 416)\n",
      "Results for armas (2906)_jpg.rf.038160145b3a4e064814cb16b0a6484e.jpg:\n",
      "\n",
      "image 1/1 c:\\Users\\User\\Desktop\\Object_Detection\\Pistols\\datasets\\test\\images\\armas (2907)_jpg.rf.391fd136b1c583597c7629a82cde6e53.jpg: 416x416 (no detections), 12.5ms\n",
      "Speed: 0.0ms preprocess, 12.5ms inference, 0.0ms postprocess per image at shape (1, 3, 416, 416)\n",
      "Results for armas (2907)_jpg.rf.391fd136b1c583597c7629a82cde6e53.jpg:\n",
      "\n",
      "image 1/1 c:\\Users\\User\\Desktop\\Object_Detection\\Pistols\\datasets\\test\\images\\armas (2908)_jpg.rf.fd0247d4939d2ca85c9b063597c23f4f.jpg: 416x416 1 pistol, 9.4ms\n",
      "Speed: 1.2ms preprocess, 9.4ms inference, 0.3ms postprocess per image at shape (1, 3, 416, 416)\n",
      "Results for armas (2908)_jpg.rf.fd0247d4939d2ca85c9b063597c23f4f.jpg:\n",
      "Class: tensor([0.], device='cuda:0'), Confidence: tensor([0.6560], device='cuda:0'), Box: tensor([[ 64.4530, 121.9265, 225.9515, 291.7191]], device='cuda:0')\n",
      "\n",
      "image 1/1 c:\\Users\\User\\Desktop\\Object_Detection\\Pistols\\datasets\\test\\images\\armas (2909)_jpg.rf.00e36f4c4191d75be1b9a0cae3bcc0d1.jpg: 416x416 1 pistol, 14.3ms\n",
      "Speed: 0.0ms preprocess, 14.3ms inference, 0.0ms postprocess per image at shape (1, 3, 416, 416)\n",
      "Results for armas (2909)_jpg.rf.00e36f4c4191d75be1b9a0cae3bcc0d1.jpg:\n",
      "Class: tensor([0.], device='cuda:0'), Confidence: tensor([0.8329], device='cuda:0'), Box: tensor([[151.4753, 160.4742, 213.1346, 253.9973]], device='cuda:0')\n",
      "\n",
      "image 1/1 c:\\Users\\User\\Desktop\\Object_Detection\\Pistols\\datasets\\test\\images\\armas (2910)_jpg.rf.d6ce9f2ece3bf7e2e427770f310a44d3.jpg: 416x416 2 pistols, 10.9ms\n",
      "Speed: 0.0ms preprocess, 10.9ms inference, 1.2ms postprocess per image at shape (1, 3, 416, 416)\n",
      "Results for armas (2910)_jpg.rf.d6ce9f2ece3bf7e2e427770f310a44d3.jpg:\n",
      "Class: tensor([0.], device='cuda:0'), Confidence: tensor([0.6593], device='cuda:0'), Box: tensor([[ 15.5343, 165.0856, 125.3155, 274.2622]], device='cuda:0')\n",
      "Class: tensor([0.], device='cuda:0'), Confidence: tensor([0.3899], device='cuda:0'), Box: tensor([[ 15.7169, 164.2280, 124.9131, 237.9316]], device='cuda:0')\n",
      "\n",
      "image 1/1 c:\\Users\\User\\Desktop\\Object_Detection\\Pistols\\datasets\\test\\images\\armas (2911)_jpg.rf.b850a7d3b30e68c5015fb7e49507733c.jpg: 416x416 1 pistol, 8.6ms\n",
      "Speed: 5.9ms preprocess, 8.6ms inference, 1.0ms postprocess per image at shape (1, 3, 416, 416)\n",
      "Results for armas (2911)_jpg.rf.b850a7d3b30e68c5015fb7e49507733c.jpg:\n",
      "Class: tensor([0.], device='cuda:0'), Confidence: tensor([0.8405], device='cuda:0'), Box: tensor([[ 96.1665,  23.9402, 299.5607, 244.2252]], device='cuda:0')\n",
      "\n",
      "image 1/1 c:\\Users\\User\\Desktop\\Object_Detection\\Pistols\\datasets\\test\\images\\armas (2912)_jpg.rf.3a08cc5ca2b1e5f787a11a5ab4dbb2ad.jpg: 416x416 1 pistol, 13.2ms\n",
      "Speed: 0.0ms preprocess, 13.2ms inference, 1.0ms postprocess per image at shape (1, 3, 416, 416)\n",
      "Results for armas (2912)_jpg.rf.3a08cc5ca2b1e5f787a11a5ab4dbb2ad.jpg:\n",
      "Class: tensor([0.], device='cuda:0'), Confidence: tensor([0.4039], device='cuda:0'), Box: tensor([[  4.7021, 172.2327, 230.8949, 374.4388]], device='cuda:0')\n",
      "\n",
      "image 1/1 c:\\Users\\User\\Desktop\\Object_Detection\\Pistols\\datasets\\test\\images\\armas (2913)_jpg.rf.857ca2c74647eefdae8e19b143a093b4.jpg: 416x416 1 pistol, 9.7ms\n",
      "Speed: 0.0ms preprocess, 9.7ms inference, 1.4ms postprocess per image at shape (1, 3, 416, 416)\n",
      "Results for armas (2913)_jpg.rf.857ca2c74647eefdae8e19b143a093b4.jpg:\n",
      "Class: tensor([0.], device='cuda:0'), Confidence: tensor([0.8731], device='cuda:0'), Box: tensor([[139.3719,  43.0842, 276.8637, 255.4492]], device='cuda:0')\n",
      "\n",
      "image 1/1 c:\\Users\\User\\Desktop\\Object_Detection\\Pistols\\datasets\\test\\images\\armas (2914)_jpg.rf.c37669cf1854fcac8afb6cb17ac11f68.jpg: 416x416 1 pistol, 9.0ms\n",
      "Speed: 4.1ms preprocess, 9.0ms inference, 1.1ms postprocess per image at shape (1, 3, 416, 416)\n",
      "Results for armas (2914)_jpg.rf.c37669cf1854fcac8afb6cb17ac11f68.jpg:\n",
      "Class: tensor([0.], device='cuda:0'), Confidence: tensor([0.8521], device='cuda:0'), Box: tensor([[135.2614,   7.0066, 336.2673, 228.7363]], device='cuda:0')\n",
      "\n",
      "image 1/1 c:\\Users\\User\\Desktop\\Object_Detection\\Pistols\\datasets\\test\\images\\armas (2915)_jpg.rf.74beb93b3f806d1aa467771ed2b59787.jpg: 416x416 2 pistols, 11.9ms\n",
      "Speed: 0.0ms preprocess, 11.9ms inference, 1.0ms postprocess per image at shape (1, 3, 416, 416)\n",
      "Results for armas (2915)_jpg.rf.74beb93b3f806d1aa467771ed2b59787.jpg:\n",
      "Class: tensor([0.], device='cuda:0'), Confidence: tensor([0.6820], device='cuda:0'), Box: tensor([[226.9138, 141.7470, 416.0000, 254.5677]], device='cuda:0')\n",
      "Class: tensor([0.], device='cuda:0'), Confidence: tensor([0.3353], device='cuda:0'), Box: tensor([[348.9867, 183.6202, 415.9919, 271.4894]], device='cuda:0')\n",
      "\n",
      "image 1/1 c:\\Users\\User\\Desktop\\Object_Detection\\Pistols\\datasets\\test\\images\\armas (2916)_jpg.rf.ca083c4b1b625b82e37f5afb923018ca.jpg: 416x416 2 pistols, 8.2ms\n",
      "Speed: 1.0ms preprocess, 8.2ms inference, 1.0ms postprocess per image at shape (1, 3, 416, 416)\n",
      "Results for armas (2916)_jpg.rf.ca083c4b1b625b82e37f5afb923018ca.jpg:\n",
      "Class: tensor([0.], device='cuda:0'), Confidence: tensor([0.8094], device='cuda:0'), Box: tensor([[163.4234, 191.1722, 221.5825, 281.7281]], device='cuda:0')\n",
      "Class: tensor([0.], device='cuda:0'), Confidence: tensor([0.2594], device='cuda:0'), Box: tensor([[176.1579, 180.4682, 222.9734, 280.8809]], device='cuda:0')\n",
      "\n",
      "image 1/1 c:\\Users\\User\\Desktop\\Object_Detection\\Pistols\\datasets\\test\\images\\armas (2917)_jpg.rf.94fdd484232d82c6090c92f5e1a88aed.jpg: 416x416 1 pistol, 9.3ms\n",
      "Speed: 0.0ms preprocess, 9.3ms inference, 1.0ms postprocess per image at shape (1, 3, 416, 416)\n",
      "Results for armas (2917)_jpg.rf.94fdd484232d82c6090c92f5e1a88aed.jpg:\n",
      "Class: tensor([0.], device='cuda:0'), Confidence: tensor([0.7432], device='cuda:0'), Box: tensor([[173.6980, 115.0279, 213.3674, 155.3431]], device='cuda:0')\n",
      "\n",
      "image 1/1 c:\\Users\\User\\Desktop\\Object_Detection\\Pistols\\datasets\\test\\images\\armas (2918)_jpg.rf.ebca5119a6fb1167b1d1410d3bbac63c.jpg: 416x416 1 pistol, 12.3ms\n",
      "Speed: 0.0ms preprocess, 12.3ms inference, 1.1ms postprocess per image at shape (1, 3, 416, 416)\n",
      "Results for armas (2918)_jpg.rf.ebca5119a6fb1167b1d1410d3bbac63c.jpg:\n",
      "Class: tensor([0.], device='cuda:0'), Confidence: tensor([0.7874], device='cuda:0'), Box: tensor([[ 58.2591, 182.8320, 145.9350, 227.1450]], device='cuda:0')\n",
      "\n",
      "image 1/1 c:\\Users\\User\\Desktop\\Object_Detection\\Pistols\\datasets\\test\\images\\armas (2919)_jpg.rf.f6dd1ffe7513cb10d6f446865aba949e.jpg: 416x416 2 pistols, 9.4ms\n",
      "Speed: 0.0ms preprocess, 9.4ms inference, 0.9ms postprocess per image at shape (1, 3, 416, 416)\n",
      "Results for armas (2919)_jpg.rf.f6dd1ffe7513cb10d6f446865aba949e.jpg:\n",
      "Class: tensor([0.], device='cuda:0'), Confidence: tensor([0.8385], device='cuda:0'), Box: tensor([[248.8092, 134.5213, 306.8226, 205.6858]], device='cuda:0')\n",
      "Class: tensor([0.], device='cuda:0'), Confidence: tensor([0.7947], device='cuda:0'), Box: tensor([[ 93.7305, 123.3124, 184.2061, 219.6850]], device='cuda:0')\n",
      "\n",
      "image 1/1 c:\\Users\\User\\Desktop\\Object_Detection\\Pistols\\datasets\\test\\images\\armas (2920)_jpg.rf.675dd5343722ffa2aa25fb56f9c09c66.jpg: 416x416 2 pistols, 10.5ms\n",
      "Speed: 0.0ms preprocess, 10.5ms inference, 1.0ms postprocess per image at shape (1, 3, 416, 416)\n",
      "Results for armas (2920)_jpg.rf.675dd5343722ffa2aa25fb56f9c09c66.jpg:\n",
      "Class: tensor([0.], device='cuda:0'), Confidence: tensor([0.8655], device='cuda:0'), Box: tensor([[311.3278, 176.1680, 407.2481, 261.5457]], device='cuda:0')\n",
      "Class: tensor([0.], device='cuda:0'), Confidence: tensor([0.7896], device='cuda:0'), Box: tensor([[311.9421, 128.6827, 374.6771, 196.2407]], device='cuda:0')\n",
      "\n",
      "image 1/1 c:\\Users\\User\\Desktop\\Object_Detection\\Pistols\\datasets\\test\\images\\armas (2921)_jpg.rf.b2a635cd2b997807c230d08ebd995efc.jpg: 416x416 1 pistol, 11.8ms\n",
      "Speed: 0.0ms preprocess, 11.8ms inference, 1.2ms postprocess per image at shape (1, 3, 416, 416)\n",
      "Results for armas (2921)_jpg.rf.b2a635cd2b997807c230d08ebd995efc.jpg:\n",
      "Class: tensor([0.], device='cuda:0'), Confidence: tensor([0.3555], device='cuda:0'), Box: tensor([[ 15.1800, 185.2431,  94.7520, 311.0518]], device='cuda:0')\n",
      "\n",
      "image 1/1 c:\\Users\\User\\Desktop\\Object_Detection\\Pistols\\datasets\\test\\images\\armas (2922)_jpg.rf.5d96c63159308724ad5aa41c2de86454.jpg: 416x416 1 pistol, 7.6ms\n",
      "Speed: 5.8ms preprocess, 7.6ms inference, 0.0ms postprocess per image at shape (1, 3, 416, 416)\n",
      "Results for armas (2922)_jpg.rf.5d96c63159308724ad5aa41c2de86454.jpg:\n",
      "Class: tensor([0.], device='cuda:0'), Confidence: tensor([0.2992], device='cuda:0'), Box: tensor([[372.2024,  68.5160, 415.9873, 347.1046]], device='cuda:0')\n",
      "\n",
      "image 1/1 c:\\Users\\User\\Desktop\\Object_Detection\\Pistols\\datasets\\test\\images\\armas (2923)_jpg.rf.d64c48ed19ee33139f698a9d2f7384a0.jpg: 416x416 1 pistol, 12.0ms\n",
      "Speed: 0.0ms preprocess, 12.0ms inference, 1.0ms postprocess per image at shape (1, 3, 416, 416)\n",
      "Results for armas (2923)_jpg.rf.d64c48ed19ee33139f698a9d2f7384a0.jpg:\n",
      "Class: tensor([0.], device='cuda:0'), Confidence: tensor([0.7856], device='cuda:0'), Box: tensor([[161.1028,  69.6161, 352.9321, 146.6687]], device='cuda:0')\n",
      "\n",
      "image 1/1 c:\\Users\\User\\Desktop\\Object_Detection\\Pistols\\datasets\\test\\images\\armas (2924)_jpg.rf.771b12f54fbaf50e5af16a5f5c0ad063.jpg: 416x416 (no detections), 7.9ms\n",
      "Speed: 0.5ms preprocess, 7.9ms inference, 0.0ms postprocess per image at shape (1, 3, 416, 416)\n",
      "Results for armas (2924)_jpg.rf.771b12f54fbaf50e5af16a5f5c0ad063.jpg:\n",
      "\n",
      "image 1/1 c:\\Users\\User\\Desktop\\Object_Detection\\Pistols\\datasets\\test\\images\\armas (2925)_jpg.rf.223f38f06b607438f7090189805c1feb.jpg: 416x416 1 pistol, 7.1ms\n",
      "Speed: 0.0ms preprocess, 7.1ms inference, 2.0ms postprocess per image at shape (1, 3, 416, 416)\n",
      "Results for armas (2925)_jpg.rf.223f38f06b607438f7090189805c1feb.jpg:\n",
      "Class: tensor([0.], device='cuda:0'), Confidence: tensor([0.9452], device='cuda:0'), Box: tensor([[  7.7289,  10.6803, 413.1125, 414.7773]], device='cuda:0')\n",
      "\n",
      "image 1/1 c:\\Users\\User\\Desktop\\Object_Detection\\Pistols\\datasets\\test\\images\\armas (2926)_jpg.rf.1c35cc93a1f950dc003c2cd18c2aaefa.jpg: 416x416 1 pistol, 13.0ms\n",
      "Speed: 0.0ms preprocess, 13.0ms inference, 1.1ms postprocess per image at shape (1, 3, 416, 416)\n",
      "Results for armas (2926)_jpg.rf.1c35cc93a1f950dc003c2cd18c2aaefa.jpg:\n",
      "Class: tensor([0.], device='cuda:0'), Confidence: tensor([0.3001], device='cuda:0'), Box: tensor([[238.1397, 121.9762, 333.0710, 414.1244]], device='cuda:0')\n",
      "\n",
      "image 1/1 c:\\Users\\User\\Desktop\\Object_Detection\\Pistols\\datasets\\test\\images\\armas (2927)_jpg.rf.b713efc3464d2f7e08095ce5675225a6.jpg: 416x416 1 pistol, 10.3ms\n",
      "Speed: 0.0ms preprocess, 10.3ms inference, 1.7ms postprocess per image at shape (1, 3, 416, 416)\n",
      "Results for armas (2927)_jpg.rf.b713efc3464d2f7e08095ce5675225a6.jpg:\n",
      "Class: tensor([0.], device='cuda:0'), Confidence: tensor([0.7686], device='cuda:0'), Box: tensor([[ 81.5514,  71.3051, 145.3777, 204.9142]], device='cuda:0')\n",
      "\n",
      "image 1/1 c:\\Users\\User\\Desktop\\Object_Detection\\Pistols\\datasets\\test\\images\\armas (2928)_jpg.rf.ec92c6b34b22fb77922a3c6b44f8b424.jpg: 416x416 (no detections), 13.5ms\n",
      "Speed: 0.0ms preprocess, 13.5ms inference, 0.0ms postprocess per image at shape (1, 3, 416, 416)\n",
      "Results for armas (2928)_jpg.rf.ec92c6b34b22fb77922a3c6b44f8b424.jpg:\n",
      "\n",
      "image 1/1 c:\\Users\\User\\Desktop\\Object_Detection\\Pistols\\datasets\\test\\images\\armas (2929)_jpg.rf.8ded45585914b7f684a3b13b032facd0.jpg: 416x416 1 pistol, 9.2ms\n",
      "Speed: 0.0ms preprocess, 9.2ms inference, 2.0ms postprocess per image at shape (1, 3, 416, 416)\n",
      "Results for armas (2929)_jpg.rf.8ded45585914b7f684a3b13b032facd0.jpg:\n",
      "Class: tensor([0.], device='cuda:0'), Confidence: tensor([0.9405], device='cuda:0'), Box: tensor([[  4.8727,  79.8808, 388.9645, 321.8384]], device='cuda:0')\n",
      "\n",
      "image 1/1 c:\\Users\\User\\Desktop\\Object_Detection\\Pistols\\datasets\\test\\images\\armas (2930)_jpg.rf.05d50593be78d324d1fd8e925db6e7d6.jpg: 416x416 1 pistol, 10.9ms\n",
      "Speed: 0.0ms preprocess, 10.9ms inference, 0.9ms postprocess per image at shape (1, 3, 416, 416)\n",
      "Results for armas (2930)_jpg.rf.05d50593be78d324d1fd8e925db6e7d6.jpg:\n",
      "Class: tensor([0.], device='cuda:0'), Confidence: tensor([0.8163], device='cuda:0'), Box: tensor([[227.0360, 225.1086, 386.7878, 413.8193]], device='cuda:0')\n",
      "\n",
      "image 1/1 c:\\Users\\User\\Desktop\\Object_Detection\\Pistols\\datasets\\test\\images\\armas (2931)_jpg.rf.84e05d4f62a9a193e000f221c1e9f534.jpg: 416x416 (no detections), 10.2ms\n",
      "Speed: 0.0ms preprocess, 10.2ms inference, 1.6ms postprocess per image at shape (1, 3, 416, 416)\n",
      "Results for armas (2931)_jpg.rf.84e05d4f62a9a193e000f221c1e9f534.jpg:\n",
      "\n",
      "image 1/1 c:\\Users\\User\\Desktop\\Object_Detection\\Pistols\\datasets\\test\\images\\armas (2932)_jpg.rf.dfc46a600035e5aa9a56230364ffeef6.jpg: 416x416 1 pistol, 6.5ms\n",
      "Speed: 0.0ms preprocess, 6.5ms inference, 6.9ms postprocess per image at shape (1, 3, 416, 416)\n",
      "Results for armas (2932)_jpg.rf.dfc46a600035e5aa9a56230364ffeef6.jpg:\n",
      "Class: tensor([0.], device='cuda:0'), Confidence: tensor([0.7990], device='cuda:0'), Box: tensor([[ 68.7196,   0.5185, 406.0092, 416.0000]], device='cuda:0')\n",
      "\n",
      "image 1/1 c:\\Users\\User\\Desktop\\Object_Detection\\Pistols\\datasets\\test\\images\\armas (2933)_jpg.rf.8041cf9c2dfef0a7596d54315ec6fc6f.jpg: 416x416 1 pistol, 6.6ms\n",
      "Speed: 0.0ms preprocess, 6.6ms inference, 0.0ms postprocess per image at shape (1, 3, 416, 416)\n",
      "Results for armas (2933)_jpg.rf.8041cf9c2dfef0a7596d54315ec6fc6f.jpg:\n",
      "Class: tensor([0.], device='cuda:0'), Confidence: tensor([0.9157], device='cuda:0'), Box: tensor([[129.0653,  66.6060, 338.3891, 385.4088]], device='cuda:0')\n",
      "\n",
      "image 1/1 c:\\Users\\User\\Desktop\\Object_Detection\\Pistols\\datasets\\test\\images\\armas (2934)_jpg.rf.07bc28e41d50711000c41b6ca84a9516.jpg: 416x416 1 pistol, 14.1ms\n",
      "Speed: 0.0ms preprocess, 14.1ms inference, 1.0ms postprocess per image at shape (1, 3, 416, 416)\n",
      "Results for armas (2934)_jpg.rf.07bc28e41d50711000c41b6ca84a9516.jpg:\n",
      "Class: tensor([0.], device='cuda:0'), Confidence: tensor([0.5205], device='cuda:0'), Box: tensor([[  1.4975,  12.2755, 202.3841, 360.9925]], device='cuda:0')\n",
      "\n",
      "image 1/1 c:\\Users\\User\\Desktop\\Object_Detection\\Pistols\\datasets\\test\\images\\armas (2935)_jpg.rf.2f366a9d1e8cece1a861c051bcaf7b5e.jpg: 416x416 2 pistols, 10.2ms\n",
      "Speed: 0.0ms preprocess, 10.2ms inference, 1.9ms postprocess per image at shape (1, 3, 416, 416)\n",
      "Results for armas (2935)_jpg.rf.2f366a9d1e8cece1a861c051bcaf7b5e.jpg:\n",
      "Class: tensor([0.], device='cuda:0'), Confidence: tensor([0.4067], device='cuda:0'), Box: tensor([[ 46.9601,  55.0476, 126.8996, 151.2469]], device='cuda:0')\n",
      "Class: tensor([0.], device='cuda:0'), Confidence: tensor([0.3830], device='cuda:0'), Box: tensor([[258.3359,  76.1127, 367.6276, 278.3354]], device='cuda:0')\n",
      "\n",
      "image 1/1 c:\\Users\\User\\Desktop\\Object_Detection\\Pistols\\datasets\\test\\images\\armas (2936)_jpg.rf.1599d3a988b546c016321d799a94a73f.jpg: 416x416 3 pistols, 7.5ms\n",
      "Speed: 0.0ms preprocess, 7.5ms inference, 4.3ms postprocess per image at shape (1, 3, 416, 416)\n",
      "Results for armas (2936)_jpg.rf.1599d3a988b546c016321d799a94a73f.jpg:\n",
      "Class: tensor([0.], device='cuda:0'), Confidence: tensor([0.7212], device='cuda:0'), Box: tensor([[149.2220,  79.9304, 209.2672, 185.4013]], device='cuda:0')\n",
      "Class: tensor([0.], device='cuda:0'), Confidence: tensor([0.7045], device='cuda:0'), Box: tensor([[315.1408,  56.2499, 367.2334, 140.3020]], device='cuda:0')\n",
      "Class: tensor([0.], device='cuda:0'), Confidence: tensor([0.5367], device='cuda:0'), Box: tensor([[319.9157,  58.5891, 361.2113, 132.0649]], device='cuda:0')\n",
      "\n",
      "image 1/1 c:\\Users\\User\\Desktop\\Object_Detection\\Pistols\\datasets\\test\\images\\armas (2937)_jpg.rf.c5734c51761f943069ebda63ffb0c117.jpg: 416x416 1 pistol, 7.4ms\n",
      "Speed: 2.0ms preprocess, 7.4ms inference, 1.0ms postprocess per image at shape (1, 3, 416, 416)\n",
      "Results for armas (2937)_jpg.rf.c5734c51761f943069ebda63ffb0c117.jpg:\n",
      "Class: tensor([0.], device='cuda:0'), Confidence: tensor([0.7806], device='cuda:0'), Box: tensor([[277.6689,  98.2723, 412.3284, 301.4588]], device='cuda:0')\n",
      "\n",
      "image 1/1 c:\\Users\\User\\Desktop\\Object_Detection\\Pistols\\datasets\\test\\images\\armas (2938)_jpg.rf.337d07f44651b3779b091e1935e92f34.jpg: 416x416 1 pistol, 13.4ms\n",
      "Speed: 0.0ms preprocess, 13.4ms inference, 1.0ms postprocess per image at shape (1, 3, 416, 416)\n",
      "Results for armas (2938)_jpg.rf.337d07f44651b3779b091e1935e92f34.jpg:\n",
      "Class: tensor([0.], device='cuda:0'), Confidence: tensor([0.8421], device='cuda:0'), Box: tensor([[  0.0000, 117.0726, 349.5571, 416.0000]], device='cuda:0')\n",
      "\n",
      "image 1/1 c:\\Users\\User\\Desktop\\Object_Detection\\Pistols\\datasets\\test\\images\\armas (2939)_jpg.rf.bbacce3b021110d8472726d604d0ccd7.jpg: 416x416 1 pistol, 11.4ms\n",
      "Speed: 0.0ms preprocess, 11.4ms inference, 1.0ms postprocess per image at shape (1, 3, 416, 416)\n",
      "Results for armas (2939)_jpg.rf.bbacce3b021110d8472726d604d0ccd7.jpg:\n",
      "Class: tensor([0.], device='cuda:0'), Confidence: tensor([0.7288], device='cuda:0'), Box: tensor([[137.0241, 134.5698, 215.1931, 186.1864]], device='cuda:0')\n",
      "\n",
      "image 1/1 c:\\Users\\User\\Desktop\\Object_Detection\\Pistols\\datasets\\test\\images\\armas (2940)_jpg.rf.9af7038fa591e63ae9eecf613eb5513a.jpg: 416x416 2 pistols, 11.8ms\n",
      "Speed: 0.0ms preprocess, 11.8ms inference, 1.4ms postprocess per image at shape (1, 3, 416, 416)\n",
      "Results for armas (2940)_jpg.rf.9af7038fa591e63ae9eecf613eb5513a.jpg:\n",
      "Class: tensor([0.], device='cuda:0'), Confidence: tensor([0.4077], device='cuda:0'), Box: tensor([[ 96.0833, 176.2910, 167.7263, 293.4049]], device='cuda:0')\n",
      "Class: tensor([0.], device='cuda:0'), Confidence: tensor([0.2507], device='cuda:0'), Box: tensor([[ 18.3263, 144.1362, 415.2894, 415.2613]], device='cuda:0')\n",
      "\n",
      "image 1/1 c:\\Users\\User\\Desktop\\Object_Detection\\Pistols\\datasets\\test\\images\\armas (2941)_jpg.rf.a26dedc489e1c3f0471a5850fbee8bc3.jpg: 416x416 1 pistol, 9.4ms\n",
      "Speed: 0.0ms preprocess, 9.4ms inference, 1.0ms postprocess per image at shape (1, 3, 416, 416)\n",
      "Results for armas (2941)_jpg.rf.a26dedc489e1c3f0471a5850fbee8bc3.jpg:\n",
      "Class: tensor([0.], device='cuda:0'), Confidence: tensor([0.8040], device='cuda:0'), Box: tensor([[ 41.4375,  45.4341, 355.1863, 310.6139]], device='cuda:0')\n",
      "\n",
      "image 1/1 c:\\Users\\User\\Desktop\\Object_Detection\\Pistols\\datasets\\test\\images\\armas (2942)_jpg.rf.389371266ffb062fa92d85ca0d2dcd69.jpg: 416x416 2 pistols, 9.3ms\n",
      "Speed: 0.0ms preprocess, 9.3ms inference, 1.0ms postprocess per image at shape (1, 3, 416, 416)\n",
      "Results for armas (2942)_jpg.rf.389371266ffb062fa92d85ca0d2dcd69.jpg:\n",
      "Class: tensor([0.], device='cuda:0'), Confidence: tensor([0.2830], device='cuda:0'), Box: tensor([[180.9691, 214.4516, 243.5905, 279.0121]], device='cuda:0')\n",
      "Class: tensor([0.], device='cuda:0'), Confidence: tensor([0.2630], device='cuda:0'), Box: tensor([[ 0.9581,  4.8776, 70.5978, 90.9012]], device='cuda:0')\n",
      "\n",
      "image 1/1 c:\\Users\\User\\Desktop\\Object_Detection\\Pistols\\datasets\\test\\images\\armas (2943)_jpg.rf.899c50a0dba46bf65842dbcdf70ec855.jpg: 416x416 1 pistol, 8.8ms\n",
      "Speed: 0.0ms preprocess, 8.8ms inference, 1.0ms postprocess per image at shape (1, 3, 416, 416)\n",
      "Results for armas (2943)_jpg.rf.899c50a0dba46bf65842dbcdf70ec855.jpg:\n",
      "Class: tensor([0.], device='cuda:0'), Confidence: tensor([0.9274], device='cuda:0'), Box: tensor([[ 18.7353,  38.8797, 398.5645, 388.0903]], device='cuda:0')\n",
      "\n",
      "image 1/1 c:\\Users\\User\\Desktop\\Object_Detection\\Pistols\\datasets\\test\\images\\armas (2944)_jpg.rf.2d4cbb711e2c8dfeb925bda5a0964dce.jpg: 416x416 1 pistol, 10.8ms\n",
      "Speed: 0.0ms preprocess, 10.8ms inference, 1.6ms postprocess per image at shape (1, 3, 416, 416)\n",
      "Results for armas (2944)_jpg.rf.2d4cbb711e2c8dfeb925bda5a0964dce.jpg:\n",
      "Class: tensor([0.], device='cuda:0'), Confidence: tensor([0.9689], device='cuda:0'), Box: tensor([[ 10.5231,  14.8897, 395.5246, 399.5308]], device='cuda:0')\n",
      "\n",
      "image 1/1 c:\\Users\\User\\Desktop\\Object_Detection\\Pistols\\datasets\\test\\images\\armas (2945)_jpg.rf.fce5574a06bde99626c13579c653be18.jpg: 416x416 1 pistol, 8.0ms\n",
      "Speed: 0.0ms preprocess, 8.0ms inference, 3.4ms postprocess per image at shape (1, 3, 416, 416)\n",
      "Results for armas (2945)_jpg.rf.fce5574a06bde99626c13579c653be18.jpg:\n",
      "Class: tensor([0.], device='cuda:0'), Confidence: tensor([0.8811], device='cuda:0'), Box: tensor([[  1.7244,  99.2866, 414.6385, 373.0511]], device='cuda:0')\n",
      "\n",
      "image 1/1 c:\\Users\\User\\Desktop\\Object_Detection\\Pistols\\datasets\\test\\images\\armas (2946)_jpg.rf.904237f116a13b6d343e4bdbb1cba6b7.jpg: 416x416 2 pistols, 9.2ms\n",
      "Speed: 0.0ms preprocess, 9.2ms inference, 1.0ms postprocess per image at shape (1, 3, 416, 416)\n",
      "Results for armas (2946)_jpg.rf.904237f116a13b6d343e4bdbb1cba6b7.jpg:\n",
      "Class: tensor([0.], device='cuda:0'), Confidence: tensor([0.5565], device='cuda:0'), Box: tensor([[329.3714,  38.1846, 346.4380, 100.6040]], device='cuda:0')\n",
      "Class: tensor([0.], device='cuda:0'), Confidence: tensor([0.3501], device='cuda:0'), Box: tensor([[325.0320,  36.3906, 346.6443, 141.4646]], device='cuda:0')\n",
      "\n",
      "image 1/1 c:\\Users\\User\\Desktop\\Object_Detection\\Pistols\\datasets\\test\\images\\armas (2947)_jpg.rf.95f8474c929d9e1fcc69b0f8215a3b7f.jpg: 416x416 1 pistol, 7.5ms\n",
      "Speed: 5.5ms preprocess, 7.5ms inference, 1.0ms postprocess per image at shape (1, 3, 416, 416)\n",
      "Results for armas (2947)_jpg.rf.95f8474c929d9e1fcc69b0f8215a3b7f.jpg:\n",
      "Class: tensor([0.], device='cuda:0'), Confidence: tensor([0.6575], device='cuda:0'), Box: tensor([[151.3318,  75.5121, 172.8035, 103.9425]], device='cuda:0')\n",
      "\n",
      "image 1/1 c:\\Users\\User\\Desktop\\Object_Detection\\Pistols\\datasets\\test\\images\\armas (2948)_jpg.rf.618e8ca8a923f8d50b571960d47eb0e3.jpg: 416x416 2 pistols, 11.6ms\n",
      "Speed: 0.0ms preprocess, 11.6ms inference, 1.5ms postprocess per image at shape (1, 3, 416, 416)\n",
      "Results for armas (2948)_jpg.rf.618e8ca8a923f8d50b571960d47eb0e3.jpg:\n",
      "Class: tensor([0.], device='cuda:0'), Confidence: tensor([0.9339], device='cuda:0'), Box: tensor([[ 39.3647,  35.3310, 246.7426, 245.8521]], device='cuda:0')\n",
      "Class: tensor([0.], device='cuda:0'), Confidence: tensor([0.8932], device='cuda:0'), Box: tensor([[112.9167, 267.9361, 244.3397, 400.0240]], device='cuda:0')\n",
      "\n",
      "image 1/1 c:\\Users\\User\\Desktop\\Object_Detection\\Pistols\\datasets\\test\\images\\armas (2949)_jpg.rf.997b8567347e2a8eedc3f622ddb18657.jpg: 416x416 1 pistol, 8.0ms\n",
      "Speed: 0.0ms preprocess, 8.0ms inference, 0.0ms postprocess per image at shape (1, 3, 416, 416)\n",
      "Results for armas (2949)_jpg.rf.997b8567347e2a8eedc3f622ddb18657.jpg:\n",
      "Class: tensor([0.], device='cuda:0'), Confidence: tensor([0.8830], device='cuda:0'), Box: tensor([[ 26.2281,  37.9846, 408.8939, 394.7321]], device='cuda:0')\n",
      "\n",
      "image 1/1 c:\\Users\\User\\Desktop\\Object_Detection\\Pistols\\datasets\\test\\images\\armas (2950)_jpg.rf.159e81702111a47e9af2cbe9bb506ddc.jpg: 416x416 1 pistol, 11.7ms\n",
      "Speed: 0.0ms preprocess, 11.7ms inference, 1.0ms postprocess per image at shape (1, 3, 416, 416)\n",
      "Results for armas (2950)_jpg.rf.159e81702111a47e9af2cbe9bb506ddc.jpg:\n",
      "Class: tensor([0.], device='cuda:0'), Confidence: tensor([0.9324], device='cuda:0'), Box: tensor([[  4.2499,  35.9239, 411.5269, 357.9133]], device='cuda:0')\n",
      "\n",
      "image 1/1 c:\\Users\\User\\Desktop\\Object_Detection\\Pistols\\datasets\\test\\images\\armas (2951)_jpg.rf.179de6c3baefa0c9df2f9084be90a875.jpg: 416x416 1 pistol, 8.3ms\n",
      "Speed: 0.0ms preprocess, 8.3ms inference, 0.0ms postprocess per image at shape (1, 3, 416, 416)\n",
      "Results for armas (2951)_jpg.rf.179de6c3baefa0c9df2f9084be90a875.jpg:\n",
      "Class: tensor([0.], device='cuda:0'), Confidence: tensor([0.9206], device='cuda:0'), Box: tensor([[ 15.7672, 133.4853, 272.0671, 308.4003]], device='cuda:0')\n",
      "\n",
      "image 1/1 c:\\Users\\User\\Desktop\\Object_Detection\\Pistols\\datasets\\test\\images\\armas (2952)_jpg.rf.38b6d635c18d87a081fac6fe439625b2.jpg: 416x416 1 pistol, 12.9ms\n",
      "Speed: 0.0ms preprocess, 12.9ms inference, 1.0ms postprocess per image at shape (1, 3, 416, 416)\n",
      "Results for armas (2952)_jpg.rf.38b6d635c18d87a081fac6fe439625b2.jpg:\n",
      "Class: tensor([0.], device='cuda:0'), Confidence: tensor([0.9297], device='cuda:0'), Box: tensor([[144.3492,  40.8538, 391.3089, 320.3647]], device='cuda:0')\n",
      "\n",
      "image 1/1 c:\\Users\\User\\Desktop\\Object_Detection\\Pistols\\datasets\\test\\images\\armas (2953)_jpg.rf.93d22a91833386fdc62d5acd11fd7f00.jpg: 416x416 1 pistol, 9.1ms\n",
      "Speed: 0.0ms preprocess, 9.1ms inference, 0.9ms postprocess per image at shape (1, 3, 416, 416)\n",
      "Results for armas (2953)_jpg.rf.93d22a91833386fdc62d5acd11fd7f00.jpg:\n",
      "Class: tensor([0.], device='cuda:0'), Confidence: tensor([0.9374], device='cuda:0'), Box: tensor([[ 33.0704,  95.4652, 383.3226, 340.9869]], device='cuda:0')\n",
      "\n",
      "image 1/1 c:\\Users\\User\\Desktop\\Object_Detection\\Pistols\\datasets\\test\\images\\armas (2954)_jpg.rf.015e330acef92c65bc7bb762aea83291.jpg: 416x416 1 pistol, 11.6ms\n",
      "Speed: 0.0ms preprocess, 11.6ms inference, 1.0ms postprocess per image at shape (1, 3, 416, 416)\n",
      "Results for armas (2954)_jpg.rf.015e330acef92c65bc7bb762aea83291.jpg:\n",
      "Class: tensor([0.], device='cuda:0'), Confidence: tensor([0.9805], device='cuda:0'), Box: tensor([[  0.0000,   0.0000, 415.3264, 414.9940]], device='cuda:0')\n",
      "\n",
      "image 1/1 c:\\Users\\User\\Desktop\\Object_Detection\\Pistols\\datasets\\test\\images\\armas (2955)_jpg.rf.fdbb87b55201988cd3b20e46a6f46850.jpg: 416x416 1 pistol, 9.8ms\n",
      "Speed: 0.0ms preprocess, 9.8ms inference, 0.0ms postprocess per image at shape (1, 3, 416, 416)\n",
      "Results for armas (2955)_jpg.rf.fdbb87b55201988cd3b20e46a6f46850.jpg:\n",
      "Class: tensor([0.], device='cuda:0'), Confidence: tensor([0.9344], device='cuda:0'), Box: tensor([[ 26.5788,  14.0978, 398.6672, 394.0709]], device='cuda:0')\n",
      "\n",
      "image 1/1 c:\\Users\\User\\Desktop\\Object_Detection\\Pistols\\datasets\\test\\images\\armas (2956)_jpg.rf.3b6934ca93d9aacd11162ef5486f09bc.jpg: 416x416 (no detections), 9.4ms\n",
      "Speed: 5.8ms preprocess, 9.4ms inference, 1.0ms postprocess per image at shape (1, 3, 416, 416)\n",
      "Results for armas (2956)_jpg.rf.3b6934ca93d9aacd11162ef5486f09bc.jpg:\n",
      "\n",
      "image 1/1 c:\\Users\\User\\Desktop\\Object_Detection\\Pistols\\datasets\\test\\images\\armas (2957)_jpg.rf.3c438ffa698e95b8bff1261ef65e1df5.jpg: 416x416 1 pistol, 10.3ms\n",
      "Speed: 0.0ms preprocess, 10.3ms inference, 1.8ms postprocess per image at shape (1, 3, 416, 416)\n",
      "Results for armas (2957)_jpg.rf.3c438ffa698e95b8bff1261ef65e1df5.jpg:\n",
      "Class: tensor([0.], device='cuda:0'), Confidence: tensor([0.9650], device='cuda:0'), Box: tensor([[ 16.7581,  24.8326, 406.0901, 399.9838]], device='cuda:0')\n",
      "\n",
      "image 1/1 c:\\Users\\User\\Desktop\\Object_Detection\\Pistols\\datasets\\test\\images\\armas (2958)_jpg.rf.1784a22b4be19555bae9a67f6f83050b.jpg: 416x416 1 pistol, 9.0ms\n",
      "Speed: 0.0ms preprocess, 9.0ms inference, 0.0ms postprocess per image at shape (1, 3, 416, 416)\n",
      "Results for armas (2958)_jpg.rf.1784a22b4be19555bae9a67f6f83050b.jpg:\n",
      "Class: tensor([0.], device='cuda:0'), Confidence: tensor([0.8669], device='cuda:0'), Box: tensor([[ 86.5558, 169.3777, 268.9373, 288.2071]], device='cuda:0')\n",
      "\n",
      "image 1/1 c:\\Users\\User\\Desktop\\Object_Detection\\Pistols\\datasets\\test\\images\\armas (2959)_jpg.rf.95559d91cd1e02b444bf74a713ca6b1f.jpg: 416x416 1 pistol, 9.6ms\n",
      "Speed: 6.0ms preprocess, 9.6ms inference, 1.0ms postprocess per image at shape (1, 3, 416, 416)\n",
      "Results for armas (2959)_jpg.rf.95559d91cd1e02b444bf74a713ca6b1f.jpg:\n",
      "Class: tensor([0.], device='cuda:0'), Confidence: tensor([0.9697], device='cuda:0'), Box: tensor([[ 11.4330,  21.8588, 397.1621, 397.0444]], device='cuda:0')\n",
      "\n",
      "image 1/1 c:\\Users\\User\\Desktop\\Object_Detection\\Pistols\\datasets\\test\\images\\armas (2960)_jpg.rf.19535769cbc83634c1d653d9c98ced10.jpg: 416x416 2 pistols, 12.9ms\n",
      "Speed: 0.0ms preprocess, 12.9ms inference, 0.0ms postprocess per image at shape (1, 3, 416, 416)\n",
      "Results for armas (2960)_jpg.rf.19535769cbc83634c1d653d9c98ced10.jpg:\n",
      "Class: tensor([0.], device='cuda:0'), Confidence: tensor([0.8817], device='cuda:0'), Box: tensor([[  5.6460,  42.1815, 412.0731, 380.1668]], device='cuda:0')\n",
      "Class: tensor([0.], device='cuda:0'), Confidence: tensor([0.7212], device='cuda:0'), Box: tensor([[  7.3863,  44.3214, 411.1695, 263.1584]], device='cuda:0')\n",
      "\n",
      "image 1/1 c:\\Users\\User\\Desktop\\Object_Detection\\Pistols\\datasets\\test\\images\\armas (2961)_jpg.rf.73787bf9fa4690f52838c0c1488862ac.jpg: 416x416 3 pistols, 10.7ms\n",
      "Speed: 0.0ms preprocess, 10.7ms inference, 1.2ms postprocess per image at shape (1, 3, 416, 416)\n",
      "Results for armas (2961)_jpg.rf.73787bf9fa4690f52838c0c1488862ac.jpg:\n",
      "Class: tensor([0.], device='cuda:0'), Confidence: tensor([0.5598], device='cuda:0'), Box: tensor([[  0.4768,   0.0000, 409.6773, 407.6124]], device='cuda:0')\n",
      "Class: tensor([0.], device='cuda:0'), Confidence: tensor([0.3049], device='cuda:0'), Box: tensor([[  0.0000,   0.0000, 189.8792, 397.2361]], device='cuda:0')\n",
      "Class: tensor([0.], device='cuda:0'), Confidence: tensor([0.3006], device='cuda:0'), Box: tensor([[  0.0000,   1.2864, 292.3530, 397.0241]], device='cuda:0')\n",
      "\n",
      "image 1/1 c:\\Users\\User\\Desktop\\Object_Detection\\Pistols\\datasets\\test\\images\\armas (2962)_jpg.rf.5252481c673c4b1dd447a0c0391062ad.jpg: 416x416 1 pistol, 12.9ms\n",
      "Speed: 0.0ms preprocess, 12.9ms inference, 1.0ms postprocess per image at shape (1, 3, 416, 416)\n",
      "Results for armas (2962)_jpg.rf.5252481c673c4b1dd447a0c0391062ad.jpg:\n",
      "Class: tensor([0.], device='cuda:0'), Confidence: tensor([0.8625], device='cuda:0'), Box: tensor([[249.6013, 116.0088, 340.2182, 280.4064]], device='cuda:0')\n",
      "\n",
      "image 1/1 c:\\Users\\User\\Desktop\\Object_Detection\\Pistols\\datasets\\test\\images\\armas (2963)_jpg.rf.a3990783fbf3f6be3e6ccae6a1f8e0ac.jpg: 416x416 (no detections), 8.3ms\n",
      "Speed: 0.0ms preprocess, 8.3ms inference, 0.0ms postprocess per image at shape (1, 3, 416, 416)\n",
      "Results for armas (2963)_jpg.rf.a3990783fbf3f6be3e6ccae6a1f8e0ac.jpg:\n",
      "\n",
      "image 1/1 c:\\Users\\User\\Desktop\\Object_Detection\\Pistols\\datasets\\test\\images\\armas (2964)_jpg.rf.06ec925ebd63e20357bda3974ed3129f.jpg: 416x416 (no detections), 6.1ms\n",
      "Speed: 0.2ms preprocess, 6.1ms inference, 0.0ms postprocess per image at shape (1, 3, 416, 416)\n",
      "Results for armas (2964)_jpg.rf.06ec925ebd63e20357bda3974ed3129f.jpg:\n",
      "\n",
      "image 1/1 c:\\Users\\User\\Desktop\\Object_Detection\\Pistols\\datasets\\test\\images\\armas (2965)_jpg.rf.a814379a4dec9d4f6c89f90705f0b32f.jpg: 416x416 1 pistol, 6.4ms\n",
      "Speed: 2.6ms preprocess, 6.4ms inference, 0.0ms postprocess per image at shape (1, 3, 416, 416)\n",
      "Results for armas (2965)_jpg.rf.a814379a4dec9d4f6c89f90705f0b32f.jpg:\n",
      "Class: tensor([0.], device='cuda:0'), Confidence: tensor([0.9349], device='cuda:0'), Box: tensor([[ 15.9789,  15.7032, 340.8433, 400.9901]], device='cuda:0')\n",
      "\n",
      "image 1/1 c:\\Users\\User\\Desktop\\Object_Detection\\Pistols\\datasets\\test\\images\\armas (2966)_jpg.rf.704eaddbb8f9990930d626294213cdd8.jpg: 416x416 1 pistol, 9.8ms\n",
      "Speed: 1.0ms preprocess, 9.8ms inference, 0.9ms postprocess per image at shape (1, 3, 416, 416)\n",
      "Results for armas (2966)_jpg.rf.704eaddbb8f9990930d626294213cdd8.jpg:\n",
      "Class: tensor([0.], device='cuda:0'), Confidence: tensor([0.8130], device='cuda:0'), Box: tensor([[ 54.9035, 235.1020, 373.6464, 415.8555]], device='cuda:0')\n",
      "\n",
      "image 1/1 c:\\Users\\User\\Desktop\\Object_Detection\\Pistols\\datasets\\test\\images\\armas (2967)_jpg.rf.3d3cb409d02f992b4509b9c53109456f.jpg: 416x416 1 pistol, 11.6ms\n",
      "Speed: 0.0ms preprocess, 11.6ms inference, 0.0ms postprocess per image at shape (1, 3, 416, 416)\n",
      "Results for armas (2967)_jpg.rf.3d3cb409d02f992b4509b9c53109456f.jpg:\n",
      "Class: tensor([0.], device='cuda:0'), Confidence: tensor([0.9449], device='cuda:0'), Box: tensor([[  0.8819,   0.0000, 348.2318, 415.3480]], device='cuda:0')\n",
      "\n",
      "image 1/1 c:\\Users\\User\\Desktop\\Object_Detection\\Pistols\\datasets\\test\\images\\armas (2968)_jpg.rf.031d9219e3782dfb71ca1610ff63c40e.jpg: 416x416 1 pistol, 7.9ms\n",
      "Speed: 0.0ms preprocess, 7.9ms inference, 1.0ms postprocess per image at shape (1, 3, 416, 416)\n",
      "Results for armas (2968)_jpg.rf.031d9219e3782dfb71ca1610ff63c40e.jpg:\n",
      "Class: tensor([0.], device='cuda:0'), Confidence: tensor([0.8117], device='cuda:0'), Box: tensor([[193.2923,  76.1151, 234.7158, 104.8260]], device='cuda:0')\n",
      "\n",
      "image 1/1 c:\\Users\\User\\Desktop\\Object_Detection\\Pistols\\datasets\\test\\images\\armas (2969)_jpg.rf.1b850513c1ef0d34acbde6c891fb150f.jpg: 416x416 1 pistol, 7.7ms\n",
      "Speed: 5.7ms preprocess, 7.7ms inference, 0.0ms postprocess per image at shape (1, 3, 416, 416)\n",
      "Results for armas (2969)_jpg.rf.1b850513c1ef0d34acbde6c891fb150f.jpg:\n",
      "Class: tensor([0.], device='cuda:0'), Confidence: tensor([0.9127], device='cuda:0'), Box: tensor([[  8.3497, 101.6830, 275.0027, 280.6524]], device='cuda:0')\n",
      "\n",
      "image 1/1 c:\\Users\\User\\Desktop\\Object_Detection\\Pistols\\datasets\\test\\images\\armas (2970)_jpg.rf.49bb8b80f4173710cf334df7d02c45db.jpg: 416x416 (no detections), 17.5ms\n",
      "Speed: 0.0ms preprocess, 17.5ms inference, 0.8ms postprocess per image at shape (1, 3, 416, 416)\n",
      "Results for armas (2970)_jpg.rf.49bb8b80f4173710cf334df7d02c45db.jpg:\n",
      "\n",
      "image 1/1 c:\\Users\\User\\Desktop\\Object_Detection\\Pistols\\datasets\\test\\images\\armas (2971)_jpg.rf.60099ad19df8f43f96f6fb33953a5f59.jpg: 416x416 1 pistol, 10.3ms\n",
      "Speed: 0.0ms preprocess, 10.3ms inference, 1.8ms postprocess per image at shape (1, 3, 416, 416)\n",
      "Results for armas (2971)_jpg.rf.60099ad19df8f43f96f6fb33953a5f59.jpg:\n",
      "Class: tensor([0.], device='cuda:0'), Confidence: tensor([0.9567], device='cuda:0'), Box: tensor([[  3.4901,  10.6895, 414.7147, 405.1711]], device='cuda:0')\n",
      "\n",
      "image 1/1 c:\\Users\\User\\Desktop\\Object_Detection\\Pistols\\datasets\\test\\images\\armas (2972)_jpg.rf.d60cdb2b2d8a197f7c1b1d6e63be9033.jpg: 416x416 (no detections), 13.4ms\n",
      "Speed: 0.0ms preprocess, 13.4ms inference, 0.0ms postprocess per image at shape (1, 3, 416, 416)\n",
      "Results for armas (2972)_jpg.rf.d60cdb2b2d8a197f7c1b1d6e63be9033.jpg:\n",
      "\n",
      "image 1/1 c:\\Users\\User\\Desktop\\Object_Detection\\Pistols\\datasets\\test\\images\\armas (2973)_jpg.rf.59c1d6a10920d70523418fd8321a9ff3.jpg: 416x416 1 pistol, 6.9ms\n",
      "Speed: 0.0ms preprocess, 6.9ms inference, 0.0ms postprocess per image at shape (1, 3, 416, 416)\n",
      "Results for armas (2973)_jpg.rf.59c1d6a10920d70523418fd8321a9ff3.jpg:\n",
      "Class: tensor([0.], device='cuda:0'), Confidence: tensor([0.9863], device='cuda:0'), Box: tensor([[2.3328e-01, 1.2292e-01, 4.1600e+02, 4.1600e+02]], device='cuda:0')\n",
      "\n",
      "image 1/1 c:\\Users\\User\\Desktop\\Object_Detection\\Pistols\\datasets\\test\\images\\armas (2974)_jpg.rf.ff4e6c805d68a4fc746a7046859b0fab.jpg: 416x416 1 pistol, 8.0ms\n",
      "Speed: 6.1ms preprocess, 8.0ms inference, 0.0ms postprocess per image at shape (1, 3, 416, 416)\n",
      "Results for armas (2974)_jpg.rf.ff4e6c805d68a4fc746a7046859b0fab.jpg:\n",
      "Class: tensor([0.], device='cuda:0'), Confidence: tensor([0.7299], device='cuda:0'), Box: tensor([[189.3223, 290.0332, 230.8895, 415.7292]], device='cuda:0')\n",
      "\n",
      "image 1/1 c:\\Users\\User\\Desktop\\Object_Detection\\Pistols\\datasets\\test\\images\\armas (2975)_jpg.rf.f965cab662d6bcf29c8965eeaa490097.jpg: 416x416 1 pistol, 7.8ms\n",
      "Speed: 5.5ms preprocess, 7.8ms inference, 1.2ms postprocess per image at shape (1, 3, 416, 416)\n",
      "Results for armas (2975)_jpg.rf.f965cab662d6bcf29c8965eeaa490097.jpg:\n",
      "Class: tensor([0.], device='cuda:0'), Confidence: tensor([0.8400], device='cuda:0'), Box: tensor([[152.8587, 201.3432, 323.4745, 410.1975]], device='cuda:0')\n",
      "\n",
      "image 1/1 c:\\Users\\User\\Desktop\\Object_Detection\\Pistols\\datasets\\test\\images\\armas (2976)_jpg.rf.c80298e56a0fb985e78ee6815d95f788.jpg: 416x416 1 pistol, 11.8ms\n",
      "Speed: 0.0ms preprocess, 11.8ms inference, 1.1ms postprocess per image at shape (1, 3, 416, 416)\n",
      "Results for armas (2976)_jpg.rf.c80298e56a0fb985e78ee6815d95f788.jpg:\n",
      "Class: tensor([0.], device='cuda:0'), Confidence: tensor([0.9172], device='cuda:0'), Box: tensor([[ 23.8420,  73.4199, 384.5887, 322.5248]], device='cuda:0')\n",
      "\n",
      "image 1/1 c:\\Users\\User\\Desktop\\Object_Detection\\Pistols\\datasets\\test\\images\\armas (2977)_jpg.rf.8e81032a43e70b50298567a6e0592a06.jpg: 416x416 1 pistol, 5.9ms\n",
      "Speed: 6.3ms preprocess, 5.9ms inference, 2.5ms postprocess per image at shape (1, 3, 416, 416)\n",
      "Results for armas (2977)_jpg.rf.8e81032a43e70b50298567a6e0592a06.jpg:\n",
      "Class: tensor([0.], device='cuda:0'), Confidence: tensor([0.9571], device='cuda:0'), Box: tensor([[  2.4560,  16.7215, 405.8891, 360.8013]], device='cuda:0')\n",
      "\n",
      "image 1/1 c:\\Users\\User\\Desktop\\Object_Detection\\Pistols\\datasets\\test\\images\\armas (2978)_jpg.rf.1963c838ce41b19d1c604f69534f957a.jpg: 416x416 1 pistol, 6.7ms\n",
      "Speed: 0.0ms preprocess, 6.7ms inference, 0.0ms postprocess per image at shape (1, 3, 416, 416)\n",
      "Results for armas (2978)_jpg.rf.1963c838ce41b19d1c604f69534f957a.jpg:\n",
      "Class: tensor([0.], device='cuda:0'), Confidence: tensor([0.9673], device='cuda:0'), Box: tensor([[ 14.9492,  26.4431, 394.6156, 394.6199]], device='cuda:0')\n",
      "\n",
      "image 1/1 c:\\Users\\User\\Desktop\\Object_Detection\\Pistols\\datasets\\test\\images\\armas (2979)_jpg.rf.57fa6e874984470606d20c170645d024.jpg: 416x416 1 pistol, 9.8ms\n",
      "Speed: 0.0ms preprocess, 9.8ms inference, 0.4ms postprocess per image at shape (1, 3, 416, 416)\n",
      "Results for armas (2979)_jpg.rf.57fa6e874984470606d20c170645d024.jpg:\n",
      "Class: tensor([0.], device='cuda:0'), Confidence: tensor([0.9326], device='cuda:0'), Box: tensor([[  1.9453,   1.1728, 411.0348, 368.0673]], device='cuda:0')\n",
      "\n",
      "image 1/1 c:\\Users\\User\\Desktop\\Object_Detection\\Pistols\\datasets\\test\\images\\armas (2980)_jpg.rf.f1ec18c65a2bdb9c5f4ee78a2a58b457.jpg: 416x416 1 pistol, 12.1ms\n",
      "Speed: 0.0ms preprocess, 12.1ms inference, 1.1ms postprocess per image at shape (1, 3, 416, 416)\n",
      "Results for armas (2980)_jpg.rf.f1ec18c65a2bdb9c5f4ee78a2a58b457.jpg:\n",
      "Class: tensor([0.], device='cuda:0'), Confidence: tensor([0.5812], device='cuda:0'), Box: tensor([[ 20.5388,   4.7383, 415.6063, 389.9983]], device='cuda:0')\n",
      "\n",
      "image 1/1 c:\\Users\\User\\Desktop\\Object_Detection\\Pistols\\datasets\\test\\images\\armas (2981)_jpg.rf.8eab982f5db698f53231032bdceb0a76.jpg: 416x416 1 pistol, 7.6ms\n",
      "Speed: 0.0ms preprocess, 7.6ms inference, 0.0ms postprocess per image at shape (1, 3, 416, 416)\n",
      "Results for armas (2981)_jpg.rf.8eab982f5db698f53231032bdceb0a76.jpg:\n",
      "Class: tensor([0.], device='cuda:0'), Confidence: tensor([0.8553], device='cuda:0'), Box: tensor([[  3.0529,  49.5189, 405.1590, 382.6058]], device='cuda:0')\n",
      "\n",
      "image 1/1 c:\\Users\\User\\Desktop\\Object_Detection\\Pistols\\datasets\\test\\images\\armas (2982)_jpg.rf.3dd20617030fab0b08313dacff36e3b2.jpg: 416x416 1 pistol, 8.2ms\n",
      "Speed: 0.6ms preprocess, 8.2ms inference, 0.7ms postprocess per image at shape (1, 3, 416, 416)\n",
      "Results for armas (2982)_jpg.rf.3dd20617030fab0b08313dacff36e3b2.jpg:\n",
      "Class: tensor([0.], device='cuda:0'), Confidence: tensor([0.6497], device='cuda:0'), Box: tensor([[161.0734, 138.5767, 264.6536, 288.7380]], device='cuda:0')\n",
      "\n",
      "image 1/1 c:\\Users\\User\\Desktop\\Object_Detection\\Pistols\\datasets\\test\\images\\armas (2983)_jpg.rf.7016172948aceec056bb7bb7a0bb0181.jpg: 416x416 1 pistol, 6.9ms\n",
      "Speed: 0.0ms preprocess, 6.9ms inference, 2.9ms postprocess per image at shape (1, 3, 416, 416)\n",
      "Results for armas (2983)_jpg.rf.7016172948aceec056bb7bb7a0bb0181.jpg:\n",
      "Class: tensor([0.], device='cuda:0'), Confidence: tensor([0.9410], device='cuda:0'), Box: tensor([[  6.3106,  37.4755, 406.4104, 395.4547]], device='cuda:0')\n",
      "\n",
      "image 1/1 c:\\Users\\User\\Desktop\\Object_Detection\\Pistols\\datasets\\test\\images\\armas (2984)_jpg.rf.8a1295720b67f457f7ccf7159092b277.jpg: 416x416 1 pistol, 7.6ms\n",
      "Speed: 1.0ms preprocess, 7.6ms inference, 0.0ms postprocess per image at shape (1, 3, 416, 416)\n",
      "Results for armas (2984)_jpg.rf.8a1295720b67f457f7ccf7159092b277.jpg:\n",
      "Class: tensor([0.], device='cuda:0'), Confidence: tensor([0.9674], device='cuda:0'), Box: tensor([[  0.4462,   4.6208, 415.8979, 411.2867]], device='cuda:0')\n",
      "\n",
      "image 1/1 c:\\Users\\User\\Desktop\\Object_Detection\\Pistols\\datasets\\test\\images\\armas (2985)_jpg.rf.c2eb67393833360ff77a6ffa499f449a.jpg: 416x416 1 pistol, 6.6ms\n",
      "Speed: 0.0ms preprocess, 6.6ms inference, 5.5ms postprocess per image at shape (1, 3, 416, 416)\n",
      "Results for armas (2985)_jpg.rf.c2eb67393833360ff77a6ffa499f449a.jpg:\n",
      "Class: tensor([0.], device='cuda:0'), Confidence: tensor([0.8897], device='cuda:0'), Box: tensor([[ 54.2690, 178.3489, 386.1998, 384.4410]], device='cuda:0')\n",
      "\n",
      "image 1/1 c:\\Users\\User\\Desktop\\Object_Detection\\Pistols\\datasets\\test\\images\\armas (2986)_jpg.rf.d7b7479cfc0d3c8f39752f89e4275f54.jpg: 416x416 1 pistol, 8.0ms\n",
      "Speed: 0.0ms preprocess, 8.0ms inference, 0.0ms postprocess per image at shape (1, 3, 416, 416)\n",
      "Results for armas (2986)_jpg.rf.d7b7479cfc0d3c8f39752f89e4275f54.jpg:\n",
      "Class: tensor([0.], device='cuda:0'), Confidence: tensor([0.9476], device='cuda:0'), Box: tensor([[ 22.1143,  49.6255, 397.9003, 392.3636]], device='cuda:0')\n",
      "\n",
      "image 1/1 c:\\Users\\User\\Desktop\\Object_Detection\\Pistols\\datasets\\test\\images\\armas (2987)_jpg.rf.a4b9fe433a5970d080eb6e527fdeeaf9.jpg: 416x416 (no detections), 12.4ms\n",
      "Speed: 0.0ms preprocess, 12.4ms inference, 0.0ms postprocess per image at shape (1, 3, 416, 416)\n",
      "Results for armas (2987)_jpg.rf.a4b9fe433a5970d080eb6e527fdeeaf9.jpg:\n",
      "\n",
      "image 1/1 c:\\Users\\User\\Desktop\\Object_Detection\\Pistols\\datasets\\test\\images\\armas (2988)_jpg.rf.62d5a90fa5d5a70ab01463564b7699b2.jpg: 416x416 1 pistol, 13.0ms\n",
      "Speed: 0.0ms preprocess, 13.0ms inference, 0.8ms postprocess per image at shape (1, 3, 416, 416)\n",
      "Results for armas (2988)_jpg.rf.62d5a90fa5d5a70ab01463564b7699b2.jpg:\n",
      "Class: tensor([0.], device='cuda:0'), Confidence: tensor([0.8679], device='cuda:0'), Box: tensor([[ 16.9434, 244.4574, 130.3942, 343.4334]], device='cuda:0')\n",
      "\n",
      "image 1/1 c:\\Users\\User\\Desktop\\Object_Detection\\Pistols\\datasets\\test\\images\\armas (2989)_jpg.rf.52a394b0a0a2a8b835e51dd20d84d8a1.jpg: 416x416 1 pistol, 13.5ms\n",
      "Speed: 0.0ms preprocess, 13.5ms inference, 0.6ms postprocess per image at shape (1, 3, 416, 416)\n",
      "Results for armas (2989)_jpg.rf.52a394b0a0a2a8b835e51dd20d84d8a1.jpg:\n",
      "Class: tensor([0.], device='cuda:0'), Confidence: tensor([0.9270], device='cuda:0'), Box: tensor([[ 33.9280,   0.6617, 383.4108, 415.7682]], device='cuda:0')\n",
      "\n",
      "image 1/1 c:\\Users\\User\\Desktop\\Object_Detection\\Pistols\\datasets\\test\\images\\armas (2990)_jpg.rf.62743ff4d0590169c9d97b0becbd5517.jpg: 416x416 2 pistols, 11.9ms\n",
      "Speed: 0.0ms preprocess, 11.9ms inference, 1.3ms postprocess per image at shape (1, 3, 416, 416)\n",
      "Results for armas (2990)_jpg.rf.62743ff4d0590169c9d97b0becbd5517.jpg:\n",
      "Class: tensor([0.], device='cuda:0'), Confidence: tensor([0.9161], device='cuda:0'), Box: tensor([[104.6112,  70.1088, 305.5430, 310.8839]], device='cuda:0')\n",
      "Class: tensor([0.], device='cuda:0'), Confidence: tensor([0.3542], device='cuda:0'), Box: tensor([[177.5706,  63.4612, 304.9507, 218.7550]], device='cuda:0')\n",
      "\n",
      "image 1/1 c:\\Users\\User\\Desktop\\Object_Detection\\Pistols\\datasets\\test\\images\\armas (2991)_jpg.rf.465d00c95cc843f4af6b1474f53926d2.jpg: 416x416 (no detections), 12.3ms\n",
      "Speed: 0.0ms preprocess, 12.3ms inference, 0.0ms postprocess per image at shape (1, 3, 416, 416)\n",
      "Results for armas (2991)_jpg.rf.465d00c95cc843f4af6b1474f53926d2.jpg:\n",
      "\n",
      "image 1/1 c:\\Users\\User\\Desktop\\Object_Detection\\Pistols\\datasets\\test\\images\\armas (2992)_jpg.rf.d3ea356ce87e73a7c24085fc9f666b36.jpg: 416x416 1 pistol, 12.9ms\n",
      "Speed: 0.0ms preprocess, 12.9ms inference, 0.9ms postprocess per image at shape (1, 3, 416, 416)\n",
      "Results for armas (2992)_jpg.rf.d3ea356ce87e73a7c24085fc9f666b36.jpg:\n",
      "Class: tensor([0.], device='cuda:0'), Confidence: tensor([0.6039], device='cuda:0'), Box: tensor([[253.1118, 112.0634, 290.9189, 165.3704]], device='cuda:0')\n",
      "\n",
      "image 1/1 c:\\Users\\User\\Desktop\\Object_Detection\\Pistols\\datasets\\test\\images\\armas (2993)_jpg.rf.5639e2fca75aebdce7c1b3e9899ba08d.jpg: 416x416 2 pistols, 9.3ms\n",
      "Speed: 0.0ms preprocess, 9.3ms inference, 1.4ms postprocess per image at shape (1, 3, 416, 416)\n",
      "Results for armas (2993)_jpg.rf.5639e2fca75aebdce7c1b3e9899ba08d.jpg:\n",
      "Class: tensor([0.], device='cuda:0'), Confidence: tensor([0.6514], device='cuda:0'), Box: tensor([[ 58.4671,  61.2490, 100.5000, 190.5985]], device='cuda:0')\n",
      "Class: tensor([0.], device='cuda:0'), Confidence: tensor([0.3524], device='cuda:0'), Box: tensor([[317.1769, 130.1327, 350.1700, 223.7343]], device='cuda:0')\n",
      "\n",
      "image 1/1 c:\\Users\\User\\Desktop\\Object_Detection\\Pistols\\datasets\\test\\images\\armas (2994)_jpg.rf.65e480944c4e0de1eb949088fd2ecc70.jpg: 416x416 1 pistol, 13.9ms\n",
      "Speed: 6.0ms preprocess, 13.9ms inference, 2.0ms postprocess per image at shape (1, 3, 416, 416)\n",
      "Results for armas (2994)_jpg.rf.65e480944c4e0de1eb949088fd2ecc70.jpg:\n",
      "Class: tensor([0.], device='cuda:0'), Confidence: tensor([0.7628], device='cuda:0'), Box: tensor([[  0.7596,   0.7533, 415.6766, 416.0000]], device='cuda:0')\n",
      "\n",
      "image 1/1 c:\\Users\\User\\Desktop\\Object_Detection\\Pistols\\datasets\\test\\images\\armas (2995)_jpg.rf.70d6f0b17c0adc6b2b8d4f3ee5b2330e.jpg: 416x416 5 pistols, 10.3ms\n",
      "Speed: 0.0ms preprocess, 10.3ms inference, 0.0ms postprocess per image at shape (1, 3, 416, 416)\n",
      "Results for armas (2995)_jpg.rf.70d6f0b17c0adc6b2b8d4f3ee5b2330e.jpg:\n",
      "Class: tensor([0.], device='cuda:0'), Confidence: tensor([0.8325], device='cuda:0'), Box: tensor([[110.5806,  30.9437, 186.7202, 125.7943]], device='cuda:0')\n",
      "Class: tensor([0.], device='cuda:0'), Confidence: tensor([0.7292], device='cuda:0'), Box: tensor([[ 41.6285, 268.0188, 106.0214, 336.2200]], device='cuda:0')\n",
      "Class: tensor([0.], device='cuda:0'), Confidence: tensor([0.5628], device='cuda:0'), Box: tensor([[143.2309, 290.0008, 208.8420, 340.4585]], device='cuda:0')\n",
      "Class: tensor([0.], device='cuda:0'), Confidence: tensor([0.5592], device='cuda:0'), Box: tensor([[202.2483,  22.0415, 286.6588,  80.3827]], device='cuda:0')\n",
      "Class: tensor([0.], device='cuda:0'), Confidence: tensor([0.4070], device='cuda:0'), Box: tensor([[267.7673, 160.9836, 322.1577, 187.7278]], device='cuda:0')\n",
      "\n",
      "image 1/1 c:\\Users\\User\\Desktop\\Object_Detection\\Pistols\\datasets\\test\\images\\armas (2996)_jpg.rf.4a7406257e12436a6126489f5054367b.jpg: 416x416 1 pistol, 9.1ms\n",
      "Speed: 0.0ms preprocess, 9.1ms inference, 1.1ms postprocess per image at shape (1, 3, 416, 416)\n",
      "Results for armas (2996)_jpg.rf.4a7406257e12436a6126489f5054367b.jpg:\n",
      "Class: tensor([0.], device='cuda:0'), Confidence: tensor([0.9339], device='cuda:0'), Box: tensor([[ 12.7778,  35.1850, 231.6049, 384.5045]], device='cuda:0')\n",
      "\n",
      "image 1/1 c:\\Users\\User\\Desktop\\Object_Detection\\Pistols\\datasets\\test\\images\\armas (2997)_jpg.rf.3b0d20ed317d154157619c50d602894b.jpg: 416x416 2 pistols, 8.1ms\n",
      "Speed: 1.0ms preprocess, 8.1ms inference, 0.7ms postprocess per image at shape (1, 3, 416, 416)\n",
      "Results for armas (2997)_jpg.rf.3b0d20ed317d154157619c50d602894b.jpg:\n",
      "Class: tensor([0.], device='cuda:0'), Confidence: tensor([0.6964], device='cuda:0'), Box: tensor([[ 43.5565,   0.0000, 292.2153, 416.0000]], device='cuda:0')\n",
      "Class: tensor([0.], device='cuda:0'), Confidence: tensor([0.3289], device='cuda:0'), Box: tensor([[ 43.9970,   0.0000, 214.1076, 415.4568]], device='cuda:0')\n",
      "\n",
      "image 1/1 c:\\Users\\User\\Desktop\\Object_Detection\\Pistols\\datasets\\test\\images\\armas (2998)_jpg.rf.3770cccdb661ac69c0035ed0e93c5de9.jpg: 416x416 2 pistols, 10.7ms\n",
      "Speed: 0.0ms preprocess, 10.7ms inference, 1.5ms postprocess per image at shape (1, 3, 416, 416)\n",
      "Results for armas (2998)_jpg.rf.3770cccdb661ac69c0035ed0e93c5de9.jpg:\n",
      "Class: tensor([0.], device='cuda:0'), Confidence: tensor([0.7743], device='cuda:0'), Box: tensor([[162.2133,  73.7044, 288.1357, 219.1661]], device='cuda:0')\n",
      "Class: tensor([0.], device='cuda:0'), Confidence: tensor([0.6199], device='cuda:0'), Box: tensor([[232.0464, 168.9026, 352.7964, 382.4388]], device='cuda:0')\n",
      "\n",
      "image 1/1 c:\\Users\\User\\Desktop\\Object_Detection\\Pistols\\datasets\\test\\images\\armas (2999)_jpg.rf.7f995a519a41b6c397ef6e6ae7c2326b.jpg: 416x416 1 pistol, 8.2ms\n",
      "Speed: 0.0ms preprocess, 8.2ms inference, 3.9ms postprocess per image at shape (1, 3, 416, 416)\n",
      "Results for armas (2999)_jpg.rf.7f995a519a41b6c397ef6e6ae7c2326b.jpg:\n",
      "Class: tensor([0.], device='cuda:0'), Confidence: tensor([0.9604], device='cuda:0'), Box: tensor([[  0.6652,   6.3405, 409.7682, 406.7122]], device='cuda:0')\n",
      "\n",
      "image 1/1 c:\\Users\\User\\Desktop\\Object_Detection\\Pistols\\datasets\\test\\images\\armas (3000)_jpg.rf.20c7bfb13fb9cd35984c0adaccc66dbf.jpg: 416x416 4 pistols, 9.4ms\n",
      "Speed: 0.0ms preprocess, 9.4ms inference, 1.0ms postprocess per image at shape (1, 3, 416, 416)\n",
      "Results for armas (3000)_jpg.rf.20c7bfb13fb9cd35984c0adaccc66dbf.jpg:\n",
      "Class: tensor([0.], device='cuda:0'), Confidence: tensor([0.8212], device='cuda:0'), Box: tensor([[193.4723, 135.6490, 217.7720, 201.6235]], device='cuda:0')\n",
      "Class: tensor([0.], device='cuda:0'), Confidence: tensor([0.7212], device='cuda:0'), Box: tensor([[ 32.2786, 168.3956,  49.3584, 207.3311]], device='cuda:0')\n",
      "Class: tensor([0.], device='cuda:0'), Confidence: tensor([0.3165], device='cuda:0'), Box: tensor([[ 32.2716, 167.7277,  51.4639, 220.7897]], device='cuda:0')\n",
      "Class: tensor([0.], device='cuda:0'), Confidence: tensor([0.2634], device='cuda:0'), Box: tensor([[190.2760, 131.3803, 218.5139, 230.8181]], device='cuda:0')\n"
     ]
    }
   ],
   "source": [
    "from ultralytics import YOLO\n",
    "import os\n",
    "\n",
    "# Load the trained model\n",
    "model = YOLO('best.pt')  # Path to the trained weights\n",
    "\n",
    "# Paths to test images and output directory\n",
    "test_images_path = 'datasets/test/images'\n",
    "output_path = 'datasets/prediction'\n",
    "\n",
    "# Create the output directory if it doesn't exist\n",
    "os.makedirs(output_path, exist_ok=True)\n",
    "\n",
    "# Perform inference on all images in the test images folder\n",
    "for img_file in os.listdir(test_images_path):\n",
    "    # Construct full path to the image\n",
    "    img_path = os.path.join(test_images_path, img_file)\n",
    "    \n",
    "    # Ensure the file is an image (you can add more extensions if needed)\n",
    "    if img_file.endswith(('.jpg', '.jpeg', '.png')):\n",
    "        # Inference on the image\n",
    "        results = model(img_path)\n",
    "        \n",
    "        # Save the result for each individual image\n",
    "        for result in results:  # Iterate over the results\n",
    "            result_path = os.path.join(output_path, img_file)  # Define output path\n",
    "            result.save(result_path)  # Save the result in the output directory\n",
    "        \n",
    "        # Optional: Print the predictions (class, confidence, and bounding box)\n",
    "        print(f\"Results for {img_file}:\")\n",
    "        boxes = results[0].boxes  # Get the first result (in case there are multiple)\n",
    "        for box in boxes:\n",
    "            print(f\"Class: {box.cls}, Confidence: {box.conf}, Box: {box.xyxy}\")"
   ]
  }
 ],
 "metadata": {
  "kernelspec": {
   "display_name": "py310",
   "language": "python",
   "name": "python3"
  },
  "language_info": {
   "codemirror_mode": {
    "name": "ipython",
    "version": 3
   },
   "file_extension": ".py",
   "mimetype": "text/x-python",
   "name": "python",
   "nbconvert_exporter": "python",
   "pygments_lexer": "ipython3",
   "version": "3.10.15"
  }
 },
 "nbformat": 4,
 "nbformat_minor": 2
}
